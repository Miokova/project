{
  "cells": [
    {
      "cell_type": "markdown",
      "metadata": {
        "id": "VeusIztEGKyV"
      },
      "source": [
        "<h1>Проект по SQL</h1>"
      ]
    },
    {
      "cell_type": "markdown",
      "metadata": {
        "id": "sJQ54cEpGKyV"
      },
      "source": [
        "Коронавирус застал мир врасплох, изменив привычный порядок вещей. На какое-то время жители городов перестали выходить на улицу, посещать кафе и торговые центры. Зато появилось больше времени на книги. Стартапы заметили это и бросились создавать приложения для тех, кто любит читать.\n",
        "Наша компания решила быть на волне и купила крупный сервис подписки на чтение книг.\n",
        "\n",
        "Задача проекта - проанализировать базу данных.\n",
        "\n",
        "Цели исследования:\n",
        "\n",
        "- Подсчитать, сколько книг было издано после 1 января 2000 года.\n",
        "- Для каждой книги подсчитать количество рецензий и средний рейтинг.\n",
        "- Определить издательство, выпустившее наибольшее количество книг объемом более 50 страниц.\n",
        "- Найти автора с самым высоким средним рейтингом для книги, учитывая только книги с 50 и более рейтингами.\n",
        "- Подсчитайть среднее количество рецензий от пользователей, поставивших более 48 оценок."
      ]
    },
    {
      "cell_type": "code",
      "execution_count": null,
      "metadata": {
        "id": "ay0VwHUTGKyW"
      },
      "outputs": [],
      "source": [
        "import pandas as pd\n",
        "from sqlalchemy import text, create_engine"
      ]
    },
    {
      "cell_type": "code",
      "execution_count": null,
      "metadata": {
        "id": "6ZX3csYPGKyX"
      },
      "outputs": [],
      "source": [
        "db_config = {'user': 'praktikum_student',\n",
        "'pwd': 'Sdf4$2;d-d30pp',\n",
        "'host': 'rc1b-wcoijxj3yxfsf3fs.mdb.yandexcloud.net',\n",
        "'port': 6432,\n",
        "'db': 'data-analyst-final-project-db'}\n",
        "connection_string = 'postgresql://{user}:{pwd}@{host}:{port}/{db}'.format(**db_config)"
      ]
    },
    {
      "cell_type": "code",
      "execution_count": null,
      "metadata": {
        "id": "MS_4aKtEGKyX"
      },
      "outputs": [],
      "source": [
        "engine = create_engine(connection_string, connect_args={'sslmode':'require'})"
      ]
    },
    {
      "cell_type": "markdown",
      "metadata": {
        "id": "XrYzQviPGKyX"
      },
      "source": [
        "#### Исследование таблиц. Вывод первых строк и подсчет количества строк в каждой таблице."
      ]
    },
    {
      "cell_type": "markdown",
      "metadata": {
        "id": "FgO-9vutGKyX"
      },
      "source": [
        "Вывод первых строк и подсчет количества строк в таблице books."
      ]
    },
    {
      "cell_type": "code",
      "execution_count": null,
      "metadata": {
        "id": "QUsFP7DcGKyX",
        "outputId": "cd8e0983-1097-444a-d8ec-05643e175340",
        "colab": {
          "base_uri": "https://localhost:8080/",
          "height": 206
        }
      },
      "outputs": [
        {
          "output_type": "execute_result",
          "data": {
            "text/plain": [
              "   book_id  author_id                                              title  \\\n",
              "0        1        546                                       'Salem's Lot   \n",
              "1        2        465                 1 000 Places to See Before You Die   \n",
              "2        3        407  13 Little Blue Envelopes (Little Blue Envelope...   \n",
              "3        4         82  1491: New Revelations of the Americas Before C...   \n",
              "4        5        125                                               1776   \n",
              "\n",
              "   num_pages publication_date  publisher_id  \n",
              "0        594       2005-11-01            93  \n",
              "1        992       2003-05-22           336  \n",
              "2        322       2010-12-21           135  \n",
              "3        541       2006-10-10           309  \n",
              "4        386       2006-07-04           268  "
            ],
            "text/html": [
              "\n",
              "  <div id=\"df-469edd4f-18b4-40ff-b442-de68579cac72\" class=\"colab-df-container\">\n",
              "    <div>\n",
              "<style scoped>\n",
              "    .dataframe tbody tr th:only-of-type {\n",
              "        vertical-align: middle;\n",
              "    }\n",
              "\n",
              "    .dataframe tbody tr th {\n",
              "        vertical-align: top;\n",
              "    }\n",
              "\n",
              "    .dataframe thead th {\n",
              "        text-align: right;\n",
              "    }\n",
              "</style>\n",
              "<table border=\"1\" class=\"dataframe\">\n",
              "  <thead>\n",
              "    <tr style=\"text-align: right;\">\n",
              "      <th></th>\n",
              "      <th>book_id</th>\n",
              "      <th>author_id</th>\n",
              "      <th>title</th>\n",
              "      <th>num_pages</th>\n",
              "      <th>publication_date</th>\n",
              "      <th>publisher_id</th>\n",
              "    </tr>\n",
              "  </thead>\n",
              "  <tbody>\n",
              "    <tr>\n",
              "      <th>0</th>\n",
              "      <td>1</td>\n",
              "      <td>546</td>\n",
              "      <td>'Salem's Lot</td>\n",
              "      <td>594</td>\n",
              "      <td>2005-11-01</td>\n",
              "      <td>93</td>\n",
              "    </tr>\n",
              "    <tr>\n",
              "      <th>1</th>\n",
              "      <td>2</td>\n",
              "      <td>465</td>\n",
              "      <td>1 000 Places to See Before You Die</td>\n",
              "      <td>992</td>\n",
              "      <td>2003-05-22</td>\n",
              "      <td>336</td>\n",
              "    </tr>\n",
              "    <tr>\n",
              "      <th>2</th>\n",
              "      <td>3</td>\n",
              "      <td>407</td>\n",
              "      <td>13 Little Blue Envelopes (Little Blue Envelope...</td>\n",
              "      <td>322</td>\n",
              "      <td>2010-12-21</td>\n",
              "      <td>135</td>\n",
              "    </tr>\n",
              "    <tr>\n",
              "      <th>3</th>\n",
              "      <td>4</td>\n",
              "      <td>82</td>\n",
              "      <td>1491: New Revelations of the Americas Before C...</td>\n",
              "      <td>541</td>\n",
              "      <td>2006-10-10</td>\n",
              "      <td>309</td>\n",
              "    </tr>\n",
              "    <tr>\n",
              "      <th>4</th>\n",
              "      <td>5</td>\n",
              "      <td>125</td>\n",
              "      <td>1776</td>\n",
              "      <td>386</td>\n",
              "      <td>2006-07-04</td>\n",
              "      <td>268</td>\n",
              "    </tr>\n",
              "  </tbody>\n",
              "</table>\n",
              "</div>\n",
              "    <div class=\"colab-df-buttons\">\n",
              "\n",
              "  <div class=\"colab-df-container\">\n",
              "    <button class=\"colab-df-convert\" onclick=\"convertToInteractive('df-469edd4f-18b4-40ff-b442-de68579cac72')\"\n",
              "            title=\"Convert this dataframe to an interactive table.\"\n",
              "            style=\"display:none;\">\n",
              "\n",
              "  <svg xmlns=\"http://www.w3.org/2000/svg\" height=\"24px\" viewBox=\"0 -960 960 960\">\n",
              "    <path d=\"M120-120v-720h720v720H120Zm60-500h600v-160H180v160Zm220 220h160v-160H400v160Zm0 220h160v-160H400v160ZM180-400h160v-160H180v160Zm440 0h160v-160H620v160ZM180-180h160v-160H180v160Zm440 0h160v-160H620v160Z\"/>\n",
              "  </svg>\n",
              "    </button>\n",
              "\n",
              "  <style>\n",
              "    .colab-df-container {\n",
              "      display:flex;\n",
              "      gap: 12px;\n",
              "    }\n",
              "\n",
              "    .colab-df-convert {\n",
              "      background-color: #E8F0FE;\n",
              "      border: none;\n",
              "      border-radius: 50%;\n",
              "      cursor: pointer;\n",
              "      display: none;\n",
              "      fill: #1967D2;\n",
              "      height: 32px;\n",
              "      padding: 0 0 0 0;\n",
              "      width: 32px;\n",
              "    }\n",
              "\n",
              "    .colab-df-convert:hover {\n",
              "      background-color: #E2EBFA;\n",
              "      box-shadow: 0px 1px 2px rgba(60, 64, 67, 0.3), 0px 1px 3px 1px rgba(60, 64, 67, 0.15);\n",
              "      fill: #174EA6;\n",
              "    }\n",
              "\n",
              "    .colab-df-buttons div {\n",
              "      margin-bottom: 4px;\n",
              "    }\n",
              "\n",
              "    [theme=dark] .colab-df-convert {\n",
              "      background-color: #3B4455;\n",
              "      fill: #D2E3FC;\n",
              "    }\n",
              "\n",
              "    [theme=dark] .colab-df-convert:hover {\n",
              "      background-color: #434B5C;\n",
              "      box-shadow: 0px 1px 3px 1px rgba(0, 0, 0, 0.15);\n",
              "      filter: drop-shadow(0px 1px 2px rgba(0, 0, 0, 0.3));\n",
              "      fill: #FFFFFF;\n",
              "    }\n",
              "  </style>\n",
              "\n",
              "    <script>\n",
              "      const buttonEl =\n",
              "        document.querySelector('#df-469edd4f-18b4-40ff-b442-de68579cac72 button.colab-df-convert');\n",
              "      buttonEl.style.display =\n",
              "        google.colab.kernel.accessAllowed ? 'block' : 'none';\n",
              "\n",
              "      async function convertToInteractive(key) {\n",
              "        const element = document.querySelector('#df-469edd4f-18b4-40ff-b442-de68579cac72');\n",
              "        const dataTable =\n",
              "          await google.colab.kernel.invokeFunction('convertToInteractive',\n",
              "                                                    [key], {});\n",
              "        if (!dataTable) return;\n",
              "\n",
              "        const docLinkHtml = 'Like what you see? Visit the ' +\n",
              "          '<a target=\"_blank\" href=https://colab.research.google.com/notebooks/data_table.ipynb>data table notebook</a>'\n",
              "          + ' to learn more about interactive tables.';\n",
              "        element.innerHTML = '';\n",
              "        dataTable['output_type'] = 'display_data';\n",
              "        await google.colab.output.renderOutput(dataTable, element);\n",
              "        const docLink = document.createElement('div');\n",
              "        docLink.innerHTML = docLinkHtml;\n",
              "        element.appendChild(docLink);\n",
              "      }\n",
              "    </script>\n",
              "  </div>\n",
              "\n",
              "\n",
              "<div id=\"df-9a758168-f6a6-4ede-9420-93f6d1be02e6\">\n",
              "  <button class=\"colab-df-quickchart\" onclick=\"quickchart('df-9a758168-f6a6-4ede-9420-93f6d1be02e6')\"\n",
              "            title=\"Suggest charts\"\n",
              "            style=\"display:none;\">\n",
              "\n",
              "<svg xmlns=\"http://www.w3.org/2000/svg\" height=\"24px\"viewBox=\"0 0 24 24\"\n",
              "     width=\"24px\">\n",
              "    <g>\n",
              "        <path d=\"M19 3H5c-1.1 0-2 .9-2 2v14c0 1.1.9 2 2 2h14c1.1 0 2-.9 2-2V5c0-1.1-.9-2-2-2zM9 17H7v-7h2v7zm4 0h-2V7h2v10zm4 0h-2v-4h2v4z\"/>\n",
              "    </g>\n",
              "</svg>\n",
              "  </button>\n",
              "\n",
              "<style>\n",
              "  .colab-df-quickchart {\n",
              "      --bg-color: #E8F0FE;\n",
              "      --fill-color: #1967D2;\n",
              "      --hover-bg-color: #E2EBFA;\n",
              "      --hover-fill-color: #174EA6;\n",
              "      --disabled-fill-color: #AAA;\n",
              "      --disabled-bg-color: #DDD;\n",
              "  }\n",
              "\n",
              "  [theme=dark] .colab-df-quickchart {\n",
              "      --bg-color: #3B4455;\n",
              "      --fill-color: #D2E3FC;\n",
              "      --hover-bg-color: #434B5C;\n",
              "      --hover-fill-color: #FFFFFF;\n",
              "      --disabled-bg-color: #3B4455;\n",
              "      --disabled-fill-color: #666;\n",
              "  }\n",
              "\n",
              "  .colab-df-quickchart {\n",
              "    background-color: var(--bg-color);\n",
              "    border: none;\n",
              "    border-radius: 50%;\n",
              "    cursor: pointer;\n",
              "    display: none;\n",
              "    fill: var(--fill-color);\n",
              "    height: 32px;\n",
              "    padding: 0;\n",
              "    width: 32px;\n",
              "  }\n",
              "\n",
              "  .colab-df-quickchart:hover {\n",
              "    background-color: var(--hover-bg-color);\n",
              "    box-shadow: 0 1px 2px rgba(60, 64, 67, 0.3), 0 1px 3px 1px rgba(60, 64, 67, 0.15);\n",
              "    fill: var(--button-hover-fill-color);\n",
              "  }\n",
              "\n",
              "  .colab-df-quickchart-complete:disabled,\n",
              "  .colab-df-quickchart-complete:disabled:hover {\n",
              "    background-color: var(--disabled-bg-color);\n",
              "    fill: var(--disabled-fill-color);\n",
              "    box-shadow: none;\n",
              "  }\n",
              "\n",
              "  .colab-df-spinner {\n",
              "    border: 2px solid var(--fill-color);\n",
              "    border-color: transparent;\n",
              "    border-bottom-color: var(--fill-color);\n",
              "    animation:\n",
              "      spin 1s steps(1) infinite;\n",
              "  }\n",
              "\n",
              "  @keyframes spin {\n",
              "    0% {\n",
              "      border-color: transparent;\n",
              "      border-bottom-color: var(--fill-color);\n",
              "      border-left-color: var(--fill-color);\n",
              "    }\n",
              "    20% {\n",
              "      border-color: transparent;\n",
              "      border-left-color: var(--fill-color);\n",
              "      border-top-color: var(--fill-color);\n",
              "    }\n",
              "    30% {\n",
              "      border-color: transparent;\n",
              "      border-left-color: var(--fill-color);\n",
              "      border-top-color: var(--fill-color);\n",
              "      border-right-color: var(--fill-color);\n",
              "    }\n",
              "    40% {\n",
              "      border-color: transparent;\n",
              "      border-right-color: var(--fill-color);\n",
              "      border-top-color: var(--fill-color);\n",
              "    }\n",
              "    60% {\n",
              "      border-color: transparent;\n",
              "      border-right-color: var(--fill-color);\n",
              "    }\n",
              "    80% {\n",
              "      border-color: transparent;\n",
              "      border-right-color: var(--fill-color);\n",
              "      border-bottom-color: var(--fill-color);\n",
              "    }\n",
              "    90% {\n",
              "      border-color: transparent;\n",
              "      border-bottom-color: var(--fill-color);\n",
              "    }\n",
              "  }\n",
              "</style>\n",
              "\n",
              "  <script>\n",
              "    async function quickchart(key) {\n",
              "      const quickchartButtonEl =\n",
              "        document.querySelector('#' + key + ' button');\n",
              "      quickchartButtonEl.disabled = true;  // To prevent multiple clicks.\n",
              "      quickchartButtonEl.classList.add('colab-df-spinner');\n",
              "      try {\n",
              "        const charts = await google.colab.kernel.invokeFunction(\n",
              "            'suggestCharts', [key], {});\n",
              "      } catch (error) {\n",
              "        console.error('Error during call to suggestCharts:', error);\n",
              "      }\n",
              "      quickchartButtonEl.classList.remove('colab-df-spinner');\n",
              "      quickchartButtonEl.classList.add('colab-df-quickchart-complete');\n",
              "    }\n",
              "    (() => {\n",
              "      let quickchartButtonEl =\n",
              "        document.querySelector('#df-9a758168-f6a6-4ede-9420-93f6d1be02e6 button');\n",
              "      quickchartButtonEl.style.display =\n",
              "        google.colab.kernel.accessAllowed ? 'block' : 'none';\n",
              "    })();\n",
              "  </script>\n",
              "</div>\n",
              "\n",
              "    </div>\n",
              "  </div>\n"
            ],
            "application/vnd.google.colaboratory.intrinsic+json": {
              "type": "dataframe",
              "summary": "{\n  \"name\": \"pd\",\n  \"rows\": 5,\n  \"fields\": [\n    {\n      \"column\": \"book_id\",\n      \"properties\": {\n        \"dtype\": \"number\",\n        \"std\": 1,\n        \"min\": 1,\n        \"max\": 5,\n        \"num_unique_values\": 5,\n        \"samples\": [\n          2,\n          5,\n          3\n        ],\n        \"semantic_type\": \"\",\n        \"description\": \"\"\n      }\n    },\n    {\n      \"column\": \"author_id\",\n      \"properties\": {\n        \"dtype\": \"number\",\n        \"std\": 208,\n        \"min\": 82,\n        \"max\": 546,\n        \"num_unique_values\": 5,\n        \"samples\": [\n          465,\n          125,\n          407\n        ],\n        \"semantic_type\": \"\",\n        \"description\": \"\"\n      }\n    },\n    {\n      \"column\": \"title\",\n      \"properties\": {\n        \"dtype\": \"string\",\n        \"num_unique_values\": 5,\n        \"samples\": [\n          \"1 000 Places to See Before You Die\",\n          \"1776\",\n          \"13 Little Blue Envelopes (Little Blue Envelope  #1)\"\n        ],\n        \"semantic_type\": \"\",\n        \"description\": \"\"\n      }\n    },\n    {\n      \"column\": \"num_pages\",\n      \"properties\": {\n        \"dtype\": \"number\",\n        \"std\": 262,\n        \"min\": 322,\n        \"max\": 992,\n        \"num_unique_values\": 5,\n        \"samples\": [\n          992,\n          386,\n          322\n        ],\n        \"semantic_type\": \"\",\n        \"description\": \"\"\n      }\n    },\n    {\n      \"column\": \"publication_date\",\n      \"properties\": {\n        \"dtype\": \"date\",\n        \"min\": \"2003-05-22\",\n        \"max\": \"2010-12-21\",\n        \"num_unique_values\": 5,\n        \"samples\": [\n          \"2003-05-22\",\n          \"2006-07-04\",\n          \"2010-12-21\"\n        ],\n        \"semantic_type\": \"\",\n        \"description\": \"\"\n      }\n    },\n    {\n      \"column\": \"publisher_id\",\n      \"properties\": {\n        \"dtype\": \"number\",\n        \"std\": 108,\n        \"min\": 93,\n        \"max\": 336,\n        \"num_unique_values\": 5,\n        \"samples\": [\n          336,\n          268,\n          135\n        ],\n        \"semantic_type\": \"\",\n        \"description\": \"\"\n      }\n    }\n  ]\n}"
            }
          },
          "metadata": {},
          "execution_count": 4
        }
      ],
      "source": [
        "query = '''SELECT * FROM books LIMIT 5'''\n",
        "con=engine.connect()\n",
        "pd.io.sql.read_sql(sql=text(query), con = con)"
      ]
    },
    {
      "cell_type": "code",
      "execution_count": null,
      "metadata": {
        "id": "qi7cUgSGGKyY",
        "outputId": "fc70ca8b-3968-4d4e-d4fd-0624672aa270",
        "colab": {
          "base_uri": "https://localhost:8080/",
          "height": 81
        }
      },
      "outputs": [
        {
          "output_type": "execute_result",
          "data": {
            "text/plain": [
              "   book_count\n",
              "0        1000"
            ],
            "text/html": [
              "\n",
              "  <div id=\"df-ed33d474-9043-4ea0-8748-2820db244775\" class=\"colab-df-container\">\n",
              "    <div>\n",
              "<style scoped>\n",
              "    .dataframe tbody tr th:only-of-type {\n",
              "        vertical-align: middle;\n",
              "    }\n",
              "\n",
              "    .dataframe tbody tr th {\n",
              "        vertical-align: top;\n",
              "    }\n",
              "\n",
              "    .dataframe thead th {\n",
              "        text-align: right;\n",
              "    }\n",
              "</style>\n",
              "<table border=\"1\" class=\"dataframe\">\n",
              "  <thead>\n",
              "    <tr style=\"text-align: right;\">\n",
              "      <th></th>\n",
              "      <th>book_count</th>\n",
              "    </tr>\n",
              "  </thead>\n",
              "  <tbody>\n",
              "    <tr>\n",
              "      <th>0</th>\n",
              "      <td>1000</td>\n",
              "    </tr>\n",
              "  </tbody>\n",
              "</table>\n",
              "</div>\n",
              "    <div class=\"colab-df-buttons\">\n",
              "\n",
              "  <div class=\"colab-df-container\">\n",
              "    <button class=\"colab-df-convert\" onclick=\"convertToInteractive('df-ed33d474-9043-4ea0-8748-2820db244775')\"\n",
              "            title=\"Convert this dataframe to an interactive table.\"\n",
              "            style=\"display:none;\">\n",
              "\n",
              "  <svg xmlns=\"http://www.w3.org/2000/svg\" height=\"24px\" viewBox=\"0 -960 960 960\">\n",
              "    <path d=\"M120-120v-720h720v720H120Zm60-500h600v-160H180v160Zm220 220h160v-160H400v160Zm0 220h160v-160H400v160ZM180-400h160v-160H180v160Zm440 0h160v-160H620v160ZM180-180h160v-160H180v160Zm440 0h160v-160H620v160Z\"/>\n",
              "  </svg>\n",
              "    </button>\n",
              "\n",
              "  <style>\n",
              "    .colab-df-container {\n",
              "      display:flex;\n",
              "      gap: 12px;\n",
              "    }\n",
              "\n",
              "    .colab-df-convert {\n",
              "      background-color: #E8F0FE;\n",
              "      border: none;\n",
              "      border-radius: 50%;\n",
              "      cursor: pointer;\n",
              "      display: none;\n",
              "      fill: #1967D2;\n",
              "      height: 32px;\n",
              "      padding: 0 0 0 0;\n",
              "      width: 32px;\n",
              "    }\n",
              "\n",
              "    .colab-df-convert:hover {\n",
              "      background-color: #E2EBFA;\n",
              "      box-shadow: 0px 1px 2px rgba(60, 64, 67, 0.3), 0px 1px 3px 1px rgba(60, 64, 67, 0.15);\n",
              "      fill: #174EA6;\n",
              "    }\n",
              "\n",
              "    .colab-df-buttons div {\n",
              "      margin-bottom: 4px;\n",
              "    }\n",
              "\n",
              "    [theme=dark] .colab-df-convert {\n",
              "      background-color: #3B4455;\n",
              "      fill: #D2E3FC;\n",
              "    }\n",
              "\n",
              "    [theme=dark] .colab-df-convert:hover {\n",
              "      background-color: #434B5C;\n",
              "      box-shadow: 0px 1px 3px 1px rgba(0, 0, 0, 0.15);\n",
              "      filter: drop-shadow(0px 1px 2px rgba(0, 0, 0, 0.3));\n",
              "      fill: #FFFFFF;\n",
              "    }\n",
              "  </style>\n",
              "\n",
              "    <script>\n",
              "      const buttonEl =\n",
              "        document.querySelector('#df-ed33d474-9043-4ea0-8748-2820db244775 button.colab-df-convert');\n",
              "      buttonEl.style.display =\n",
              "        google.colab.kernel.accessAllowed ? 'block' : 'none';\n",
              "\n",
              "      async function convertToInteractive(key) {\n",
              "        const element = document.querySelector('#df-ed33d474-9043-4ea0-8748-2820db244775');\n",
              "        const dataTable =\n",
              "          await google.colab.kernel.invokeFunction('convertToInteractive',\n",
              "                                                    [key], {});\n",
              "        if (!dataTable) return;\n",
              "\n",
              "        const docLinkHtml = 'Like what you see? Visit the ' +\n",
              "          '<a target=\"_blank\" href=https://colab.research.google.com/notebooks/data_table.ipynb>data table notebook</a>'\n",
              "          + ' to learn more about interactive tables.';\n",
              "        element.innerHTML = '';\n",
              "        dataTable['output_type'] = 'display_data';\n",
              "        await google.colab.output.renderOutput(dataTable, element);\n",
              "        const docLink = document.createElement('div');\n",
              "        docLink.innerHTML = docLinkHtml;\n",
              "        element.appendChild(docLink);\n",
              "      }\n",
              "    </script>\n",
              "  </div>\n",
              "\n",
              "\n",
              "    </div>\n",
              "  </div>\n"
            ],
            "application/vnd.google.colaboratory.intrinsic+json": {
              "type": "dataframe",
              "summary": "{\n  \"name\": \"pd\",\n  \"rows\": 1,\n  \"fields\": [\n    {\n      \"column\": \"book_count\",\n      \"properties\": {\n        \"dtype\": \"number\",\n        \"std\": null,\n        \"min\": 1000,\n        \"max\": 1000,\n        \"num_unique_values\": 1,\n        \"samples\": [\n          1000\n        ],\n        \"semantic_type\": \"\",\n        \"description\": \"\"\n      }\n    }\n  ]\n}"
            }
          },
          "metadata": {},
          "execution_count": 5
        }
      ],
      "source": [
        "query = '''SELECT COUNT(*) AS book_count FROM books'''\n",
        "con=engine.connect()\n",
        "pd.io.sql.read_sql(sql=text(query), con = con)"
      ]
    },
    {
      "cell_type": "markdown",
      "metadata": {
        "id": "Y08R3Y6cGKyZ"
      },
      "source": [
        "Вывод первых строк и подсчет количества строк в таблице authors."
      ]
    },
    {
      "cell_type": "code",
      "execution_count": null,
      "metadata": {
        "id": "_1WD1YJpGKyZ",
        "outputId": "2ae01c02-d744-43d5-9332-6c2b71e4a973",
        "colab": {
          "base_uri": "https://localhost:8080/",
          "height": 206
        }
      },
      "outputs": [
        {
          "output_type": "execute_result",
          "data": {
            "text/plain": [
              "   author_id                          author\n",
              "0          1                      A.S. Byatt\n",
              "1          2  Aesop/Laura Harris/Laura Gibbs\n",
              "2          3                 Agatha Christie\n",
              "3          4                   Alan Brennert\n",
              "4          5        Alan Moore/David   Lloyd"
            ],
            "text/html": [
              "\n",
              "  <div id=\"df-e40b3c6c-7a5b-40da-96a1-13ba5a41053f\" class=\"colab-df-container\">\n",
              "    <div>\n",
              "<style scoped>\n",
              "    .dataframe tbody tr th:only-of-type {\n",
              "        vertical-align: middle;\n",
              "    }\n",
              "\n",
              "    .dataframe tbody tr th {\n",
              "        vertical-align: top;\n",
              "    }\n",
              "\n",
              "    .dataframe thead th {\n",
              "        text-align: right;\n",
              "    }\n",
              "</style>\n",
              "<table border=\"1\" class=\"dataframe\">\n",
              "  <thead>\n",
              "    <tr style=\"text-align: right;\">\n",
              "      <th></th>\n",
              "      <th>author_id</th>\n",
              "      <th>author</th>\n",
              "    </tr>\n",
              "  </thead>\n",
              "  <tbody>\n",
              "    <tr>\n",
              "      <th>0</th>\n",
              "      <td>1</td>\n",
              "      <td>A.S. Byatt</td>\n",
              "    </tr>\n",
              "    <tr>\n",
              "      <th>1</th>\n",
              "      <td>2</td>\n",
              "      <td>Aesop/Laura Harris/Laura Gibbs</td>\n",
              "    </tr>\n",
              "    <tr>\n",
              "      <th>2</th>\n",
              "      <td>3</td>\n",
              "      <td>Agatha Christie</td>\n",
              "    </tr>\n",
              "    <tr>\n",
              "      <th>3</th>\n",
              "      <td>4</td>\n",
              "      <td>Alan Brennert</td>\n",
              "    </tr>\n",
              "    <tr>\n",
              "      <th>4</th>\n",
              "      <td>5</td>\n",
              "      <td>Alan Moore/David   Lloyd</td>\n",
              "    </tr>\n",
              "  </tbody>\n",
              "</table>\n",
              "</div>\n",
              "    <div class=\"colab-df-buttons\">\n",
              "\n",
              "  <div class=\"colab-df-container\">\n",
              "    <button class=\"colab-df-convert\" onclick=\"convertToInteractive('df-e40b3c6c-7a5b-40da-96a1-13ba5a41053f')\"\n",
              "            title=\"Convert this dataframe to an interactive table.\"\n",
              "            style=\"display:none;\">\n",
              "\n",
              "  <svg xmlns=\"http://www.w3.org/2000/svg\" height=\"24px\" viewBox=\"0 -960 960 960\">\n",
              "    <path d=\"M120-120v-720h720v720H120Zm60-500h600v-160H180v160Zm220 220h160v-160H400v160Zm0 220h160v-160H400v160ZM180-400h160v-160H180v160Zm440 0h160v-160H620v160ZM180-180h160v-160H180v160Zm440 0h160v-160H620v160Z\"/>\n",
              "  </svg>\n",
              "    </button>\n",
              "\n",
              "  <style>\n",
              "    .colab-df-container {\n",
              "      display:flex;\n",
              "      gap: 12px;\n",
              "    }\n",
              "\n",
              "    .colab-df-convert {\n",
              "      background-color: #E8F0FE;\n",
              "      border: none;\n",
              "      border-radius: 50%;\n",
              "      cursor: pointer;\n",
              "      display: none;\n",
              "      fill: #1967D2;\n",
              "      height: 32px;\n",
              "      padding: 0 0 0 0;\n",
              "      width: 32px;\n",
              "    }\n",
              "\n",
              "    .colab-df-convert:hover {\n",
              "      background-color: #E2EBFA;\n",
              "      box-shadow: 0px 1px 2px rgba(60, 64, 67, 0.3), 0px 1px 3px 1px rgba(60, 64, 67, 0.15);\n",
              "      fill: #174EA6;\n",
              "    }\n",
              "\n",
              "    .colab-df-buttons div {\n",
              "      margin-bottom: 4px;\n",
              "    }\n",
              "\n",
              "    [theme=dark] .colab-df-convert {\n",
              "      background-color: #3B4455;\n",
              "      fill: #D2E3FC;\n",
              "    }\n",
              "\n",
              "    [theme=dark] .colab-df-convert:hover {\n",
              "      background-color: #434B5C;\n",
              "      box-shadow: 0px 1px 3px 1px rgba(0, 0, 0, 0.15);\n",
              "      filter: drop-shadow(0px 1px 2px rgba(0, 0, 0, 0.3));\n",
              "      fill: #FFFFFF;\n",
              "    }\n",
              "  </style>\n",
              "\n",
              "    <script>\n",
              "      const buttonEl =\n",
              "        document.querySelector('#df-e40b3c6c-7a5b-40da-96a1-13ba5a41053f button.colab-df-convert');\n",
              "      buttonEl.style.display =\n",
              "        google.colab.kernel.accessAllowed ? 'block' : 'none';\n",
              "\n",
              "      async function convertToInteractive(key) {\n",
              "        const element = document.querySelector('#df-e40b3c6c-7a5b-40da-96a1-13ba5a41053f');\n",
              "        const dataTable =\n",
              "          await google.colab.kernel.invokeFunction('convertToInteractive',\n",
              "                                                    [key], {});\n",
              "        if (!dataTable) return;\n",
              "\n",
              "        const docLinkHtml = 'Like what you see? Visit the ' +\n",
              "          '<a target=\"_blank\" href=https://colab.research.google.com/notebooks/data_table.ipynb>data table notebook</a>'\n",
              "          + ' to learn more about interactive tables.';\n",
              "        element.innerHTML = '';\n",
              "        dataTable['output_type'] = 'display_data';\n",
              "        await google.colab.output.renderOutput(dataTable, element);\n",
              "        const docLink = document.createElement('div');\n",
              "        docLink.innerHTML = docLinkHtml;\n",
              "        element.appendChild(docLink);\n",
              "      }\n",
              "    </script>\n",
              "  </div>\n",
              "\n",
              "\n",
              "<div id=\"df-486a2f8d-9173-4665-ba88-1232f21e0d51\">\n",
              "  <button class=\"colab-df-quickchart\" onclick=\"quickchart('df-486a2f8d-9173-4665-ba88-1232f21e0d51')\"\n",
              "            title=\"Suggest charts\"\n",
              "            style=\"display:none;\">\n",
              "\n",
              "<svg xmlns=\"http://www.w3.org/2000/svg\" height=\"24px\"viewBox=\"0 0 24 24\"\n",
              "     width=\"24px\">\n",
              "    <g>\n",
              "        <path d=\"M19 3H5c-1.1 0-2 .9-2 2v14c0 1.1.9 2 2 2h14c1.1 0 2-.9 2-2V5c0-1.1-.9-2-2-2zM9 17H7v-7h2v7zm4 0h-2V7h2v10zm4 0h-2v-4h2v4z\"/>\n",
              "    </g>\n",
              "</svg>\n",
              "  </button>\n",
              "\n",
              "<style>\n",
              "  .colab-df-quickchart {\n",
              "      --bg-color: #E8F0FE;\n",
              "      --fill-color: #1967D2;\n",
              "      --hover-bg-color: #E2EBFA;\n",
              "      --hover-fill-color: #174EA6;\n",
              "      --disabled-fill-color: #AAA;\n",
              "      --disabled-bg-color: #DDD;\n",
              "  }\n",
              "\n",
              "  [theme=dark] .colab-df-quickchart {\n",
              "      --bg-color: #3B4455;\n",
              "      --fill-color: #D2E3FC;\n",
              "      --hover-bg-color: #434B5C;\n",
              "      --hover-fill-color: #FFFFFF;\n",
              "      --disabled-bg-color: #3B4455;\n",
              "      --disabled-fill-color: #666;\n",
              "  }\n",
              "\n",
              "  .colab-df-quickchart {\n",
              "    background-color: var(--bg-color);\n",
              "    border: none;\n",
              "    border-radius: 50%;\n",
              "    cursor: pointer;\n",
              "    display: none;\n",
              "    fill: var(--fill-color);\n",
              "    height: 32px;\n",
              "    padding: 0;\n",
              "    width: 32px;\n",
              "  }\n",
              "\n",
              "  .colab-df-quickchart:hover {\n",
              "    background-color: var(--hover-bg-color);\n",
              "    box-shadow: 0 1px 2px rgba(60, 64, 67, 0.3), 0 1px 3px 1px rgba(60, 64, 67, 0.15);\n",
              "    fill: var(--button-hover-fill-color);\n",
              "  }\n",
              "\n",
              "  .colab-df-quickchart-complete:disabled,\n",
              "  .colab-df-quickchart-complete:disabled:hover {\n",
              "    background-color: var(--disabled-bg-color);\n",
              "    fill: var(--disabled-fill-color);\n",
              "    box-shadow: none;\n",
              "  }\n",
              "\n",
              "  .colab-df-spinner {\n",
              "    border: 2px solid var(--fill-color);\n",
              "    border-color: transparent;\n",
              "    border-bottom-color: var(--fill-color);\n",
              "    animation:\n",
              "      spin 1s steps(1) infinite;\n",
              "  }\n",
              "\n",
              "  @keyframes spin {\n",
              "    0% {\n",
              "      border-color: transparent;\n",
              "      border-bottom-color: var(--fill-color);\n",
              "      border-left-color: var(--fill-color);\n",
              "    }\n",
              "    20% {\n",
              "      border-color: transparent;\n",
              "      border-left-color: var(--fill-color);\n",
              "      border-top-color: var(--fill-color);\n",
              "    }\n",
              "    30% {\n",
              "      border-color: transparent;\n",
              "      border-left-color: var(--fill-color);\n",
              "      border-top-color: var(--fill-color);\n",
              "      border-right-color: var(--fill-color);\n",
              "    }\n",
              "    40% {\n",
              "      border-color: transparent;\n",
              "      border-right-color: var(--fill-color);\n",
              "      border-top-color: var(--fill-color);\n",
              "    }\n",
              "    60% {\n",
              "      border-color: transparent;\n",
              "      border-right-color: var(--fill-color);\n",
              "    }\n",
              "    80% {\n",
              "      border-color: transparent;\n",
              "      border-right-color: var(--fill-color);\n",
              "      border-bottom-color: var(--fill-color);\n",
              "    }\n",
              "    90% {\n",
              "      border-color: transparent;\n",
              "      border-bottom-color: var(--fill-color);\n",
              "    }\n",
              "  }\n",
              "</style>\n",
              "\n",
              "  <script>\n",
              "    async function quickchart(key) {\n",
              "      const quickchartButtonEl =\n",
              "        document.querySelector('#' + key + ' button');\n",
              "      quickchartButtonEl.disabled = true;  // To prevent multiple clicks.\n",
              "      quickchartButtonEl.classList.add('colab-df-spinner');\n",
              "      try {\n",
              "        const charts = await google.colab.kernel.invokeFunction(\n",
              "            'suggestCharts', [key], {});\n",
              "      } catch (error) {\n",
              "        console.error('Error during call to suggestCharts:', error);\n",
              "      }\n",
              "      quickchartButtonEl.classList.remove('colab-df-spinner');\n",
              "      quickchartButtonEl.classList.add('colab-df-quickchart-complete');\n",
              "    }\n",
              "    (() => {\n",
              "      let quickchartButtonEl =\n",
              "        document.querySelector('#df-486a2f8d-9173-4665-ba88-1232f21e0d51 button');\n",
              "      quickchartButtonEl.style.display =\n",
              "        google.colab.kernel.accessAllowed ? 'block' : 'none';\n",
              "    })();\n",
              "  </script>\n",
              "</div>\n",
              "\n",
              "    </div>\n",
              "  </div>\n"
            ],
            "application/vnd.google.colaboratory.intrinsic+json": {
              "type": "dataframe",
              "summary": "{\n  \"name\": \"pd\",\n  \"rows\": 5,\n  \"fields\": [\n    {\n      \"column\": \"author_id\",\n      \"properties\": {\n        \"dtype\": \"number\",\n        \"std\": 1,\n        \"min\": 1,\n        \"max\": 5,\n        \"num_unique_values\": 5,\n        \"samples\": [\n          2,\n          5,\n          3\n        ],\n        \"semantic_type\": \"\",\n        \"description\": \"\"\n      }\n    },\n    {\n      \"column\": \"author\",\n      \"properties\": {\n        \"dtype\": \"string\",\n        \"num_unique_values\": 5,\n        \"samples\": [\n          \"Aesop/Laura Harris/Laura Gibbs\",\n          \"Alan Moore/David   Lloyd\",\n          \"Agatha Christie\"\n        ],\n        \"semantic_type\": \"\",\n        \"description\": \"\"\n      }\n    }\n  ]\n}"
            }
          },
          "metadata": {},
          "execution_count": 6
        }
      ],
      "source": [
        "query = '''SELECT * FROM authors LIMIT 5;'''\n",
        "con=engine.connect()\n",
        "pd.io.sql.read_sql(sql=text(query), con = con)"
      ]
    },
    {
      "cell_type": "code",
      "execution_count": null,
      "metadata": {
        "id": "bF7FQMksGKyZ",
        "outputId": "19c2b3a7-bef1-43ba-e5d9-e3af909b6c38",
        "colab": {
          "base_uri": "https://localhost:8080/",
          "height": 81
        }
      },
      "outputs": [
        {
          "output_type": "execute_result",
          "data": {
            "text/plain": [
              "   author_count\n",
              "0           636"
            ],
            "text/html": [
              "\n",
              "  <div id=\"df-ade93852-2613-4f0f-b882-411fd05f0cae\" class=\"colab-df-container\">\n",
              "    <div>\n",
              "<style scoped>\n",
              "    .dataframe tbody tr th:only-of-type {\n",
              "        vertical-align: middle;\n",
              "    }\n",
              "\n",
              "    .dataframe tbody tr th {\n",
              "        vertical-align: top;\n",
              "    }\n",
              "\n",
              "    .dataframe thead th {\n",
              "        text-align: right;\n",
              "    }\n",
              "</style>\n",
              "<table border=\"1\" class=\"dataframe\">\n",
              "  <thead>\n",
              "    <tr style=\"text-align: right;\">\n",
              "      <th></th>\n",
              "      <th>author_count</th>\n",
              "    </tr>\n",
              "  </thead>\n",
              "  <tbody>\n",
              "    <tr>\n",
              "      <th>0</th>\n",
              "      <td>636</td>\n",
              "    </tr>\n",
              "  </tbody>\n",
              "</table>\n",
              "</div>\n",
              "    <div class=\"colab-df-buttons\">\n",
              "\n",
              "  <div class=\"colab-df-container\">\n",
              "    <button class=\"colab-df-convert\" onclick=\"convertToInteractive('df-ade93852-2613-4f0f-b882-411fd05f0cae')\"\n",
              "            title=\"Convert this dataframe to an interactive table.\"\n",
              "            style=\"display:none;\">\n",
              "\n",
              "  <svg xmlns=\"http://www.w3.org/2000/svg\" height=\"24px\" viewBox=\"0 -960 960 960\">\n",
              "    <path d=\"M120-120v-720h720v720H120Zm60-500h600v-160H180v160Zm220 220h160v-160H400v160Zm0 220h160v-160H400v160ZM180-400h160v-160H180v160Zm440 0h160v-160H620v160ZM180-180h160v-160H180v160Zm440 0h160v-160H620v160Z\"/>\n",
              "  </svg>\n",
              "    </button>\n",
              "\n",
              "  <style>\n",
              "    .colab-df-container {\n",
              "      display:flex;\n",
              "      gap: 12px;\n",
              "    }\n",
              "\n",
              "    .colab-df-convert {\n",
              "      background-color: #E8F0FE;\n",
              "      border: none;\n",
              "      border-radius: 50%;\n",
              "      cursor: pointer;\n",
              "      display: none;\n",
              "      fill: #1967D2;\n",
              "      height: 32px;\n",
              "      padding: 0 0 0 0;\n",
              "      width: 32px;\n",
              "    }\n",
              "\n",
              "    .colab-df-convert:hover {\n",
              "      background-color: #E2EBFA;\n",
              "      box-shadow: 0px 1px 2px rgba(60, 64, 67, 0.3), 0px 1px 3px 1px rgba(60, 64, 67, 0.15);\n",
              "      fill: #174EA6;\n",
              "    }\n",
              "\n",
              "    .colab-df-buttons div {\n",
              "      margin-bottom: 4px;\n",
              "    }\n",
              "\n",
              "    [theme=dark] .colab-df-convert {\n",
              "      background-color: #3B4455;\n",
              "      fill: #D2E3FC;\n",
              "    }\n",
              "\n",
              "    [theme=dark] .colab-df-convert:hover {\n",
              "      background-color: #434B5C;\n",
              "      box-shadow: 0px 1px 3px 1px rgba(0, 0, 0, 0.15);\n",
              "      filter: drop-shadow(0px 1px 2px rgba(0, 0, 0, 0.3));\n",
              "      fill: #FFFFFF;\n",
              "    }\n",
              "  </style>\n",
              "\n",
              "    <script>\n",
              "      const buttonEl =\n",
              "        document.querySelector('#df-ade93852-2613-4f0f-b882-411fd05f0cae button.colab-df-convert');\n",
              "      buttonEl.style.display =\n",
              "        google.colab.kernel.accessAllowed ? 'block' : 'none';\n",
              "\n",
              "      async function convertToInteractive(key) {\n",
              "        const element = document.querySelector('#df-ade93852-2613-4f0f-b882-411fd05f0cae');\n",
              "        const dataTable =\n",
              "          await google.colab.kernel.invokeFunction('convertToInteractive',\n",
              "                                                    [key], {});\n",
              "        if (!dataTable) return;\n",
              "\n",
              "        const docLinkHtml = 'Like what you see? Visit the ' +\n",
              "          '<a target=\"_blank\" href=https://colab.research.google.com/notebooks/data_table.ipynb>data table notebook</a>'\n",
              "          + ' to learn more about interactive tables.';\n",
              "        element.innerHTML = '';\n",
              "        dataTable['output_type'] = 'display_data';\n",
              "        await google.colab.output.renderOutput(dataTable, element);\n",
              "        const docLink = document.createElement('div');\n",
              "        docLink.innerHTML = docLinkHtml;\n",
              "        element.appendChild(docLink);\n",
              "      }\n",
              "    </script>\n",
              "  </div>\n",
              "\n",
              "\n",
              "    </div>\n",
              "  </div>\n"
            ],
            "application/vnd.google.colaboratory.intrinsic+json": {
              "type": "dataframe",
              "summary": "{\n  \"name\": \"pd\",\n  \"rows\": 1,\n  \"fields\": [\n    {\n      \"column\": \"author_count\",\n      \"properties\": {\n        \"dtype\": \"number\",\n        \"std\": null,\n        \"min\": 636,\n        \"max\": 636,\n        \"num_unique_values\": 1,\n        \"samples\": [\n          636\n        ],\n        \"semantic_type\": \"\",\n        \"description\": \"\"\n      }\n    }\n  ]\n}"
            }
          },
          "metadata": {},
          "execution_count": 7
        }
      ],
      "source": [
        "query = '''SELECT COUNT(*) AS author_count FROM authors;'''\n",
        "con=engine.connect()\n",
        "pd.io.sql.read_sql(sql=text(query), con = con)"
      ]
    },
    {
      "cell_type": "markdown",
      "metadata": {
        "id": "5-roRBzkGKyZ"
      },
      "source": [
        "Вывод первых строк и подсчет количества строк в таблице publishers."
      ]
    },
    {
      "cell_type": "code",
      "execution_count": null,
      "metadata": {
        "id": "YlB-Oj_dGKyZ",
        "outputId": "7eddca7d-d010-48c0-a9ba-18d808e61b03",
        "colab": {
          "base_uri": "https://localhost:8080/",
          "height": 206
        }
      },
      "outputs": [
        {
          "output_type": "execute_result",
          "data": {
            "text/plain": [
              "   publisher_id                          publisher\n",
              "0             1                                Ace\n",
              "1             2                           Ace Book\n",
              "2             3                          Ace Books\n",
              "3             4                      Ace Hardcover\n",
              "4             5  Addison Wesley Publishing Company"
            ],
            "text/html": [
              "\n",
              "  <div id=\"df-dff71200-075e-496d-8e19-c330090cd25f\" class=\"colab-df-container\">\n",
              "    <div>\n",
              "<style scoped>\n",
              "    .dataframe tbody tr th:only-of-type {\n",
              "        vertical-align: middle;\n",
              "    }\n",
              "\n",
              "    .dataframe tbody tr th {\n",
              "        vertical-align: top;\n",
              "    }\n",
              "\n",
              "    .dataframe thead th {\n",
              "        text-align: right;\n",
              "    }\n",
              "</style>\n",
              "<table border=\"1\" class=\"dataframe\">\n",
              "  <thead>\n",
              "    <tr style=\"text-align: right;\">\n",
              "      <th></th>\n",
              "      <th>publisher_id</th>\n",
              "      <th>publisher</th>\n",
              "    </tr>\n",
              "  </thead>\n",
              "  <tbody>\n",
              "    <tr>\n",
              "      <th>0</th>\n",
              "      <td>1</td>\n",
              "      <td>Ace</td>\n",
              "    </tr>\n",
              "    <tr>\n",
              "      <th>1</th>\n",
              "      <td>2</td>\n",
              "      <td>Ace Book</td>\n",
              "    </tr>\n",
              "    <tr>\n",
              "      <th>2</th>\n",
              "      <td>3</td>\n",
              "      <td>Ace Books</td>\n",
              "    </tr>\n",
              "    <tr>\n",
              "      <th>3</th>\n",
              "      <td>4</td>\n",
              "      <td>Ace Hardcover</td>\n",
              "    </tr>\n",
              "    <tr>\n",
              "      <th>4</th>\n",
              "      <td>5</td>\n",
              "      <td>Addison Wesley Publishing Company</td>\n",
              "    </tr>\n",
              "  </tbody>\n",
              "</table>\n",
              "</div>\n",
              "    <div class=\"colab-df-buttons\">\n",
              "\n",
              "  <div class=\"colab-df-container\">\n",
              "    <button class=\"colab-df-convert\" onclick=\"convertToInteractive('df-dff71200-075e-496d-8e19-c330090cd25f')\"\n",
              "            title=\"Convert this dataframe to an interactive table.\"\n",
              "            style=\"display:none;\">\n",
              "\n",
              "  <svg xmlns=\"http://www.w3.org/2000/svg\" height=\"24px\" viewBox=\"0 -960 960 960\">\n",
              "    <path d=\"M120-120v-720h720v720H120Zm60-500h600v-160H180v160Zm220 220h160v-160H400v160Zm0 220h160v-160H400v160ZM180-400h160v-160H180v160Zm440 0h160v-160H620v160ZM180-180h160v-160H180v160Zm440 0h160v-160H620v160Z\"/>\n",
              "  </svg>\n",
              "    </button>\n",
              "\n",
              "  <style>\n",
              "    .colab-df-container {\n",
              "      display:flex;\n",
              "      gap: 12px;\n",
              "    }\n",
              "\n",
              "    .colab-df-convert {\n",
              "      background-color: #E8F0FE;\n",
              "      border: none;\n",
              "      border-radius: 50%;\n",
              "      cursor: pointer;\n",
              "      display: none;\n",
              "      fill: #1967D2;\n",
              "      height: 32px;\n",
              "      padding: 0 0 0 0;\n",
              "      width: 32px;\n",
              "    }\n",
              "\n",
              "    .colab-df-convert:hover {\n",
              "      background-color: #E2EBFA;\n",
              "      box-shadow: 0px 1px 2px rgba(60, 64, 67, 0.3), 0px 1px 3px 1px rgba(60, 64, 67, 0.15);\n",
              "      fill: #174EA6;\n",
              "    }\n",
              "\n",
              "    .colab-df-buttons div {\n",
              "      margin-bottom: 4px;\n",
              "    }\n",
              "\n",
              "    [theme=dark] .colab-df-convert {\n",
              "      background-color: #3B4455;\n",
              "      fill: #D2E3FC;\n",
              "    }\n",
              "\n",
              "    [theme=dark] .colab-df-convert:hover {\n",
              "      background-color: #434B5C;\n",
              "      box-shadow: 0px 1px 3px 1px rgba(0, 0, 0, 0.15);\n",
              "      filter: drop-shadow(0px 1px 2px rgba(0, 0, 0, 0.3));\n",
              "      fill: #FFFFFF;\n",
              "    }\n",
              "  </style>\n",
              "\n",
              "    <script>\n",
              "      const buttonEl =\n",
              "        document.querySelector('#df-dff71200-075e-496d-8e19-c330090cd25f button.colab-df-convert');\n",
              "      buttonEl.style.display =\n",
              "        google.colab.kernel.accessAllowed ? 'block' : 'none';\n",
              "\n",
              "      async function convertToInteractive(key) {\n",
              "        const element = document.querySelector('#df-dff71200-075e-496d-8e19-c330090cd25f');\n",
              "        const dataTable =\n",
              "          await google.colab.kernel.invokeFunction('convertToInteractive',\n",
              "                                                    [key], {});\n",
              "        if (!dataTable) return;\n",
              "\n",
              "        const docLinkHtml = 'Like what you see? Visit the ' +\n",
              "          '<a target=\"_blank\" href=https://colab.research.google.com/notebooks/data_table.ipynb>data table notebook</a>'\n",
              "          + ' to learn more about interactive tables.';\n",
              "        element.innerHTML = '';\n",
              "        dataTable['output_type'] = 'display_data';\n",
              "        await google.colab.output.renderOutput(dataTable, element);\n",
              "        const docLink = document.createElement('div');\n",
              "        docLink.innerHTML = docLinkHtml;\n",
              "        element.appendChild(docLink);\n",
              "      }\n",
              "    </script>\n",
              "  </div>\n",
              "\n",
              "\n",
              "<div id=\"df-68d25473-c5c6-4266-86a2-48bd7f38d581\">\n",
              "  <button class=\"colab-df-quickchart\" onclick=\"quickchart('df-68d25473-c5c6-4266-86a2-48bd7f38d581')\"\n",
              "            title=\"Suggest charts\"\n",
              "            style=\"display:none;\">\n",
              "\n",
              "<svg xmlns=\"http://www.w3.org/2000/svg\" height=\"24px\"viewBox=\"0 0 24 24\"\n",
              "     width=\"24px\">\n",
              "    <g>\n",
              "        <path d=\"M19 3H5c-1.1 0-2 .9-2 2v14c0 1.1.9 2 2 2h14c1.1 0 2-.9 2-2V5c0-1.1-.9-2-2-2zM9 17H7v-7h2v7zm4 0h-2V7h2v10zm4 0h-2v-4h2v4z\"/>\n",
              "    </g>\n",
              "</svg>\n",
              "  </button>\n",
              "\n",
              "<style>\n",
              "  .colab-df-quickchart {\n",
              "      --bg-color: #E8F0FE;\n",
              "      --fill-color: #1967D2;\n",
              "      --hover-bg-color: #E2EBFA;\n",
              "      --hover-fill-color: #174EA6;\n",
              "      --disabled-fill-color: #AAA;\n",
              "      --disabled-bg-color: #DDD;\n",
              "  }\n",
              "\n",
              "  [theme=dark] .colab-df-quickchart {\n",
              "      --bg-color: #3B4455;\n",
              "      --fill-color: #D2E3FC;\n",
              "      --hover-bg-color: #434B5C;\n",
              "      --hover-fill-color: #FFFFFF;\n",
              "      --disabled-bg-color: #3B4455;\n",
              "      --disabled-fill-color: #666;\n",
              "  }\n",
              "\n",
              "  .colab-df-quickchart {\n",
              "    background-color: var(--bg-color);\n",
              "    border: none;\n",
              "    border-radius: 50%;\n",
              "    cursor: pointer;\n",
              "    display: none;\n",
              "    fill: var(--fill-color);\n",
              "    height: 32px;\n",
              "    padding: 0;\n",
              "    width: 32px;\n",
              "  }\n",
              "\n",
              "  .colab-df-quickchart:hover {\n",
              "    background-color: var(--hover-bg-color);\n",
              "    box-shadow: 0 1px 2px rgba(60, 64, 67, 0.3), 0 1px 3px 1px rgba(60, 64, 67, 0.15);\n",
              "    fill: var(--button-hover-fill-color);\n",
              "  }\n",
              "\n",
              "  .colab-df-quickchart-complete:disabled,\n",
              "  .colab-df-quickchart-complete:disabled:hover {\n",
              "    background-color: var(--disabled-bg-color);\n",
              "    fill: var(--disabled-fill-color);\n",
              "    box-shadow: none;\n",
              "  }\n",
              "\n",
              "  .colab-df-spinner {\n",
              "    border: 2px solid var(--fill-color);\n",
              "    border-color: transparent;\n",
              "    border-bottom-color: var(--fill-color);\n",
              "    animation:\n",
              "      spin 1s steps(1) infinite;\n",
              "  }\n",
              "\n",
              "  @keyframes spin {\n",
              "    0% {\n",
              "      border-color: transparent;\n",
              "      border-bottom-color: var(--fill-color);\n",
              "      border-left-color: var(--fill-color);\n",
              "    }\n",
              "    20% {\n",
              "      border-color: transparent;\n",
              "      border-left-color: var(--fill-color);\n",
              "      border-top-color: var(--fill-color);\n",
              "    }\n",
              "    30% {\n",
              "      border-color: transparent;\n",
              "      border-left-color: var(--fill-color);\n",
              "      border-top-color: var(--fill-color);\n",
              "      border-right-color: var(--fill-color);\n",
              "    }\n",
              "    40% {\n",
              "      border-color: transparent;\n",
              "      border-right-color: var(--fill-color);\n",
              "      border-top-color: var(--fill-color);\n",
              "    }\n",
              "    60% {\n",
              "      border-color: transparent;\n",
              "      border-right-color: var(--fill-color);\n",
              "    }\n",
              "    80% {\n",
              "      border-color: transparent;\n",
              "      border-right-color: var(--fill-color);\n",
              "      border-bottom-color: var(--fill-color);\n",
              "    }\n",
              "    90% {\n",
              "      border-color: transparent;\n",
              "      border-bottom-color: var(--fill-color);\n",
              "    }\n",
              "  }\n",
              "</style>\n",
              "\n",
              "  <script>\n",
              "    async function quickchart(key) {\n",
              "      const quickchartButtonEl =\n",
              "        document.querySelector('#' + key + ' button');\n",
              "      quickchartButtonEl.disabled = true;  // To prevent multiple clicks.\n",
              "      quickchartButtonEl.classList.add('colab-df-spinner');\n",
              "      try {\n",
              "        const charts = await google.colab.kernel.invokeFunction(\n",
              "            'suggestCharts', [key], {});\n",
              "      } catch (error) {\n",
              "        console.error('Error during call to suggestCharts:', error);\n",
              "      }\n",
              "      quickchartButtonEl.classList.remove('colab-df-spinner');\n",
              "      quickchartButtonEl.classList.add('colab-df-quickchart-complete');\n",
              "    }\n",
              "    (() => {\n",
              "      let quickchartButtonEl =\n",
              "        document.querySelector('#df-68d25473-c5c6-4266-86a2-48bd7f38d581 button');\n",
              "      quickchartButtonEl.style.display =\n",
              "        google.colab.kernel.accessAllowed ? 'block' : 'none';\n",
              "    })();\n",
              "  </script>\n",
              "</div>\n",
              "\n",
              "    </div>\n",
              "  </div>\n"
            ],
            "application/vnd.google.colaboratory.intrinsic+json": {
              "type": "dataframe",
              "summary": "{\n  \"name\": \"pd\",\n  \"rows\": 5,\n  \"fields\": [\n    {\n      \"column\": \"publisher_id\",\n      \"properties\": {\n        \"dtype\": \"number\",\n        \"std\": 1,\n        \"min\": 1,\n        \"max\": 5,\n        \"num_unique_values\": 5,\n        \"samples\": [\n          2,\n          5,\n          3\n        ],\n        \"semantic_type\": \"\",\n        \"description\": \"\"\n      }\n    },\n    {\n      \"column\": \"publisher\",\n      \"properties\": {\n        \"dtype\": \"string\",\n        \"num_unique_values\": 5,\n        \"samples\": [\n          \"Ace Book\",\n          \"Addison Wesley Publishing Company\",\n          \"Ace Books\"\n        ],\n        \"semantic_type\": \"\",\n        \"description\": \"\"\n      }\n    }\n  ]\n}"
            }
          },
          "metadata": {},
          "execution_count": 8
        }
      ],
      "source": [
        "query = '''SELECT * FROM publishers LIMIT 5;'''\n",
        "con=engine.connect()\n",
        "pd.io.sql.read_sql(sql=text(query), con = con)"
      ]
    },
    {
      "cell_type": "code",
      "execution_count": null,
      "metadata": {
        "id": "-sVs16nkGKya",
        "outputId": "7ad0293a-e74c-4d57-b3e3-456310e3e072",
        "colab": {
          "base_uri": "https://localhost:8080/",
          "height": 81
        }
      },
      "outputs": [
        {
          "output_type": "execute_result",
          "data": {
            "text/plain": [
              "   publisher_count\n",
              "0              340"
            ],
            "text/html": [
              "\n",
              "  <div id=\"df-82cb5fe9-8a5b-4b2e-b365-d4576f518f35\" class=\"colab-df-container\">\n",
              "    <div>\n",
              "<style scoped>\n",
              "    .dataframe tbody tr th:only-of-type {\n",
              "        vertical-align: middle;\n",
              "    }\n",
              "\n",
              "    .dataframe tbody tr th {\n",
              "        vertical-align: top;\n",
              "    }\n",
              "\n",
              "    .dataframe thead th {\n",
              "        text-align: right;\n",
              "    }\n",
              "</style>\n",
              "<table border=\"1\" class=\"dataframe\">\n",
              "  <thead>\n",
              "    <tr style=\"text-align: right;\">\n",
              "      <th></th>\n",
              "      <th>publisher_count</th>\n",
              "    </tr>\n",
              "  </thead>\n",
              "  <tbody>\n",
              "    <tr>\n",
              "      <th>0</th>\n",
              "      <td>340</td>\n",
              "    </tr>\n",
              "  </tbody>\n",
              "</table>\n",
              "</div>\n",
              "    <div class=\"colab-df-buttons\">\n",
              "\n",
              "  <div class=\"colab-df-container\">\n",
              "    <button class=\"colab-df-convert\" onclick=\"convertToInteractive('df-82cb5fe9-8a5b-4b2e-b365-d4576f518f35')\"\n",
              "            title=\"Convert this dataframe to an interactive table.\"\n",
              "            style=\"display:none;\">\n",
              "\n",
              "  <svg xmlns=\"http://www.w3.org/2000/svg\" height=\"24px\" viewBox=\"0 -960 960 960\">\n",
              "    <path d=\"M120-120v-720h720v720H120Zm60-500h600v-160H180v160Zm220 220h160v-160H400v160Zm0 220h160v-160H400v160ZM180-400h160v-160H180v160Zm440 0h160v-160H620v160ZM180-180h160v-160H180v160Zm440 0h160v-160H620v160Z\"/>\n",
              "  </svg>\n",
              "    </button>\n",
              "\n",
              "  <style>\n",
              "    .colab-df-container {\n",
              "      display:flex;\n",
              "      gap: 12px;\n",
              "    }\n",
              "\n",
              "    .colab-df-convert {\n",
              "      background-color: #E8F0FE;\n",
              "      border: none;\n",
              "      border-radius: 50%;\n",
              "      cursor: pointer;\n",
              "      display: none;\n",
              "      fill: #1967D2;\n",
              "      height: 32px;\n",
              "      padding: 0 0 0 0;\n",
              "      width: 32px;\n",
              "    }\n",
              "\n",
              "    .colab-df-convert:hover {\n",
              "      background-color: #E2EBFA;\n",
              "      box-shadow: 0px 1px 2px rgba(60, 64, 67, 0.3), 0px 1px 3px 1px rgba(60, 64, 67, 0.15);\n",
              "      fill: #174EA6;\n",
              "    }\n",
              "\n",
              "    .colab-df-buttons div {\n",
              "      margin-bottom: 4px;\n",
              "    }\n",
              "\n",
              "    [theme=dark] .colab-df-convert {\n",
              "      background-color: #3B4455;\n",
              "      fill: #D2E3FC;\n",
              "    }\n",
              "\n",
              "    [theme=dark] .colab-df-convert:hover {\n",
              "      background-color: #434B5C;\n",
              "      box-shadow: 0px 1px 3px 1px rgba(0, 0, 0, 0.15);\n",
              "      filter: drop-shadow(0px 1px 2px rgba(0, 0, 0, 0.3));\n",
              "      fill: #FFFFFF;\n",
              "    }\n",
              "  </style>\n",
              "\n",
              "    <script>\n",
              "      const buttonEl =\n",
              "        document.querySelector('#df-82cb5fe9-8a5b-4b2e-b365-d4576f518f35 button.colab-df-convert');\n",
              "      buttonEl.style.display =\n",
              "        google.colab.kernel.accessAllowed ? 'block' : 'none';\n",
              "\n",
              "      async function convertToInteractive(key) {\n",
              "        const element = document.querySelector('#df-82cb5fe9-8a5b-4b2e-b365-d4576f518f35');\n",
              "        const dataTable =\n",
              "          await google.colab.kernel.invokeFunction('convertToInteractive',\n",
              "                                                    [key], {});\n",
              "        if (!dataTable) return;\n",
              "\n",
              "        const docLinkHtml = 'Like what you see? Visit the ' +\n",
              "          '<a target=\"_blank\" href=https://colab.research.google.com/notebooks/data_table.ipynb>data table notebook</a>'\n",
              "          + ' to learn more about interactive tables.';\n",
              "        element.innerHTML = '';\n",
              "        dataTable['output_type'] = 'display_data';\n",
              "        await google.colab.output.renderOutput(dataTable, element);\n",
              "        const docLink = document.createElement('div');\n",
              "        docLink.innerHTML = docLinkHtml;\n",
              "        element.appendChild(docLink);\n",
              "      }\n",
              "    </script>\n",
              "  </div>\n",
              "\n",
              "\n",
              "    </div>\n",
              "  </div>\n"
            ],
            "application/vnd.google.colaboratory.intrinsic+json": {
              "type": "dataframe",
              "summary": "{\n  \"name\": \"pd\",\n  \"rows\": 1,\n  \"fields\": [\n    {\n      \"column\": \"publisher_count\",\n      \"properties\": {\n        \"dtype\": \"number\",\n        \"std\": null,\n        \"min\": 340,\n        \"max\": 340,\n        \"num_unique_values\": 1,\n        \"samples\": [\n          340\n        ],\n        \"semantic_type\": \"\",\n        \"description\": \"\"\n      }\n    }\n  ]\n}"
            }
          },
          "metadata": {},
          "execution_count": 9
        }
      ],
      "source": [
        "query = '''SELECT COUNT(*) AS publisher_count FROM publishers;'''\n",
        "con=engine.connect()\n",
        "pd.io.sql.read_sql(sql=text(query), con = con)"
      ]
    },
    {
      "cell_type": "markdown",
      "metadata": {
        "id": "NUSi7ZI4GKya"
      },
      "source": [
        "Вывод первых строк и подсчет количества строк в таблице ratings."
      ]
    },
    {
      "cell_type": "code",
      "execution_count": null,
      "metadata": {
        "id": "Z_EV-L7gGKya",
        "outputId": "c9b6c814-dfbb-4783-e3c8-b3ca97074f2b",
        "colab": {
          "base_uri": "https://localhost:8080/",
          "height": 206
        }
      },
      "outputs": [
        {
          "output_type": "execute_result",
          "data": {
            "text/plain": [
              "   rating_id  book_id       username  rating\n",
              "0          1        1     ryanfranco       4\n",
              "1          2        1  grantpatricia       2\n",
              "2          3        1   brandtandrea       5\n",
              "3          4        2       lorichen       3\n",
              "4          5        2    mariokeller       2"
            ],
            "text/html": [
              "\n",
              "  <div id=\"df-786943c9-63dc-4655-8958-8f96b1798721\" class=\"colab-df-container\">\n",
              "    <div>\n",
              "<style scoped>\n",
              "    .dataframe tbody tr th:only-of-type {\n",
              "        vertical-align: middle;\n",
              "    }\n",
              "\n",
              "    .dataframe tbody tr th {\n",
              "        vertical-align: top;\n",
              "    }\n",
              "\n",
              "    .dataframe thead th {\n",
              "        text-align: right;\n",
              "    }\n",
              "</style>\n",
              "<table border=\"1\" class=\"dataframe\">\n",
              "  <thead>\n",
              "    <tr style=\"text-align: right;\">\n",
              "      <th></th>\n",
              "      <th>rating_id</th>\n",
              "      <th>book_id</th>\n",
              "      <th>username</th>\n",
              "      <th>rating</th>\n",
              "    </tr>\n",
              "  </thead>\n",
              "  <tbody>\n",
              "    <tr>\n",
              "      <th>0</th>\n",
              "      <td>1</td>\n",
              "      <td>1</td>\n",
              "      <td>ryanfranco</td>\n",
              "      <td>4</td>\n",
              "    </tr>\n",
              "    <tr>\n",
              "      <th>1</th>\n",
              "      <td>2</td>\n",
              "      <td>1</td>\n",
              "      <td>grantpatricia</td>\n",
              "      <td>2</td>\n",
              "    </tr>\n",
              "    <tr>\n",
              "      <th>2</th>\n",
              "      <td>3</td>\n",
              "      <td>1</td>\n",
              "      <td>brandtandrea</td>\n",
              "      <td>5</td>\n",
              "    </tr>\n",
              "    <tr>\n",
              "      <th>3</th>\n",
              "      <td>4</td>\n",
              "      <td>2</td>\n",
              "      <td>lorichen</td>\n",
              "      <td>3</td>\n",
              "    </tr>\n",
              "    <tr>\n",
              "      <th>4</th>\n",
              "      <td>5</td>\n",
              "      <td>2</td>\n",
              "      <td>mariokeller</td>\n",
              "      <td>2</td>\n",
              "    </tr>\n",
              "  </tbody>\n",
              "</table>\n",
              "</div>\n",
              "    <div class=\"colab-df-buttons\">\n",
              "\n",
              "  <div class=\"colab-df-container\">\n",
              "    <button class=\"colab-df-convert\" onclick=\"convertToInteractive('df-786943c9-63dc-4655-8958-8f96b1798721')\"\n",
              "            title=\"Convert this dataframe to an interactive table.\"\n",
              "            style=\"display:none;\">\n",
              "\n",
              "  <svg xmlns=\"http://www.w3.org/2000/svg\" height=\"24px\" viewBox=\"0 -960 960 960\">\n",
              "    <path d=\"M120-120v-720h720v720H120Zm60-500h600v-160H180v160Zm220 220h160v-160H400v160Zm0 220h160v-160H400v160ZM180-400h160v-160H180v160Zm440 0h160v-160H620v160ZM180-180h160v-160H180v160Zm440 0h160v-160H620v160Z\"/>\n",
              "  </svg>\n",
              "    </button>\n",
              "\n",
              "  <style>\n",
              "    .colab-df-container {\n",
              "      display:flex;\n",
              "      gap: 12px;\n",
              "    }\n",
              "\n",
              "    .colab-df-convert {\n",
              "      background-color: #E8F0FE;\n",
              "      border: none;\n",
              "      border-radius: 50%;\n",
              "      cursor: pointer;\n",
              "      display: none;\n",
              "      fill: #1967D2;\n",
              "      height: 32px;\n",
              "      padding: 0 0 0 0;\n",
              "      width: 32px;\n",
              "    }\n",
              "\n",
              "    .colab-df-convert:hover {\n",
              "      background-color: #E2EBFA;\n",
              "      box-shadow: 0px 1px 2px rgba(60, 64, 67, 0.3), 0px 1px 3px 1px rgba(60, 64, 67, 0.15);\n",
              "      fill: #174EA6;\n",
              "    }\n",
              "\n",
              "    .colab-df-buttons div {\n",
              "      margin-bottom: 4px;\n",
              "    }\n",
              "\n",
              "    [theme=dark] .colab-df-convert {\n",
              "      background-color: #3B4455;\n",
              "      fill: #D2E3FC;\n",
              "    }\n",
              "\n",
              "    [theme=dark] .colab-df-convert:hover {\n",
              "      background-color: #434B5C;\n",
              "      box-shadow: 0px 1px 3px 1px rgba(0, 0, 0, 0.15);\n",
              "      filter: drop-shadow(0px 1px 2px rgba(0, 0, 0, 0.3));\n",
              "      fill: #FFFFFF;\n",
              "    }\n",
              "  </style>\n",
              "\n",
              "    <script>\n",
              "      const buttonEl =\n",
              "        document.querySelector('#df-786943c9-63dc-4655-8958-8f96b1798721 button.colab-df-convert');\n",
              "      buttonEl.style.display =\n",
              "        google.colab.kernel.accessAllowed ? 'block' : 'none';\n",
              "\n",
              "      async function convertToInteractive(key) {\n",
              "        const element = document.querySelector('#df-786943c9-63dc-4655-8958-8f96b1798721');\n",
              "        const dataTable =\n",
              "          await google.colab.kernel.invokeFunction('convertToInteractive',\n",
              "                                                    [key], {});\n",
              "        if (!dataTable) return;\n",
              "\n",
              "        const docLinkHtml = 'Like what you see? Visit the ' +\n",
              "          '<a target=\"_blank\" href=https://colab.research.google.com/notebooks/data_table.ipynb>data table notebook</a>'\n",
              "          + ' to learn more about interactive tables.';\n",
              "        element.innerHTML = '';\n",
              "        dataTable['output_type'] = 'display_data';\n",
              "        await google.colab.output.renderOutput(dataTable, element);\n",
              "        const docLink = document.createElement('div');\n",
              "        docLink.innerHTML = docLinkHtml;\n",
              "        element.appendChild(docLink);\n",
              "      }\n",
              "    </script>\n",
              "  </div>\n",
              "\n",
              "\n",
              "<div id=\"df-af91bf37-248f-4914-aa9e-1b6f8f87e719\">\n",
              "  <button class=\"colab-df-quickchart\" onclick=\"quickchart('df-af91bf37-248f-4914-aa9e-1b6f8f87e719')\"\n",
              "            title=\"Suggest charts\"\n",
              "            style=\"display:none;\">\n",
              "\n",
              "<svg xmlns=\"http://www.w3.org/2000/svg\" height=\"24px\"viewBox=\"0 0 24 24\"\n",
              "     width=\"24px\">\n",
              "    <g>\n",
              "        <path d=\"M19 3H5c-1.1 0-2 .9-2 2v14c0 1.1.9 2 2 2h14c1.1 0 2-.9 2-2V5c0-1.1-.9-2-2-2zM9 17H7v-7h2v7zm4 0h-2V7h2v10zm4 0h-2v-4h2v4z\"/>\n",
              "    </g>\n",
              "</svg>\n",
              "  </button>\n",
              "\n",
              "<style>\n",
              "  .colab-df-quickchart {\n",
              "      --bg-color: #E8F0FE;\n",
              "      --fill-color: #1967D2;\n",
              "      --hover-bg-color: #E2EBFA;\n",
              "      --hover-fill-color: #174EA6;\n",
              "      --disabled-fill-color: #AAA;\n",
              "      --disabled-bg-color: #DDD;\n",
              "  }\n",
              "\n",
              "  [theme=dark] .colab-df-quickchart {\n",
              "      --bg-color: #3B4455;\n",
              "      --fill-color: #D2E3FC;\n",
              "      --hover-bg-color: #434B5C;\n",
              "      --hover-fill-color: #FFFFFF;\n",
              "      --disabled-bg-color: #3B4455;\n",
              "      --disabled-fill-color: #666;\n",
              "  }\n",
              "\n",
              "  .colab-df-quickchart {\n",
              "    background-color: var(--bg-color);\n",
              "    border: none;\n",
              "    border-radius: 50%;\n",
              "    cursor: pointer;\n",
              "    display: none;\n",
              "    fill: var(--fill-color);\n",
              "    height: 32px;\n",
              "    padding: 0;\n",
              "    width: 32px;\n",
              "  }\n",
              "\n",
              "  .colab-df-quickchart:hover {\n",
              "    background-color: var(--hover-bg-color);\n",
              "    box-shadow: 0 1px 2px rgba(60, 64, 67, 0.3), 0 1px 3px 1px rgba(60, 64, 67, 0.15);\n",
              "    fill: var(--button-hover-fill-color);\n",
              "  }\n",
              "\n",
              "  .colab-df-quickchart-complete:disabled,\n",
              "  .colab-df-quickchart-complete:disabled:hover {\n",
              "    background-color: var(--disabled-bg-color);\n",
              "    fill: var(--disabled-fill-color);\n",
              "    box-shadow: none;\n",
              "  }\n",
              "\n",
              "  .colab-df-spinner {\n",
              "    border: 2px solid var(--fill-color);\n",
              "    border-color: transparent;\n",
              "    border-bottom-color: var(--fill-color);\n",
              "    animation:\n",
              "      spin 1s steps(1) infinite;\n",
              "  }\n",
              "\n",
              "  @keyframes spin {\n",
              "    0% {\n",
              "      border-color: transparent;\n",
              "      border-bottom-color: var(--fill-color);\n",
              "      border-left-color: var(--fill-color);\n",
              "    }\n",
              "    20% {\n",
              "      border-color: transparent;\n",
              "      border-left-color: var(--fill-color);\n",
              "      border-top-color: var(--fill-color);\n",
              "    }\n",
              "    30% {\n",
              "      border-color: transparent;\n",
              "      border-left-color: var(--fill-color);\n",
              "      border-top-color: var(--fill-color);\n",
              "      border-right-color: var(--fill-color);\n",
              "    }\n",
              "    40% {\n",
              "      border-color: transparent;\n",
              "      border-right-color: var(--fill-color);\n",
              "      border-top-color: var(--fill-color);\n",
              "    }\n",
              "    60% {\n",
              "      border-color: transparent;\n",
              "      border-right-color: var(--fill-color);\n",
              "    }\n",
              "    80% {\n",
              "      border-color: transparent;\n",
              "      border-right-color: var(--fill-color);\n",
              "      border-bottom-color: var(--fill-color);\n",
              "    }\n",
              "    90% {\n",
              "      border-color: transparent;\n",
              "      border-bottom-color: var(--fill-color);\n",
              "    }\n",
              "  }\n",
              "</style>\n",
              "\n",
              "  <script>\n",
              "    async function quickchart(key) {\n",
              "      const quickchartButtonEl =\n",
              "        document.querySelector('#' + key + ' button');\n",
              "      quickchartButtonEl.disabled = true;  // To prevent multiple clicks.\n",
              "      quickchartButtonEl.classList.add('colab-df-spinner');\n",
              "      try {\n",
              "        const charts = await google.colab.kernel.invokeFunction(\n",
              "            'suggestCharts', [key], {});\n",
              "      } catch (error) {\n",
              "        console.error('Error during call to suggestCharts:', error);\n",
              "      }\n",
              "      quickchartButtonEl.classList.remove('colab-df-spinner');\n",
              "      quickchartButtonEl.classList.add('colab-df-quickchart-complete');\n",
              "    }\n",
              "    (() => {\n",
              "      let quickchartButtonEl =\n",
              "        document.querySelector('#df-af91bf37-248f-4914-aa9e-1b6f8f87e719 button');\n",
              "      quickchartButtonEl.style.display =\n",
              "        google.colab.kernel.accessAllowed ? 'block' : 'none';\n",
              "    })();\n",
              "  </script>\n",
              "</div>\n",
              "\n",
              "    </div>\n",
              "  </div>\n"
            ],
            "application/vnd.google.colaboratory.intrinsic+json": {
              "type": "dataframe",
              "summary": "{\n  \"name\": \"pd\",\n  \"rows\": 5,\n  \"fields\": [\n    {\n      \"column\": \"rating_id\",\n      \"properties\": {\n        \"dtype\": \"number\",\n        \"std\": 1,\n        \"min\": 1,\n        \"max\": 5,\n        \"num_unique_values\": 5,\n        \"samples\": [\n          2,\n          5,\n          3\n        ],\n        \"semantic_type\": \"\",\n        \"description\": \"\"\n      }\n    },\n    {\n      \"column\": \"book_id\",\n      \"properties\": {\n        \"dtype\": \"number\",\n        \"std\": 0,\n        \"min\": 1,\n        \"max\": 2,\n        \"num_unique_values\": 2,\n        \"samples\": [\n          2,\n          1\n        ],\n        \"semantic_type\": \"\",\n        \"description\": \"\"\n      }\n    },\n    {\n      \"column\": \"username\",\n      \"properties\": {\n        \"dtype\": \"string\",\n        \"num_unique_values\": 5,\n        \"samples\": [\n          \"grantpatricia\",\n          \"mariokeller\"\n        ],\n        \"semantic_type\": \"\",\n        \"description\": \"\"\n      }\n    },\n    {\n      \"column\": \"rating\",\n      \"properties\": {\n        \"dtype\": \"number\",\n        \"std\": 1,\n        \"min\": 2,\n        \"max\": 5,\n        \"num_unique_values\": 4,\n        \"samples\": [\n          2,\n          3\n        ],\n        \"semantic_type\": \"\",\n        \"description\": \"\"\n      }\n    }\n  ]\n}"
            }
          },
          "metadata": {},
          "execution_count": 10
        }
      ],
      "source": [
        "query = '''SELECT * FROM ratings LIMIT 5;'''\n",
        "con=engine.connect()\n",
        "pd.io.sql.read_sql(sql=text(query), con = con)"
      ]
    },
    {
      "cell_type": "code",
      "execution_count": null,
      "metadata": {
        "id": "xsshdYzFGKya",
        "outputId": "c6af44a6-cd27-472e-c86f-942df31af7ad",
        "colab": {
          "base_uri": "https://localhost:8080/",
          "height": 81
        }
      },
      "outputs": [
        {
          "output_type": "execute_result",
          "data": {
            "text/plain": [
              "   rating_count\n",
              "0          6456"
            ],
            "text/html": [
              "\n",
              "  <div id=\"df-850f15cb-2b04-4adc-b611-99a624d95dd6\" class=\"colab-df-container\">\n",
              "    <div>\n",
              "<style scoped>\n",
              "    .dataframe tbody tr th:only-of-type {\n",
              "        vertical-align: middle;\n",
              "    }\n",
              "\n",
              "    .dataframe tbody tr th {\n",
              "        vertical-align: top;\n",
              "    }\n",
              "\n",
              "    .dataframe thead th {\n",
              "        text-align: right;\n",
              "    }\n",
              "</style>\n",
              "<table border=\"1\" class=\"dataframe\">\n",
              "  <thead>\n",
              "    <tr style=\"text-align: right;\">\n",
              "      <th></th>\n",
              "      <th>rating_count</th>\n",
              "    </tr>\n",
              "  </thead>\n",
              "  <tbody>\n",
              "    <tr>\n",
              "      <th>0</th>\n",
              "      <td>6456</td>\n",
              "    </tr>\n",
              "  </tbody>\n",
              "</table>\n",
              "</div>\n",
              "    <div class=\"colab-df-buttons\">\n",
              "\n",
              "  <div class=\"colab-df-container\">\n",
              "    <button class=\"colab-df-convert\" onclick=\"convertToInteractive('df-850f15cb-2b04-4adc-b611-99a624d95dd6')\"\n",
              "            title=\"Convert this dataframe to an interactive table.\"\n",
              "            style=\"display:none;\">\n",
              "\n",
              "  <svg xmlns=\"http://www.w3.org/2000/svg\" height=\"24px\" viewBox=\"0 -960 960 960\">\n",
              "    <path d=\"M120-120v-720h720v720H120Zm60-500h600v-160H180v160Zm220 220h160v-160H400v160Zm0 220h160v-160H400v160ZM180-400h160v-160H180v160Zm440 0h160v-160H620v160ZM180-180h160v-160H180v160Zm440 0h160v-160H620v160Z\"/>\n",
              "  </svg>\n",
              "    </button>\n",
              "\n",
              "  <style>\n",
              "    .colab-df-container {\n",
              "      display:flex;\n",
              "      gap: 12px;\n",
              "    }\n",
              "\n",
              "    .colab-df-convert {\n",
              "      background-color: #E8F0FE;\n",
              "      border: none;\n",
              "      border-radius: 50%;\n",
              "      cursor: pointer;\n",
              "      display: none;\n",
              "      fill: #1967D2;\n",
              "      height: 32px;\n",
              "      padding: 0 0 0 0;\n",
              "      width: 32px;\n",
              "    }\n",
              "\n",
              "    .colab-df-convert:hover {\n",
              "      background-color: #E2EBFA;\n",
              "      box-shadow: 0px 1px 2px rgba(60, 64, 67, 0.3), 0px 1px 3px 1px rgba(60, 64, 67, 0.15);\n",
              "      fill: #174EA6;\n",
              "    }\n",
              "\n",
              "    .colab-df-buttons div {\n",
              "      margin-bottom: 4px;\n",
              "    }\n",
              "\n",
              "    [theme=dark] .colab-df-convert {\n",
              "      background-color: #3B4455;\n",
              "      fill: #D2E3FC;\n",
              "    }\n",
              "\n",
              "    [theme=dark] .colab-df-convert:hover {\n",
              "      background-color: #434B5C;\n",
              "      box-shadow: 0px 1px 3px 1px rgba(0, 0, 0, 0.15);\n",
              "      filter: drop-shadow(0px 1px 2px rgba(0, 0, 0, 0.3));\n",
              "      fill: #FFFFFF;\n",
              "    }\n",
              "  </style>\n",
              "\n",
              "    <script>\n",
              "      const buttonEl =\n",
              "        document.querySelector('#df-850f15cb-2b04-4adc-b611-99a624d95dd6 button.colab-df-convert');\n",
              "      buttonEl.style.display =\n",
              "        google.colab.kernel.accessAllowed ? 'block' : 'none';\n",
              "\n",
              "      async function convertToInteractive(key) {\n",
              "        const element = document.querySelector('#df-850f15cb-2b04-4adc-b611-99a624d95dd6');\n",
              "        const dataTable =\n",
              "          await google.colab.kernel.invokeFunction('convertToInteractive',\n",
              "                                                    [key], {});\n",
              "        if (!dataTable) return;\n",
              "\n",
              "        const docLinkHtml = 'Like what you see? Visit the ' +\n",
              "          '<a target=\"_blank\" href=https://colab.research.google.com/notebooks/data_table.ipynb>data table notebook</a>'\n",
              "          + ' to learn more about interactive tables.';\n",
              "        element.innerHTML = '';\n",
              "        dataTable['output_type'] = 'display_data';\n",
              "        await google.colab.output.renderOutput(dataTable, element);\n",
              "        const docLink = document.createElement('div');\n",
              "        docLink.innerHTML = docLinkHtml;\n",
              "        element.appendChild(docLink);\n",
              "      }\n",
              "    </script>\n",
              "  </div>\n",
              "\n",
              "\n",
              "    </div>\n",
              "  </div>\n"
            ],
            "application/vnd.google.colaboratory.intrinsic+json": {
              "type": "dataframe",
              "summary": "{\n  \"name\": \"pd\",\n  \"rows\": 1,\n  \"fields\": [\n    {\n      \"column\": \"rating_count\",\n      \"properties\": {\n        \"dtype\": \"number\",\n        \"std\": null,\n        \"min\": 6456,\n        \"max\": 6456,\n        \"num_unique_values\": 1,\n        \"samples\": [\n          6456\n        ],\n        \"semantic_type\": \"\",\n        \"description\": \"\"\n      }\n    }\n  ]\n}"
            }
          },
          "metadata": {},
          "execution_count": 11
        }
      ],
      "source": [
        "query = '''SELECT COUNT(*) AS rating_count FROM ratings;'''\n",
        "con=engine.connect()\n",
        "pd.io.sql.read_sql(sql=text(query), con = con)"
      ]
    },
    {
      "cell_type": "markdown",
      "metadata": {
        "id": "D0jwgrlRGKya"
      },
      "source": [
        "Вывод первых строк и подсчет количества строк в таблице reviews"
      ]
    },
    {
      "cell_type": "code",
      "execution_count": null,
      "metadata": {
        "id": "FpcDZT1zGKya",
        "outputId": "707febac-06e3-47ff-8326-7c143836c086",
        "colab": {
          "base_uri": "https://localhost:8080/",
          "height": 206
        }
      },
      "outputs": [
        {
          "output_type": "execute_result",
          "data": {
            "text/plain": [
              "   review_id  book_id       username  \\\n",
              "0          1        1   brandtandrea   \n",
              "1          2        1     ryanfranco   \n",
              "2          3        2       lorichen   \n",
              "3          4        3  johnsonamanda   \n",
              "4          5        3    scotttamara   \n",
              "\n",
              "                                                text  \n",
              "0  Mention society tell send professor analysis. ...  \n",
              "1  Foot glass pretty audience hit themselves. Amo...  \n",
              "2  Listen treat keep worry. Miss husband tax but ...  \n",
              "3  Finally month interesting blue could nature cu...  \n",
              "4  Nation purpose heavy give wait song will. List...  "
            ],
            "text/html": [
              "\n",
              "  <div id=\"df-e4845b2f-9422-4897-a412-d889da134491\" class=\"colab-df-container\">\n",
              "    <div>\n",
              "<style scoped>\n",
              "    .dataframe tbody tr th:only-of-type {\n",
              "        vertical-align: middle;\n",
              "    }\n",
              "\n",
              "    .dataframe tbody tr th {\n",
              "        vertical-align: top;\n",
              "    }\n",
              "\n",
              "    .dataframe thead th {\n",
              "        text-align: right;\n",
              "    }\n",
              "</style>\n",
              "<table border=\"1\" class=\"dataframe\">\n",
              "  <thead>\n",
              "    <tr style=\"text-align: right;\">\n",
              "      <th></th>\n",
              "      <th>review_id</th>\n",
              "      <th>book_id</th>\n",
              "      <th>username</th>\n",
              "      <th>text</th>\n",
              "    </tr>\n",
              "  </thead>\n",
              "  <tbody>\n",
              "    <tr>\n",
              "      <th>0</th>\n",
              "      <td>1</td>\n",
              "      <td>1</td>\n",
              "      <td>brandtandrea</td>\n",
              "      <td>Mention society tell send professor analysis. ...</td>\n",
              "    </tr>\n",
              "    <tr>\n",
              "      <th>1</th>\n",
              "      <td>2</td>\n",
              "      <td>1</td>\n",
              "      <td>ryanfranco</td>\n",
              "      <td>Foot glass pretty audience hit themselves. Amo...</td>\n",
              "    </tr>\n",
              "    <tr>\n",
              "      <th>2</th>\n",
              "      <td>3</td>\n",
              "      <td>2</td>\n",
              "      <td>lorichen</td>\n",
              "      <td>Listen treat keep worry. Miss husband tax but ...</td>\n",
              "    </tr>\n",
              "    <tr>\n",
              "      <th>3</th>\n",
              "      <td>4</td>\n",
              "      <td>3</td>\n",
              "      <td>johnsonamanda</td>\n",
              "      <td>Finally month interesting blue could nature cu...</td>\n",
              "    </tr>\n",
              "    <tr>\n",
              "      <th>4</th>\n",
              "      <td>5</td>\n",
              "      <td>3</td>\n",
              "      <td>scotttamara</td>\n",
              "      <td>Nation purpose heavy give wait song will. List...</td>\n",
              "    </tr>\n",
              "  </tbody>\n",
              "</table>\n",
              "</div>\n",
              "    <div class=\"colab-df-buttons\">\n",
              "\n",
              "  <div class=\"colab-df-container\">\n",
              "    <button class=\"colab-df-convert\" onclick=\"convertToInteractive('df-e4845b2f-9422-4897-a412-d889da134491')\"\n",
              "            title=\"Convert this dataframe to an interactive table.\"\n",
              "            style=\"display:none;\">\n",
              "\n",
              "  <svg xmlns=\"http://www.w3.org/2000/svg\" height=\"24px\" viewBox=\"0 -960 960 960\">\n",
              "    <path d=\"M120-120v-720h720v720H120Zm60-500h600v-160H180v160Zm220 220h160v-160H400v160Zm0 220h160v-160H400v160ZM180-400h160v-160H180v160Zm440 0h160v-160H620v160ZM180-180h160v-160H180v160Zm440 0h160v-160H620v160Z\"/>\n",
              "  </svg>\n",
              "    </button>\n",
              "\n",
              "  <style>\n",
              "    .colab-df-container {\n",
              "      display:flex;\n",
              "      gap: 12px;\n",
              "    }\n",
              "\n",
              "    .colab-df-convert {\n",
              "      background-color: #E8F0FE;\n",
              "      border: none;\n",
              "      border-radius: 50%;\n",
              "      cursor: pointer;\n",
              "      display: none;\n",
              "      fill: #1967D2;\n",
              "      height: 32px;\n",
              "      padding: 0 0 0 0;\n",
              "      width: 32px;\n",
              "    }\n",
              "\n",
              "    .colab-df-convert:hover {\n",
              "      background-color: #E2EBFA;\n",
              "      box-shadow: 0px 1px 2px rgba(60, 64, 67, 0.3), 0px 1px 3px 1px rgba(60, 64, 67, 0.15);\n",
              "      fill: #174EA6;\n",
              "    }\n",
              "\n",
              "    .colab-df-buttons div {\n",
              "      margin-bottom: 4px;\n",
              "    }\n",
              "\n",
              "    [theme=dark] .colab-df-convert {\n",
              "      background-color: #3B4455;\n",
              "      fill: #D2E3FC;\n",
              "    }\n",
              "\n",
              "    [theme=dark] .colab-df-convert:hover {\n",
              "      background-color: #434B5C;\n",
              "      box-shadow: 0px 1px 3px 1px rgba(0, 0, 0, 0.15);\n",
              "      filter: drop-shadow(0px 1px 2px rgba(0, 0, 0, 0.3));\n",
              "      fill: #FFFFFF;\n",
              "    }\n",
              "  </style>\n",
              "\n",
              "    <script>\n",
              "      const buttonEl =\n",
              "        document.querySelector('#df-e4845b2f-9422-4897-a412-d889da134491 button.colab-df-convert');\n",
              "      buttonEl.style.display =\n",
              "        google.colab.kernel.accessAllowed ? 'block' : 'none';\n",
              "\n",
              "      async function convertToInteractive(key) {\n",
              "        const element = document.querySelector('#df-e4845b2f-9422-4897-a412-d889da134491');\n",
              "        const dataTable =\n",
              "          await google.colab.kernel.invokeFunction('convertToInteractive',\n",
              "                                                    [key], {});\n",
              "        if (!dataTable) return;\n",
              "\n",
              "        const docLinkHtml = 'Like what you see? Visit the ' +\n",
              "          '<a target=\"_blank\" href=https://colab.research.google.com/notebooks/data_table.ipynb>data table notebook</a>'\n",
              "          + ' to learn more about interactive tables.';\n",
              "        element.innerHTML = '';\n",
              "        dataTable['output_type'] = 'display_data';\n",
              "        await google.colab.output.renderOutput(dataTable, element);\n",
              "        const docLink = document.createElement('div');\n",
              "        docLink.innerHTML = docLinkHtml;\n",
              "        element.appendChild(docLink);\n",
              "      }\n",
              "    </script>\n",
              "  </div>\n",
              "\n",
              "\n",
              "<div id=\"df-5d51da90-8dfa-4bf7-900a-f4fb1d6c9ec2\">\n",
              "  <button class=\"colab-df-quickchart\" onclick=\"quickchart('df-5d51da90-8dfa-4bf7-900a-f4fb1d6c9ec2')\"\n",
              "            title=\"Suggest charts\"\n",
              "            style=\"display:none;\">\n",
              "\n",
              "<svg xmlns=\"http://www.w3.org/2000/svg\" height=\"24px\"viewBox=\"0 0 24 24\"\n",
              "     width=\"24px\">\n",
              "    <g>\n",
              "        <path d=\"M19 3H5c-1.1 0-2 .9-2 2v14c0 1.1.9 2 2 2h14c1.1 0 2-.9 2-2V5c0-1.1-.9-2-2-2zM9 17H7v-7h2v7zm4 0h-2V7h2v10zm4 0h-2v-4h2v4z\"/>\n",
              "    </g>\n",
              "</svg>\n",
              "  </button>\n",
              "\n",
              "<style>\n",
              "  .colab-df-quickchart {\n",
              "      --bg-color: #E8F0FE;\n",
              "      --fill-color: #1967D2;\n",
              "      --hover-bg-color: #E2EBFA;\n",
              "      --hover-fill-color: #174EA6;\n",
              "      --disabled-fill-color: #AAA;\n",
              "      --disabled-bg-color: #DDD;\n",
              "  }\n",
              "\n",
              "  [theme=dark] .colab-df-quickchart {\n",
              "      --bg-color: #3B4455;\n",
              "      --fill-color: #D2E3FC;\n",
              "      --hover-bg-color: #434B5C;\n",
              "      --hover-fill-color: #FFFFFF;\n",
              "      --disabled-bg-color: #3B4455;\n",
              "      --disabled-fill-color: #666;\n",
              "  }\n",
              "\n",
              "  .colab-df-quickchart {\n",
              "    background-color: var(--bg-color);\n",
              "    border: none;\n",
              "    border-radius: 50%;\n",
              "    cursor: pointer;\n",
              "    display: none;\n",
              "    fill: var(--fill-color);\n",
              "    height: 32px;\n",
              "    padding: 0;\n",
              "    width: 32px;\n",
              "  }\n",
              "\n",
              "  .colab-df-quickchart:hover {\n",
              "    background-color: var(--hover-bg-color);\n",
              "    box-shadow: 0 1px 2px rgba(60, 64, 67, 0.3), 0 1px 3px 1px rgba(60, 64, 67, 0.15);\n",
              "    fill: var(--button-hover-fill-color);\n",
              "  }\n",
              "\n",
              "  .colab-df-quickchart-complete:disabled,\n",
              "  .colab-df-quickchart-complete:disabled:hover {\n",
              "    background-color: var(--disabled-bg-color);\n",
              "    fill: var(--disabled-fill-color);\n",
              "    box-shadow: none;\n",
              "  }\n",
              "\n",
              "  .colab-df-spinner {\n",
              "    border: 2px solid var(--fill-color);\n",
              "    border-color: transparent;\n",
              "    border-bottom-color: var(--fill-color);\n",
              "    animation:\n",
              "      spin 1s steps(1) infinite;\n",
              "  }\n",
              "\n",
              "  @keyframes spin {\n",
              "    0% {\n",
              "      border-color: transparent;\n",
              "      border-bottom-color: var(--fill-color);\n",
              "      border-left-color: var(--fill-color);\n",
              "    }\n",
              "    20% {\n",
              "      border-color: transparent;\n",
              "      border-left-color: var(--fill-color);\n",
              "      border-top-color: var(--fill-color);\n",
              "    }\n",
              "    30% {\n",
              "      border-color: transparent;\n",
              "      border-left-color: var(--fill-color);\n",
              "      border-top-color: var(--fill-color);\n",
              "      border-right-color: var(--fill-color);\n",
              "    }\n",
              "    40% {\n",
              "      border-color: transparent;\n",
              "      border-right-color: var(--fill-color);\n",
              "      border-top-color: var(--fill-color);\n",
              "    }\n",
              "    60% {\n",
              "      border-color: transparent;\n",
              "      border-right-color: var(--fill-color);\n",
              "    }\n",
              "    80% {\n",
              "      border-color: transparent;\n",
              "      border-right-color: var(--fill-color);\n",
              "      border-bottom-color: var(--fill-color);\n",
              "    }\n",
              "    90% {\n",
              "      border-color: transparent;\n",
              "      border-bottom-color: var(--fill-color);\n",
              "    }\n",
              "  }\n",
              "</style>\n",
              "\n",
              "  <script>\n",
              "    async function quickchart(key) {\n",
              "      const quickchartButtonEl =\n",
              "        document.querySelector('#' + key + ' button');\n",
              "      quickchartButtonEl.disabled = true;  // To prevent multiple clicks.\n",
              "      quickchartButtonEl.classList.add('colab-df-spinner');\n",
              "      try {\n",
              "        const charts = await google.colab.kernel.invokeFunction(\n",
              "            'suggestCharts', [key], {});\n",
              "      } catch (error) {\n",
              "        console.error('Error during call to suggestCharts:', error);\n",
              "      }\n",
              "      quickchartButtonEl.classList.remove('colab-df-spinner');\n",
              "      quickchartButtonEl.classList.add('colab-df-quickchart-complete');\n",
              "    }\n",
              "    (() => {\n",
              "      let quickchartButtonEl =\n",
              "        document.querySelector('#df-5d51da90-8dfa-4bf7-900a-f4fb1d6c9ec2 button');\n",
              "      quickchartButtonEl.style.display =\n",
              "        google.colab.kernel.accessAllowed ? 'block' : 'none';\n",
              "    })();\n",
              "  </script>\n",
              "</div>\n",
              "\n",
              "    </div>\n",
              "  </div>\n"
            ],
            "application/vnd.google.colaboratory.intrinsic+json": {
              "type": "dataframe",
              "summary": "{\n  \"name\": \"pd\",\n  \"rows\": 5,\n  \"fields\": [\n    {\n      \"column\": \"review_id\",\n      \"properties\": {\n        \"dtype\": \"number\",\n        \"std\": 1,\n        \"min\": 1,\n        \"max\": 5,\n        \"num_unique_values\": 5,\n        \"samples\": [\n          2,\n          5,\n          3\n        ],\n        \"semantic_type\": \"\",\n        \"description\": \"\"\n      }\n    },\n    {\n      \"column\": \"book_id\",\n      \"properties\": {\n        \"dtype\": \"number\",\n        \"std\": 1,\n        \"min\": 1,\n        \"max\": 3,\n        \"num_unique_values\": 3,\n        \"samples\": [\n          1,\n          2,\n          3\n        ],\n        \"semantic_type\": \"\",\n        \"description\": \"\"\n      }\n    },\n    {\n      \"column\": \"username\",\n      \"properties\": {\n        \"dtype\": \"string\",\n        \"num_unique_values\": 5,\n        \"samples\": [\n          \"ryanfranco\",\n          \"scotttamara\",\n          \"lorichen\"\n        ],\n        \"semantic_type\": \"\",\n        \"description\": \"\"\n      }\n    },\n    {\n      \"column\": \"text\",\n      \"properties\": {\n        \"dtype\": \"string\",\n        \"num_unique_values\": 5,\n        \"samples\": [\n          \"Foot glass pretty audience hit themselves. Among admit investment argue security.\",\n          \"Nation purpose heavy give wait song will. List dinner another whole positive radio fast. Music staff many green.\",\n          \"Listen treat keep worry. Miss husband tax but person sport treatment industry. Kitchen decision deep the. Social party body the.\"\n        ],\n        \"semantic_type\": \"\",\n        \"description\": \"\"\n      }\n    }\n  ]\n}"
            }
          },
          "metadata": {},
          "execution_count": 12
        }
      ],
      "source": [
        "query = '''SELECT * FROM reviews LIMIT 5;'''\n",
        "con=engine.connect()\n",
        "pd.io.sql.read_sql(sql=text(query), con = con)"
      ]
    },
    {
      "cell_type": "code",
      "execution_count": null,
      "metadata": {
        "id": "SMfTGH7IGKya",
        "outputId": "94b813a7-fc5b-4d75-bd18-8671452d98c9",
        "colab": {
          "base_uri": "https://localhost:8080/",
          "height": 81
        }
      },
      "outputs": [
        {
          "output_type": "execute_result",
          "data": {
            "text/plain": [
              "   review_count\n",
              "0          2793"
            ],
            "text/html": [
              "\n",
              "  <div id=\"df-f4139ac3-8d9a-4f1e-998a-4761e1867231\" class=\"colab-df-container\">\n",
              "    <div>\n",
              "<style scoped>\n",
              "    .dataframe tbody tr th:only-of-type {\n",
              "        vertical-align: middle;\n",
              "    }\n",
              "\n",
              "    .dataframe tbody tr th {\n",
              "        vertical-align: top;\n",
              "    }\n",
              "\n",
              "    .dataframe thead th {\n",
              "        text-align: right;\n",
              "    }\n",
              "</style>\n",
              "<table border=\"1\" class=\"dataframe\">\n",
              "  <thead>\n",
              "    <tr style=\"text-align: right;\">\n",
              "      <th></th>\n",
              "      <th>review_count</th>\n",
              "    </tr>\n",
              "  </thead>\n",
              "  <tbody>\n",
              "    <tr>\n",
              "      <th>0</th>\n",
              "      <td>2793</td>\n",
              "    </tr>\n",
              "  </tbody>\n",
              "</table>\n",
              "</div>\n",
              "    <div class=\"colab-df-buttons\">\n",
              "\n",
              "  <div class=\"colab-df-container\">\n",
              "    <button class=\"colab-df-convert\" onclick=\"convertToInteractive('df-f4139ac3-8d9a-4f1e-998a-4761e1867231')\"\n",
              "            title=\"Convert this dataframe to an interactive table.\"\n",
              "            style=\"display:none;\">\n",
              "\n",
              "  <svg xmlns=\"http://www.w3.org/2000/svg\" height=\"24px\" viewBox=\"0 -960 960 960\">\n",
              "    <path d=\"M120-120v-720h720v720H120Zm60-500h600v-160H180v160Zm220 220h160v-160H400v160Zm0 220h160v-160H400v160ZM180-400h160v-160H180v160Zm440 0h160v-160H620v160ZM180-180h160v-160H180v160Zm440 0h160v-160H620v160Z\"/>\n",
              "  </svg>\n",
              "    </button>\n",
              "\n",
              "  <style>\n",
              "    .colab-df-container {\n",
              "      display:flex;\n",
              "      gap: 12px;\n",
              "    }\n",
              "\n",
              "    .colab-df-convert {\n",
              "      background-color: #E8F0FE;\n",
              "      border: none;\n",
              "      border-radius: 50%;\n",
              "      cursor: pointer;\n",
              "      display: none;\n",
              "      fill: #1967D2;\n",
              "      height: 32px;\n",
              "      padding: 0 0 0 0;\n",
              "      width: 32px;\n",
              "    }\n",
              "\n",
              "    .colab-df-convert:hover {\n",
              "      background-color: #E2EBFA;\n",
              "      box-shadow: 0px 1px 2px rgba(60, 64, 67, 0.3), 0px 1px 3px 1px rgba(60, 64, 67, 0.15);\n",
              "      fill: #174EA6;\n",
              "    }\n",
              "\n",
              "    .colab-df-buttons div {\n",
              "      margin-bottom: 4px;\n",
              "    }\n",
              "\n",
              "    [theme=dark] .colab-df-convert {\n",
              "      background-color: #3B4455;\n",
              "      fill: #D2E3FC;\n",
              "    }\n",
              "\n",
              "    [theme=dark] .colab-df-convert:hover {\n",
              "      background-color: #434B5C;\n",
              "      box-shadow: 0px 1px 3px 1px rgba(0, 0, 0, 0.15);\n",
              "      filter: drop-shadow(0px 1px 2px rgba(0, 0, 0, 0.3));\n",
              "      fill: #FFFFFF;\n",
              "    }\n",
              "  </style>\n",
              "\n",
              "    <script>\n",
              "      const buttonEl =\n",
              "        document.querySelector('#df-f4139ac3-8d9a-4f1e-998a-4761e1867231 button.colab-df-convert');\n",
              "      buttonEl.style.display =\n",
              "        google.colab.kernel.accessAllowed ? 'block' : 'none';\n",
              "\n",
              "      async function convertToInteractive(key) {\n",
              "        const element = document.querySelector('#df-f4139ac3-8d9a-4f1e-998a-4761e1867231');\n",
              "        const dataTable =\n",
              "          await google.colab.kernel.invokeFunction('convertToInteractive',\n",
              "                                                    [key], {});\n",
              "        if (!dataTable) return;\n",
              "\n",
              "        const docLinkHtml = 'Like what you see? Visit the ' +\n",
              "          '<a target=\"_blank\" href=https://colab.research.google.com/notebooks/data_table.ipynb>data table notebook</a>'\n",
              "          + ' to learn more about interactive tables.';\n",
              "        element.innerHTML = '';\n",
              "        dataTable['output_type'] = 'display_data';\n",
              "        await google.colab.output.renderOutput(dataTable, element);\n",
              "        const docLink = document.createElement('div');\n",
              "        docLink.innerHTML = docLinkHtml;\n",
              "        element.appendChild(docLink);\n",
              "      }\n",
              "    </script>\n",
              "  </div>\n",
              "\n",
              "\n",
              "    </div>\n",
              "  </div>\n"
            ],
            "application/vnd.google.colaboratory.intrinsic+json": {
              "type": "dataframe",
              "summary": "{\n  \"name\": \"pd\",\n  \"rows\": 1,\n  \"fields\": [\n    {\n      \"column\": \"review_count\",\n      \"properties\": {\n        \"dtype\": \"number\",\n        \"std\": null,\n        \"min\": 2793,\n        \"max\": 2793,\n        \"num_unique_values\": 1,\n        \"samples\": [\n          2793\n        ],\n        \"semantic_type\": \"\",\n        \"description\": \"\"\n      }\n    }\n  ]\n}"
            }
          },
          "metadata": {},
          "execution_count": 13
        }
      ],
      "source": [
        "query = '''SELECT COUNT(*)AS review_count FROM reviews;'''\n",
        "con=engine.connect()\n",
        "pd.io.sql.read_sql(sql=text(query), con = con)"
      ]
    },
    {
      "cell_type": "markdown",
      "metadata": {
        "id": "-la2Ce4XGKyb"
      },
      "source": [
        "#### Посчитаем, сколько книг вышло после 1 января 2000 года."
      ]
    },
    {
      "cell_type": "code",
      "execution_count": null,
      "metadata": {
        "id": "J7RIoCeNGKyb",
        "outputId": "5e333cbe-689a-417a-a90f-a18e248cb210",
        "colab": {
          "base_uri": "https://localhost:8080/",
          "height": 81
        }
      },
      "outputs": [
        {
          "output_type": "execute_result",
          "data": {
            "text/plain": [
              "   books_published_after_2000\n",
              "0                         819"
            ],
            "text/html": [
              "\n",
              "  <div id=\"df-c94ff7c2-eaf9-45a5-a81b-40752e9cb5cc\" class=\"colab-df-container\">\n",
              "    <div>\n",
              "<style scoped>\n",
              "    .dataframe tbody tr th:only-of-type {\n",
              "        vertical-align: middle;\n",
              "    }\n",
              "\n",
              "    .dataframe tbody tr th {\n",
              "        vertical-align: top;\n",
              "    }\n",
              "\n",
              "    .dataframe thead th {\n",
              "        text-align: right;\n",
              "    }\n",
              "</style>\n",
              "<table border=\"1\" class=\"dataframe\">\n",
              "  <thead>\n",
              "    <tr style=\"text-align: right;\">\n",
              "      <th></th>\n",
              "      <th>books_published_after_2000</th>\n",
              "    </tr>\n",
              "  </thead>\n",
              "  <tbody>\n",
              "    <tr>\n",
              "      <th>0</th>\n",
              "      <td>819</td>\n",
              "    </tr>\n",
              "  </tbody>\n",
              "</table>\n",
              "</div>\n",
              "    <div class=\"colab-df-buttons\">\n",
              "\n",
              "  <div class=\"colab-df-container\">\n",
              "    <button class=\"colab-df-convert\" onclick=\"convertToInteractive('df-c94ff7c2-eaf9-45a5-a81b-40752e9cb5cc')\"\n",
              "            title=\"Convert this dataframe to an interactive table.\"\n",
              "            style=\"display:none;\">\n",
              "\n",
              "  <svg xmlns=\"http://www.w3.org/2000/svg\" height=\"24px\" viewBox=\"0 -960 960 960\">\n",
              "    <path d=\"M120-120v-720h720v720H120Zm60-500h600v-160H180v160Zm220 220h160v-160H400v160Zm0 220h160v-160H400v160ZM180-400h160v-160H180v160Zm440 0h160v-160H620v160ZM180-180h160v-160H180v160Zm440 0h160v-160H620v160Z\"/>\n",
              "  </svg>\n",
              "    </button>\n",
              "\n",
              "  <style>\n",
              "    .colab-df-container {\n",
              "      display:flex;\n",
              "      gap: 12px;\n",
              "    }\n",
              "\n",
              "    .colab-df-convert {\n",
              "      background-color: #E8F0FE;\n",
              "      border: none;\n",
              "      border-radius: 50%;\n",
              "      cursor: pointer;\n",
              "      display: none;\n",
              "      fill: #1967D2;\n",
              "      height: 32px;\n",
              "      padding: 0 0 0 0;\n",
              "      width: 32px;\n",
              "    }\n",
              "\n",
              "    .colab-df-convert:hover {\n",
              "      background-color: #E2EBFA;\n",
              "      box-shadow: 0px 1px 2px rgba(60, 64, 67, 0.3), 0px 1px 3px 1px rgba(60, 64, 67, 0.15);\n",
              "      fill: #174EA6;\n",
              "    }\n",
              "\n",
              "    .colab-df-buttons div {\n",
              "      margin-bottom: 4px;\n",
              "    }\n",
              "\n",
              "    [theme=dark] .colab-df-convert {\n",
              "      background-color: #3B4455;\n",
              "      fill: #D2E3FC;\n",
              "    }\n",
              "\n",
              "    [theme=dark] .colab-df-convert:hover {\n",
              "      background-color: #434B5C;\n",
              "      box-shadow: 0px 1px 3px 1px rgba(0, 0, 0, 0.15);\n",
              "      filter: drop-shadow(0px 1px 2px rgba(0, 0, 0, 0.3));\n",
              "      fill: #FFFFFF;\n",
              "    }\n",
              "  </style>\n",
              "\n",
              "    <script>\n",
              "      const buttonEl =\n",
              "        document.querySelector('#df-c94ff7c2-eaf9-45a5-a81b-40752e9cb5cc button.colab-df-convert');\n",
              "      buttonEl.style.display =\n",
              "        google.colab.kernel.accessAllowed ? 'block' : 'none';\n",
              "\n",
              "      async function convertToInteractive(key) {\n",
              "        const element = document.querySelector('#df-c94ff7c2-eaf9-45a5-a81b-40752e9cb5cc');\n",
              "        const dataTable =\n",
              "          await google.colab.kernel.invokeFunction('convertToInteractive',\n",
              "                                                    [key], {});\n",
              "        if (!dataTable) return;\n",
              "\n",
              "        const docLinkHtml = 'Like what you see? Visit the ' +\n",
              "          '<a target=\"_blank\" href=https://colab.research.google.com/notebooks/data_table.ipynb>data table notebook</a>'\n",
              "          + ' to learn more about interactive tables.';\n",
              "        element.innerHTML = '';\n",
              "        dataTable['output_type'] = 'display_data';\n",
              "        await google.colab.output.renderOutput(dataTable, element);\n",
              "        const docLink = document.createElement('div');\n",
              "        docLink.innerHTML = docLinkHtml;\n",
              "        element.appendChild(docLink);\n",
              "      }\n",
              "    </script>\n",
              "  </div>\n",
              "\n",
              "\n",
              "    </div>\n",
              "  </div>\n"
            ],
            "application/vnd.google.colaboratory.intrinsic+json": {
              "type": "dataframe",
              "summary": "{\n  \"name\": \"pd\",\n  \"rows\": 1,\n  \"fields\": [\n    {\n      \"column\": \"books_published_after_2000\",\n      \"properties\": {\n        \"dtype\": \"number\",\n        \"std\": null,\n        \"min\": 819,\n        \"max\": 819,\n        \"num_unique_values\": 1,\n        \"samples\": [\n          819\n        ],\n        \"semantic_type\": \"\",\n        \"description\": \"\"\n      }\n    }\n  ]\n}"
            }
          },
          "metadata": {},
          "execution_count": 14
        }
      ],
      "source": [
        "query = '''SELECT COUNT(*) AS books_published_after_2000\n",
        "FROM books\n",
        "WHERE publication_date > '2000-01-01';'''\n",
        "con=engine.connect()\n",
        "pd.io.sql.read_sql(sql=text(query), con = con)"
      ]
    },
    {
      "cell_type": "markdown",
      "metadata": {
        "id": "IYoSkGdtGKyb"
      },
      "source": [
        "После 1 января 2000 года вышло 819 книг."
      ]
    },
    {
      "cell_type": "markdown",
      "metadata": {
        "id": "ZazKi15FGKyb"
      },
      "source": [
        "#### Теперь посчитаем для каждой книги количество обзоров и среднюю оценку."
      ]
    },
    {
      "cell_type": "code",
      "execution_count": null,
      "metadata": {
        "id": "VBCrNlYUGKyb",
        "outputId": "77f1e3d7-1caa-43f4-da18-0e483eaa3686",
        "colab": {
          "base_uri": "https://localhost:8080/",
          "height": 423
        }
      },
      "outputs": [
        {
          "output_type": "execute_result",
          "data": {
            "text/plain": [
              "     book_id                                              title  review_count  \\\n",
              "0        948                            Twilight (Twilight  #1)             7   \n",
              "1        963                                Water for Elephants             6   \n",
              "2        734                                   The Glass Castle             6   \n",
              "3        302  Harry Potter and the Prisoner of Azkaban (Harr...             6   \n",
              "4        695  The Curious Incident of the Dog in the Night-Time             6   \n",
              "..       ...                                                ...           ...   \n",
              "995       83    Anne Rice's The Vampire Lestat: A Graphic Novel             0   \n",
              "996      808                            The Natural Way to Draw             0   \n",
              "997      672   The Cat in the Hat and Other Dr. Seuss Favorites             0   \n",
              "998      221                          Essential Tales and Poems             0   \n",
              "999      191  Disney's Beauty and the Beast (A Little Golden...             0   \n",
              "\n",
              "     average_rating  \n",
              "0          3.662500  \n",
              "1          3.977273  \n",
              "2          4.206897  \n",
              "3          4.414634  \n",
              "4          4.081081  \n",
              "..              ...  \n",
              "995        3.666667  \n",
              "996        3.000000  \n",
              "997        5.000000  \n",
              "998        4.000000  \n",
              "999        4.000000  \n",
              "\n",
              "[1000 rows x 4 columns]"
            ],
            "text/html": [
              "\n",
              "  <div id=\"df-abc3776e-4494-41d0-8634-e2d1b6178b56\" class=\"colab-df-container\">\n",
              "    <div>\n",
              "<style scoped>\n",
              "    .dataframe tbody tr th:only-of-type {\n",
              "        vertical-align: middle;\n",
              "    }\n",
              "\n",
              "    .dataframe tbody tr th {\n",
              "        vertical-align: top;\n",
              "    }\n",
              "\n",
              "    .dataframe thead th {\n",
              "        text-align: right;\n",
              "    }\n",
              "</style>\n",
              "<table border=\"1\" class=\"dataframe\">\n",
              "  <thead>\n",
              "    <tr style=\"text-align: right;\">\n",
              "      <th></th>\n",
              "      <th>book_id</th>\n",
              "      <th>title</th>\n",
              "      <th>review_count</th>\n",
              "      <th>average_rating</th>\n",
              "    </tr>\n",
              "  </thead>\n",
              "  <tbody>\n",
              "    <tr>\n",
              "      <th>0</th>\n",
              "      <td>948</td>\n",
              "      <td>Twilight (Twilight  #1)</td>\n",
              "      <td>7</td>\n",
              "      <td>3.662500</td>\n",
              "    </tr>\n",
              "    <tr>\n",
              "      <th>1</th>\n",
              "      <td>963</td>\n",
              "      <td>Water for Elephants</td>\n",
              "      <td>6</td>\n",
              "      <td>3.977273</td>\n",
              "    </tr>\n",
              "    <tr>\n",
              "      <th>2</th>\n",
              "      <td>734</td>\n",
              "      <td>The Glass Castle</td>\n",
              "      <td>6</td>\n",
              "      <td>4.206897</td>\n",
              "    </tr>\n",
              "    <tr>\n",
              "      <th>3</th>\n",
              "      <td>302</td>\n",
              "      <td>Harry Potter and the Prisoner of Azkaban (Harr...</td>\n",
              "      <td>6</td>\n",
              "      <td>4.414634</td>\n",
              "    </tr>\n",
              "    <tr>\n",
              "      <th>4</th>\n",
              "      <td>695</td>\n",
              "      <td>The Curious Incident of the Dog in the Night-Time</td>\n",
              "      <td>6</td>\n",
              "      <td>4.081081</td>\n",
              "    </tr>\n",
              "    <tr>\n",
              "      <th>...</th>\n",
              "      <td>...</td>\n",
              "      <td>...</td>\n",
              "      <td>...</td>\n",
              "      <td>...</td>\n",
              "    </tr>\n",
              "    <tr>\n",
              "      <th>995</th>\n",
              "      <td>83</td>\n",
              "      <td>Anne Rice's The Vampire Lestat: A Graphic Novel</td>\n",
              "      <td>0</td>\n",
              "      <td>3.666667</td>\n",
              "    </tr>\n",
              "    <tr>\n",
              "      <th>996</th>\n",
              "      <td>808</td>\n",
              "      <td>The Natural Way to Draw</td>\n",
              "      <td>0</td>\n",
              "      <td>3.000000</td>\n",
              "    </tr>\n",
              "    <tr>\n",
              "      <th>997</th>\n",
              "      <td>672</td>\n",
              "      <td>The Cat in the Hat and Other Dr. Seuss Favorites</td>\n",
              "      <td>0</td>\n",
              "      <td>5.000000</td>\n",
              "    </tr>\n",
              "    <tr>\n",
              "      <th>998</th>\n",
              "      <td>221</td>\n",
              "      <td>Essential Tales and Poems</td>\n",
              "      <td>0</td>\n",
              "      <td>4.000000</td>\n",
              "    </tr>\n",
              "    <tr>\n",
              "      <th>999</th>\n",
              "      <td>191</td>\n",
              "      <td>Disney's Beauty and the Beast (A Little Golden...</td>\n",
              "      <td>0</td>\n",
              "      <td>4.000000</td>\n",
              "    </tr>\n",
              "  </tbody>\n",
              "</table>\n",
              "<p>1000 rows × 4 columns</p>\n",
              "</div>\n",
              "    <div class=\"colab-df-buttons\">\n",
              "\n",
              "  <div class=\"colab-df-container\">\n",
              "    <button class=\"colab-df-convert\" onclick=\"convertToInteractive('df-abc3776e-4494-41d0-8634-e2d1b6178b56')\"\n",
              "            title=\"Convert this dataframe to an interactive table.\"\n",
              "            style=\"display:none;\">\n",
              "\n",
              "  <svg xmlns=\"http://www.w3.org/2000/svg\" height=\"24px\" viewBox=\"0 -960 960 960\">\n",
              "    <path d=\"M120-120v-720h720v720H120Zm60-500h600v-160H180v160Zm220 220h160v-160H400v160Zm0 220h160v-160H400v160ZM180-400h160v-160H180v160Zm440 0h160v-160H620v160ZM180-180h160v-160H180v160Zm440 0h160v-160H620v160Z\"/>\n",
              "  </svg>\n",
              "    </button>\n",
              "\n",
              "  <style>\n",
              "    .colab-df-container {\n",
              "      display:flex;\n",
              "      gap: 12px;\n",
              "    }\n",
              "\n",
              "    .colab-df-convert {\n",
              "      background-color: #E8F0FE;\n",
              "      border: none;\n",
              "      border-radius: 50%;\n",
              "      cursor: pointer;\n",
              "      display: none;\n",
              "      fill: #1967D2;\n",
              "      height: 32px;\n",
              "      padding: 0 0 0 0;\n",
              "      width: 32px;\n",
              "    }\n",
              "\n",
              "    .colab-df-convert:hover {\n",
              "      background-color: #E2EBFA;\n",
              "      box-shadow: 0px 1px 2px rgba(60, 64, 67, 0.3), 0px 1px 3px 1px rgba(60, 64, 67, 0.15);\n",
              "      fill: #174EA6;\n",
              "    }\n",
              "\n",
              "    .colab-df-buttons div {\n",
              "      margin-bottom: 4px;\n",
              "    }\n",
              "\n",
              "    [theme=dark] .colab-df-convert {\n",
              "      background-color: #3B4455;\n",
              "      fill: #D2E3FC;\n",
              "    }\n",
              "\n",
              "    [theme=dark] .colab-df-convert:hover {\n",
              "      background-color: #434B5C;\n",
              "      box-shadow: 0px 1px 3px 1px rgba(0, 0, 0, 0.15);\n",
              "      filter: drop-shadow(0px 1px 2px rgba(0, 0, 0, 0.3));\n",
              "      fill: #FFFFFF;\n",
              "    }\n",
              "  </style>\n",
              "\n",
              "    <script>\n",
              "      const buttonEl =\n",
              "        document.querySelector('#df-abc3776e-4494-41d0-8634-e2d1b6178b56 button.colab-df-convert');\n",
              "      buttonEl.style.display =\n",
              "        google.colab.kernel.accessAllowed ? 'block' : 'none';\n",
              "\n",
              "      async function convertToInteractive(key) {\n",
              "        const element = document.querySelector('#df-abc3776e-4494-41d0-8634-e2d1b6178b56');\n",
              "        const dataTable =\n",
              "          await google.colab.kernel.invokeFunction('convertToInteractive',\n",
              "                                                    [key], {});\n",
              "        if (!dataTable) return;\n",
              "\n",
              "        const docLinkHtml = 'Like what you see? Visit the ' +\n",
              "          '<a target=\"_blank\" href=https://colab.research.google.com/notebooks/data_table.ipynb>data table notebook</a>'\n",
              "          + ' to learn more about interactive tables.';\n",
              "        element.innerHTML = '';\n",
              "        dataTable['output_type'] = 'display_data';\n",
              "        await google.colab.output.renderOutput(dataTable, element);\n",
              "        const docLink = document.createElement('div');\n",
              "        docLink.innerHTML = docLinkHtml;\n",
              "        element.appendChild(docLink);\n",
              "      }\n",
              "    </script>\n",
              "  </div>\n",
              "\n",
              "\n",
              "<div id=\"df-f954e677-d052-4102-be08-9653bc0c1c64\">\n",
              "  <button class=\"colab-df-quickchart\" onclick=\"quickchart('df-f954e677-d052-4102-be08-9653bc0c1c64')\"\n",
              "            title=\"Suggest charts\"\n",
              "            style=\"display:none;\">\n",
              "\n",
              "<svg xmlns=\"http://www.w3.org/2000/svg\" height=\"24px\"viewBox=\"0 0 24 24\"\n",
              "     width=\"24px\">\n",
              "    <g>\n",
              "        <path d=\"M19 3H5c-1.1 0-2 .9-2 2v14c0 1.1.9 2 2 2h14c1.1 0 2-.9 2-2V5c0-1.1-.9-2-2-2zM9 17H7v-7h2v7zm4 0h-2V7h2v10zm4 0h-2v-4h2v4z\"/>\n",
              "    </g>\n",
              "</svg>\n",
              "  </button>\n",
              "\n",
              "<style>\n",
              "  .colab-df-quickchart {\n",
              "      --bg-color: #E8F0FE;\n",
              "      --fill-color: #1967D2;\n",
              "      --hover-bg-color: #E2EBFA;\n",
              "      --hover-fill-color: #174EA6;\n",
              "      --disabled-fill-color: #AAA;\n",
              "      --disabled-bg-color: #DDD;\n",
              "  }\n",
              "\n",
              "  [theme=dark] .colab-df-quickchart {\n",
              "      --bg-color: #3B4455;\n",
              "      --fill-color: #D2E3FC;\n",
              "      --hover-bg-color: #434B5C;\n",
              "      --hover-fill-color: #FFFFFF;\n",
              "      --disabled-bg-color: #3B4455;\n",
              "      --disabled-fill-color: #666;\n",
              "  }\n",
              "\n",
              "  .colab-df-quickchart {\n",
              "    background-color: var(--bg-color);\n",
              "    border: none;\n",
              "    border-radius: 50%;\n",
              "    cursor: pointer;\n",
              "    display: none;\n",
              "    fill: var(--fill-color);\n",
              "    height: 32px;\n",
              "    padding: 0;\n",
              "    width: 32px;\n",
              "  }\n",
              "\n",
              "  .colab-df-quickchart:hover {\n",
              "    background-color: var(--hover-bg-color);\n",
              "    box-shadow: 0 1px 2px rgba(60, 64, 67, 0.3), 0 1px 3px 1px rgba(60, 64, 67, 0.15);\n",
              "    fill: var(--button-hover-fill-color);\n",
              "  }\n",
              "\n",
              "  .colab-df-quickchart-complete:disabled,\n",
              "  .colab-df-quickchart-complete:disabled:hover {\n",
              "    background-color: var(--disabled-bg-color);\n",
              "    fill: var(--disabled-fill-color);\n",
              "    box-shadow: none;\n",
              "  }\n",
              "\n",
              "  .colab-df-spinner {\n",
              "    border: 2px solid var(--fill-color);\n",
              "    border-color: transparent;\n",
              "    border-bottom-color: var(--fill-color);\n",
              "    animation:\n",
              "      spin 1s steps(1) infinite;\n",
              "  }\n",
              "\n",
              "  @keyframes spin {\n",
              "    0% {\n",
              "      border-color: transparent;\n",
              "      border-bottom-color: var(--fill-color);\n",
              "      border-left-color: var(--fill-color);\n",
              "    }\n",
              "    20% {\n",
              "      border-color: transparent;\n",
              "      border-left-color: var(--fill-color);\n",
              "      border-top-color: var(--fill-color);\n",
              "    }\n",
              "    30% {\n",
              "      border-color: transparent;\n",
              "      border-left-color: var(--fill-color);\n",
              "      border-top-color: var(--fill-color);\n",
              "      border-right-color: var(--fill-color);\n",
              "    }\n",
              "    40% {\n",
              "      border-color: transparent;\n",
              "      border-right-color: var(--fill-color);\n",
              "      border-top-color: var(--fill-color);\n",
              "    }\n",
              "    60% {\n",
              "      border-color: transparent;\n",
              "      border-right-color: var(--fill-color);\n",
              "    }\n",
              "    80% {\n",
              "      border-color: transparent;\n",
              "      border-right-color: var(--fill-color);\n",
              "      border-bottom-color: var(--fill-color);\n",
              "    }\n",
              "    90% {\n",
              "      border-color: transparent;\n",
              "      border-bottom-color: var(--fill-color);\n",
              "    }\n",
              "  }\n",
              "</style>\n",
              "\n",
              "  <script>\n",
              "    async function quickchart(key) {\n",
              "      const quickchartButtonEl =\n",
              "        document.querySelector('#' + key + ' button');\n",
              "      quickchartButtonEl.disabled = true;  // To prevent multiple clicks.\n",
              "      quickchartButtonEl.classList.add('colab-df-spinner');\n",
              "      try {\n",
              "        const charts = await google.colab.kernel.invokeFunction(\n",
              "            'suggestCharts', [key], {});\n",
              "      } catch (error) {\n",
              "        console.error('Error during call to suggestCharts:', error);\n",
              "      }\n",
              "      quickchartButtonEl.classList.remove('colab-df-spinner');\n",
              "      quickchartButtonEl.classList.add('colab-df-quickchart-complete');\n",
              "    }\n",
              "    (() => {\n",
              "      let quickchartButtonEl =\n",
              "        document.querySelector('#df-f954e677-d052-4102-be08-9653bc0c1c64 button');\n",
              "      quickchartButtonEl.style.display =\n",
              "        google.colab.kernel.accessAllowed ? 'block' : 'none';\n",
              "    })();\n",
              "  </script>\n",
              "</div>\n",
              "\n",
              "    </div>\n",
              "  </div>\n"
            ],
            "application/vnd.google.colaboratory.intrinsic+json": {
              "type": "dataframe",
              "summary": "{\n  \"name\": \"pd\",\n  \"rows\": 1000,\n  \"fields\": [\n    {\n      \"column\": \"book_id\",\n      \"properties\": {\n        \"dtype\": \"number\",\n        \"std\": 288,\n        \"min\": 1,\n        \"max\": 1000,\n        \"num_unique_values\": 1000,\n        \"samples\": [\n          25,\n          490,\n          498\n        ],\n        \"semantic_type\": \"\",\n        \"description\": \"\"\n      }\n    },\n    {\n      \"column\": \"title\",\n      \"properties\": {\n        \"dtype\": \"string\",\n        \"num_unique_values\": 999,\n        \"samples\": [\n          \"The Power of One (The Power of One  #1)\",\n          \"Tai-Pan (Asian Saga  #2)\",\n          \"A Fine Balance\"\n        ],\n        \"semantic_type\": \"\",\n        \"description\": \"\"\n      }\n    },\n    {\n      \"column\": \"review_count\",\n      \"properties\": {\n        \"dtype\": \"number\",\n        \"std\": 1,\n        \"min\": 0,\n        \"max\": 7,\n        \"num_unique_values\": 8,\n        \"samples\": [\n          6,\n          2,\n          7\n        ],\n        \"semantic_type\": \"\",\n        \"description\": \"\"\n      }\n    },\n    {\n      \"column\": \"average_rating\",\n      \"properties\": {\n        \"dtype\": \"number\",\n        \"std\": 0.5623755972127005,\n        \"min\": 1.5,\n        \"max\": 5.0,\n        \"num_unique_values\": 134,\n        \"samples\": [\n          3.7272727272727275,\n          4.133333333333333,\n          3.95\n        ],\n        \"semantic_type\": \"\",\n        \"description\": \"\"\n      }\n    }\n  ]\n}"
            }
          },
          "metadata": {},
          "execution_count": 15
        }
      ],
      "source": [
        "query = '''\n",
        "    SELECT\n",
        "        b.book_id,\n",
        "        b.title,\n",
        "        COUNT(DISTINCT r.review_id) AS review_count,\n",
        "        AVG(rt.rating) AS average_rating\n",
        "    FROM\n",
        "        books b\n",
        "    LEFT JOIN\n",
        "        reviews r ON b.book_id = r.book_id\n",
        "    LEFT JOIN\n",
        "        ratings rt ON b.book_id = rt.book_id\n",
        "    GROUP BY\n",
        "        b.book_id, b.title\n",
        "    ORDER BY\n",
        "        review_count DESC;\n",
        "'''\n",
        "\n",
        "con=engine.connect()\n",
        "pd.io.sql.read_sql(sql=text(query), con = con)"
      ]
    },
    {
      "cell_type": "markdown",
      "metadata": {
        "id": "5ePfiOxQGKyc"
      },
      "source": [
        "Максимальное число ревью у `Сумерок, Воды слонам, Стеклянный замок и Гарри Поттера`."
      ]
    },
    {
      "cell_type": "markdown",
      "metadata": {
        "id": "8NA8LN8pGKyc"
      },
      "source": [
        "Посчитаем сумму значений review_count из результата запроса:"
      ]
    },
    {
      "cell_type": "code",
      "execution_count": null,
      "metadata": {
        "id": "Za6WcYYFGKyc",
        "outputId": "1e0631ad-2e8b-49bb-bd73-0df731a2fc99",
        "colab": {
          "base_uri": "https://localhost:8080/"
        }
      },
      "outputs": [
        {
          "output_type": "stream",
          "name": "stdout",
          "text": [
            "Общее количество обзоров:    total_review_count\n",
            "0              2793.0\n"
          ]
        }
      ],
      "source": [
        "query = '''\n",
        "    SELECT\n",
        "        SUM(review_count) AS total_review_count\n",
        "    FROM (\n",
        "        SELECT\n",
        "            COUNT(DISTINCT r.review_id) AS review_count\n",
        "        FROM\n",
        "            books b\n",
        "        LEFT JOIN\n",
        "            reviews r ON b.book_id = r.book_id\n",
        "        LEFT JOIN\n",
        "            ratings rt ON b.book_id = rt.book_id\n",
        "        GROUP BY\n",
        "            b.book_id, b.title\n",
        "    ) AS subq;\n",
        "'''\n",
        "\n",
        "total_review_count_after_query = pd.read_sql(query, engine)\n",
        "print(\"Общее количество обзоров:\", total_review_count_after_query)"
      ]
    },
    {
      "cell_type": "markdown",
      "metadata": {
        "id": "w4zXkp5tGKyc"
      },
      "source": [
        "#### Определим  издательство, которое выпустило наибольшее количество книг толще 50 страниц."
      ]
    },
    {
      "cell_type": "code",
      "execution_count": null,
      "metadata": {
        "id": "8lkcYNMLGKyd",
        "outputId": "0f62541b-6133-46fa-b9b5-2540343187fa",
        "colab": {
          "base_uri": "https://localhost:8080/",
          "height": 81
        }
      },
      "outputs": [
        {
          "output_type": "execute_result",
          "data": {
            "text/plain": [
              "   publisher_id      publisher  books_published\n",
              "0           212  Penguin Books               42"
            ],
            "text/html": [
              "\n",
              "  <div id=\"df-a16c9d44-68df-48cf-bd8b-86ff63e8dd31\" class=\"colab-df-container\">\n",
              "    <div>\n",
              "<style scoped>\n",
              "    .dataframe tbody tr th:only-of-type {\n",
              "        vertical-align: middle;\n",
              "    }\n",
              "\n",
              "    .dataframe tbody tr th {\n",
              "        vertical-align: top;\n",
              "    }\n",
              "\n",
              "    .dataframe thead th {\n",
              "        text-align: right;\n",
              "    }\n",
              "</style>\n",
              "<table border=\"1\" class=\"dataframe\">\n",
              "  <thead>\n",
              "    <tr style=\"text-align: right;\">\n",
              "      <th></th>\n",
              "      <th>publisher_id</th>\n",
              "      <th>publisher</th>\n",
              "      <th>books_published</th>\n",
              "    </tr>\n",
              "  </thead>\n",
              "  <tbody>\n",
              "    <tr>\n",
              "      <th>0</th>\n",
              "      <td>212</td>\n",
              "      <td>Penguin Books</td>\n",
              "      <td>42</td>\n",
              "    </tr>\n",
              "  </tbody>\n",
              "</table>\n",
              "</div>\n",
              "    <div class=\"colab-df-buttons\">\n",
              "\n",
              "  <div class=\"colab-df-container\">\n",
              "    <button class=\"colab-df-convert\" onclick=\"convertToInteractive('df-a16c9d44-68df-48cf-bd8b-86ff63e8dd31')\"\n",
              "            title=\"Convert this dataframe to an interactive table.\"\n",
              "            style=\"display:none;\">\n",
              "\n",
              "  <svg xmlns=\"http://www.w3.org/2000/svg\" height=\"24px\" viewBox=\"0 -960 960 960\">\n",
              "    <path d=\"M120-120v-720h720v720H120Zm60-500h600v-160H180v160Zm220 220h160v-160H400v160Zm0 220h160v-160H400v160ZM180-400h160v-160H180v160Zm440 0h160v-160H620v160ZM180-180h160v-160H180v160Zm440 0h160v-160H620v160Z\"/>\n",
              "  </svg>\n",
              "    </button>\n",
              "\n",
              "  <style>\n",
              "    .colab-df-container {\n",
              "      display:flex;\n",
              "      gap: 12px;\n",
              "    }\n",
              "\n",
              "    .colab-df-convert {\n",
              "      background-color: #E8F0FE;\n",
              "      border: none;\n",
              "      border-radius: 50%;\n",
              "      cursor: pointer;\n",
              "      display: none;\n",
              "      fill: #1967D2;\n",
              "      height: 32px;\n",
              "      padding: 0 0 0 0;\n",
              "      width: 32px;\n",
              "    }\n",
              "\n",
              "    .colab-df-convert:hover {\n",
              "      background-color: #E2EBFA;\n",
              "      box-shadow: 0px 1px 2px rgba(60, 64, 67, 0.3), 0px 1px 3px 1px rgba(60, 64, 67, 0.15);\n",
              "      fill: #174EA6;\n",
              "    }\n",
              "\n",
              "    .colab-df-buttons div {\n",
              "      margin-bottom: 4px;\n",
              "    }\n",
              "\n",
              "    [theme=dark] .colab-df-convert {\n",
              "      background-color: #3B4455;\n",
              "      fill: #D2E3FC;\n",
              "    }\n",
              "\n",
              "    [theme=dark] .colab-df-convert:hover {\n",
              "      background-color: #434B5C;\n",
              "      box-shadow: 0px 1px 3px 1px rgba(0, 0, 0, 0.15);\n",
              "      filter: drop-shadow(0px 1px 2px rgba(0, 0, 0, 0.3));\n",
              "      fill: #FFFFFF;\n",
              "    }\n",
              "  </style>\n",
              "\n",
              "    <script>\n",
              "      const buttonEl =\n",
              "        document.querySelector('#df-a16c9d44-68df-48cf-bd8b-86ff63e8dd31 button.colab-df-convert');\n",
              "      buttonEl.style.display =\n",
              "        google.colab.kernel.accessAllowed ? 'block' : 'none';\n",
              "\n",
              "      async function convertToInteractive(key) {\n",
              "        const element = document.querySelector('#df-a16c9d44-68df-48cf-bd8b-86ff63e8dd31');\n",
              "        const dataTable =\n",
              "          await google.colab.kernel.invokeFunction('convertToInteractive',\n",
              "                                                    [key], {});\n",
              "        if (!dataTable) return;\n",
              "\n",
              "        const docLinkHtml = 'Like what you see? Visit the ' +\n",
              "          '<a target=\"_blank\" href=https://colab.research.google.com/notebooks/data_table.ipynb>data table notebook</a>'\n",
              "          + ' to learn more about interactive tables.';\n",
              "        element.innerHTML = '';\n",
              "        dataTable['output_type'] = 'display_data';\n",
              "        await google.colab.output.renderOutput(dataTable, element);\n",
              "        const docLink = document.createElement('div');\n",
              "        docLink.innerHTML = docLinkHtml;\n",
              "        element.appendChild(docLink);\n",
              "      }\n",
              "    </script>\n",
              "  </div>\n",
              "\n",
              "\n",
              "    </div>\n",
              "  </div>\n"
            ],
            "application/vnd.google.colaboratory.intrinsic+json": {
              "type": "dataframe",
              "summary": "{\n  \"name\": \"pd\",\n  \"rows\": 1,\n  \"fields\": [\n    {\n      \"column\": \"publisher_id\",\n      \"properties\": {\n        \"dtype\": \"number\",\n        \"std\": null,\n        \"min\": 212,\n        \"max\": 212,\n        \"num_unique_values\": 1,\n        \"samples\": [\n          212\n        ],\n        \"semantic_type\": \"\",\n        \"description\": \"\"\n      }\n    },\n    {\n      \"column\": \"publisher\",\n      \"properties\": {\n        \"dtype\": \"string\",\n        \"num_unique_values\": 1,\n        \"samples\": [\n          \"Penguin Books\"\n        ],\n        \"semantic_type\": \"\",\n        \"description\": \"\"\n      }\n    },\n    {\n      \"column\": \"books_published\",\n      \"properties\": {\n        \"dtype\": \"number\",\n        \"std\": null,\n        \"min\": 42,\n        \"max\": 42,\n        \"num_unique_values\": 1,\n        \"samples\": [\n          42\n        ],\n        \"semantic_type\": \"\",\n        \"description\": \"\"\n      }\n    }\n  ]\n}"
            }
          },
          "metadata": {},
          "execution_count": 17
        }
      ],
      "source": [
        "query = '''SELECT\n",
        "    p.publisher_id,\n",
        "    p.publisher,\n",
        "    COUNT(b.book_id) AS books_published\n",
        "FROM\n",
        "    books b\n",
        "JOIN\n",
        "    publishers p ON b.publisher_id = p.publisher_id\n",
        "WHERE\n",
        "    b.num_pages > 50\n",
        "GROUP BY\n",
        "    p.publisher_id,\n",
        "    p.publisher\n",
        "ORDER BY\n",
        "    COUNT(b.book_id) DESC\n",
        "LIMIT 1;'''\n",
        "con=engine.connect()\n",
        "pd.io.sql.read_sql(sql=text(query), con = con)"
      ]
    },
    {
      "cell_type": "markdown",
      "metadata": {
        "id": "WxG8bTjdGKyd"
      },
      "source": [
        "Издательство Penguin Books выпустило наибольшее количество книг толще 50 страниц."
      ]
    },
    {
      "cell_type": "markdown",
      "metadata": {
        "id": "Be5dguQwGKyd"
      },
      "source": [
        "#### Найдем автора с самой высокой средней оценкой книг, учитывая только книги с 50 и более оценками."
      ]
    },
    {
      "cell_type": "code",
      "execution_count": null,
      "metadata": {
        "id": "gbsCkTtcGKyd",
        "outputId": "e2a41bf2-6c2a-46d9-eac7-643898b6fc89",
        "colab": {
          "base_uri": "https://localhost:8080/",
          "height": 81
        }
      },
      "outputs": [
        {
          "output_type": "execute_result",
          "data": {
            "text/plain": [
              "   author_id                      author  average_rating\n",
              "0        236  J.K. Rowling/Mary GrandPré        4.287097"
            ],
            "text/html": [
              "\n",
              "  <div id=\"df-00b17ca6-b575-4f5d-9acf-f77b5928e3d2\" class=\"colab-df-container\">\n",
              "    <div>\n",
              "<style scoped>\n",
              "    .dataframe tbody tr th:only-of-type {\n",
              "        vertical-align: middle;\n",
              "    }\n",
              "\n",
              "    .dataframe tbody tr th {\n",
              "        vertical-align: top;\n",
              "    }\n",
              "\n",
              "    .dataframe thead th {\n",
              "        text-align: right;\n",
              "    }\n",
              "</style>\n",
              "<table border=\"1\" class=\"dataframe\">\n",
              "  <thead>\n",
              "    <tr style=\"text-align: right;\">\n",
              "      <th></th>\n",
              "      <th>author_id</th>\n",
              "      <th>author</th>\n",
              "      <th>average_rating</th>\n",
              "    </tr>\n",
              "  </thead>\n",
              "  <tbody>\n",
              "    <tr>\n",
              "      <th>0</th>\n",
              "      <td>236</td>\n",
              "      <td>J.K. Rowling/Mary GrandPré</td>\n",
              "      <td>4.287097</td>\n",
              "    </tr>\n",
              "  </tbody>\n",
              "</table>\n",
              "</div>\n",
              "    <div class=\"colab-df-buttons\">\n",
              "\n",
              "  <div class=\"colab-df-container\">\n",
              "    <button class=\"colab-df-convert\" onclick=\"convertToInteractive('df-00b17ca6-b575-4f5d-9acf-f77b5928e3d2')\"\n",
              "            title=\"Convert this dataframe to an interactive table.\"\n",
              "            style=\"display:none;\">\n",
              "\n",
              "  <svg xmlns=\"http://www.w3.org/2000/svg\" height=\"24px\" viewBox=\"0 -960 960 960\">\n",
              "    <path d=\"M120-120v-720h720v720H120Zm60-500h600v-160H180v160Zm220 220h160v-160H400v160Zm0 220h160v-160H400v160ZM180-400h160v-160H180v160Zm440 0h160v-160H620v160ZM180-180h160v-160H180v160Zm440 0h160v-160H620v160Z\"/>\n",
              "  </svg>\n",
              "    </button>\n",
              "\n",
              "  <style>\n",
              "    .colab-df-container {\n",
              "      display:flex;\n",
              "      gap: 12px;\n",
              "    }\n",
              "\n",
              "    .colab-df-convert {\n",
              "      background-color: #E8F0FE;\n",
              "      border: none;\n",
              "      border-radius: 50%;\n",
              "      cursor: pointer;\n",
              "      display: none;\n",
              "      fill: #1967D2;\n",
              "      height: 32px;\n",
              "      padding: 0 0 0 0;\n",
              "      width: 32px;\n",
              "    }\n",
              "\n",
              "    .colab-df-convert:hover {\n",
              "      background-color: #E2EBFA;\n",
              "      box-shadow: 0px 1px 2px rgba(60, 64, 67, 0.3), 0px 1px 3px 1px rgba(60, 64, 67, 0.15);\n",
              "      fill: #174EA6;\n",
              "    }\n",
              "\n",
              "    .colab-df-buttons div {\n",
              "      margin-bottom: 4px;\n",
              "    }\n",
              "\n",
              "    [theme=dark] .colab-df-convert {\n",
              "      background-color: #3B4455;\n",
              "      fill: #D2E3FC;\n",
              "    }\n",
              "\n",
              "    [theme=dark] .colab-df-convert:hover {\n",
              "      background-color: #434B5C;\n",
              "      box-shadow: 0px 1px 3px 1px rgba(0, 0, 0, 0.15);\n",
              "      filter: drop-shadow(0px 1px 2px rgba(0, 0, 0, 0.3));\n",
              "      fill: #FFFFFF;\n",
              "    }\n",
              "  </style>\n",
              "\n",
              "    <script>\n",
              "      const buttonEl =\n",
              "        document.querySelector('#df-00b17ca6-b575-4f5d-9acf-f77b5928e3d2 button.colab-df-convert');\n",
              "      buttonEl.style.display =\n",
              "        google.colab.kernel.accessAllowed ? 'block' : 'none';\n",
              "\n",
              "      async function convertToInteractive(key) {\n",
              "        const element = document.querySelector('#df-00b17ca6-b575-4f5d-9acf-f77b5928e3d2');\n",
              "        const dataTable =\n",
              "          await google.colab.kernel.invokeFunction('convertToInteractive',\n",
              "                                                    [key], {});\n",
              "        if (!dataTable) return;\n",
              "\n",
              "        const docLinkHtml = 'Like what you see? Visit the ' +\n",
              "          '<a target=\"_blank\" href=https://colab.research.google.com/notebooks/data_table.ipynb>data table notebook</a>'\n",
              "          + ' to learn more about interactive tables.';\n",
              "        element.innerHTML = '';\n",
              "        dataTable['output_type'] = 'display_data';\n",
              "        await google.colab.output.renderOutput(dataTable, element);\n",
              "        const docLink = document.createElement('div');\n",
              "        docLink.innerHTML = docLinkHtml;\n",
              "        element.appendChild(docLink);\n",
              "      }\n",
              "    </script>\n",
              "  </div>\n",
              "\n",
              "\n",
              "    </div>\n",
              "  </div>\n"
            ],
            "application/vnd.google.colaboratory.intrinsic+json": {
              "type": "dataframe",
              "summary": "{\n  \"name\": \"pd\",\n  \"rows\": 1,\n  \"fields\": [\n    {\n      \"column\": \"author_id\",\n      \"properties\": {\n        \"dtype\": \"number\",\n        \"std\": null,\n        \"min\": 236,\n        \"max\": 236,\n        \"num_unique_values\": 1,\n        \"samples\": [\n          236\n        ],\n        \"semantic_type\": \"\",\n        \"description\": \"\"\n      }\n    },\n    {\n      \"column\": \"author\",\n      \"properties\": {\n        \"dtype\": \"string\",\n        \"num_unique_values\": 1,\n        \"samples\": [\n          \"J.K. Rowling/Mary GrandPr\\u00e9\"\n        ],\n        \"semantic_type\": \"\",\n        \"description\": \"\"\n      }\n    },\n    {\n      \"column\": \"average_rating\",\n      \"properties\": {\n        \"dtype\": \"number\",\n        \"std\": null,\n        \"min\": 4.287096774193548,\n        \"max\": 4.287096774193548,\n        \"num_unique_values\": 1,\n        \"samples\": [\n          4.287096774193548\n        ],\n        \"semantic_type\": \"\",\n        \"description\": \"\"\n      }\n    }\n  ]\n}"
            }
          },
          "metadata": {},
          "execution_count": 18
        }
      ],
      "source": [
        "query = '''SELECT\n",
        "    b.author_id,\n",
        "    a.author,\n",
        "    AVG(r.rating) AS average_rating\n",
        "FROM\n",
        "    (SELECT\n",
        "        book_id,\n",
        "        author_id\n",
        "    FROM\n",
        "        books\n",
        "    WHERE\n",
        "        book_id IN (\n",
        "            SELECT\n",
        "                book_id\n",
        "            FROM\n",
        "                ratings\n",
        "            GROUP BY\n",
        "                book_id\n",
        "            HAVING\n",
        "                COUNT(rating_id) >= 50\n",
        "        )) AS b\n",
        "JOIN\n",
        "    authors a ON b.author_id = a.author_id\n",
        "JOIN\n",
        "    ratings r ON b.book_id = r.book_id\n",
        "GROUP BY\n",
        "    b.author_id,\n",
        "    a.author\n",
        "ORDER BY\n",
        "    AVG(r.rating) DESC\n",
        "LIMIT 1;'''\n",
        "\n",
        "con = engine.connect()\n",
        "pd.io.sql.read_sql(sql=text(query), con=con)"
      ]
    },
    {
      "cell_type": "markdown",
      "metadata": {
        "id": "chPbQVtZGKye"
      },
      "source": [
        "Автор с самой высокой средней оценкой книг: J.K. Rowling и Mary GrandPré"
      ]
    },
    {
      "cell_type": "markdown",
      "metadata": {
        "id": "Lu-HPvh1GKye"
      },
      "source": [
        "#### Посчитаем среднее количество обзоров от пользователей, которые поставили больше 48 оценок."
      ]
    },
    {
      "cell_type": "code",
      "execution_count": null,
      "metadata": {
        "id": "pYSgt7AIGKye",
        "outputId": "9110b7f4-4bca-4435-baae-100be001a60b",
        "colab": {
          "base_uri": "https://localhost:8080/",
          "height": 81
        }
      },
      "outputs": [
        {
          "output_type": "execute_result",
          "data": {
            "text/plain": [
              "   average_review_count\n",
              "0                  24.0"
            ],
            "text/html": [
              "\n",
              "  <div id=\"df-da968dc9-7bf1-43f9-b1ea-8e4d1741f24f\" class=\"colab-df-container\">\n",
              "    <div>\n",
              "<style scoped>\n",
              "    .dataframe tbody tr th:only-of-type {\n",
              "        vertical-align: middle;\n",
              "    }\n",
              "\n",
              "    .dataframe tbody tr th {\n",
              "        vertical-align: top;\n",
              "    }\n",
              "\n",
              "    .dataframe thead th {\n",
              "        text-align: right;\n",
              "    }\n",
              "</style>\n",
              "<table border=\"1\" class=\"dataframe\">\n",
              "  <thead>\n",
              "    <tr style=\"text-align: right;\">\n",
              "      <th></th>\n",
              "      <th>average_review_count</th>\n",
              "    </tr>\n",
              "  </thead>\n",
              "  <tbody>\n",
              "    <tr>\n",
              "      <th>0</th>\n",
              "      <td>24.0</td>\n",
              "    </tr>\n",
              "  </tbody>\n",
              "</table>\n",
              "</div>\n",
              "    <div class=\"colab-df-buttons\">\n",
              "\n",
              "  <div class=\"colab-df-container\">\n",
              "    <button class=\"colab-df-convert\" onclick=\"convertToInteractive('df-da968dc9-7bf1-43f9-b1ea-8e4d1741f24f')\"\n",
              "            title=\"Convert this dataframe to an interactive table.\"\n",
              "            style=\"display:none;\">\n",
              "\n",
              "  <svg xmlns=\"http://www.w3.org/2000/svg\" height=\"24px\" viewBox=\"0 -960 960 960\">\n",
              "    <path d=\"M120-120v-720h720v720H120Zm60-500h600v-160H180v160Zm220 220h160v-160H400v160Zm0 220h160v-160H400v160ZM180-400h160v-160H180v160Zm440 0h160v-160H620v160ZM180-180h160v-160H180v160Zm440 0h160v-160H620v160Z\"/>\n",
              "  </svg>\n",
              "    </button>\n",
              "\n",
              "  <style>\n",
              "    .colab-df-container {\n",
              "      display:flex;\n",
              "      gap: 12px;\n",
              "    }\n",
              "\n",
              "    .colab-df-convert {\n",
              "      background-color: #E8F0FE;\n",
              "      border: none;\n",
              "      border-radius: 50%;\n",
              "      cursor: pointer;\n",
              "      display: none;\n",
              "      fill: #1967D2;\n",
              "      height: 32px;\n",
              "      padding: 0 0 0 0;\n",
              "      width: 32px;\n",
              "    }\n",
              "\n",
              "    .colab-df-convert:hover {\n",
              "      background-color: #E2EBFA;\n",
              "      box-shadow: 0px 1px 2px rgba(60, 64, 67, 0.3), 0px 1px 3px 1px rgba(60, 64, 67, 0.15);\n",
              "      fill: #174EA6;\n",
              "    }\n",
              "\n",
              "    .colab-df-buttons div {\n",
              "      margin-bottom: 4px;\n",
              "    }\n",
              "\n",
              "    [theme=dark] .colab-df-convert {\n",
              "      background-color: #3B4455;\n",
              "      fill: #D2E3FC;\n",
              "    }\n",
              "\n",
              "    [theme=dark] .colab-df-convert:hover {\n",
              "      background-color: #434B5C;\n",
              "      box-shadow: 0px 1px 3px 1px rgba(0, 0, 0, 0.15);\n",
              "      filter: drop-shadow(0px 1px 2px rgba(0, 0, 0, 0.3));\n",
              "      fill: #FFFFFF;\n",
              "    }\n",
              "  </style>\n",
              "\n",
              "    <script>\n",
              "      const buttonEl =\n",
              "        document.querySelector('#df-da968dc9-7bf1-43f9-b1ea-8e4d1741f24f button.colab-df-convert');\n",
              "      buttonEl.style.display =\n",
              "        google.colab.kernel.accessAllowed ? 'block' : 'none';\n",
              "\n",
              "      async function convertToInteractive(key) {\n",
              "        const element = document.querySelector('#df-da968dc9-7bf1-43f9-b1ea-8e4d1741f24f');\n",
              "        const dataTable =\n",
              "          await google.colab.kernel.invokeFunction('convertToInteractive',\n",
              "                                                    [key], {});\n",
              "        if (!dataTable) return;\n",
              "\n",
              "        const docLinkHtml = 'Like what you see? Visit the ' +\n",
              "          '<a target=\"_blank\" href=https://colab.research.google.com/notebooks/data_table.ipynb>data table notebook</a>'\n",
              "          + ' to learn more about interactive tables.';\n",
              "        element.innerHTML = '';\n",
              "        dataTable['output_type'] = 'display_data';\n",
              "        await google.colab.output.renderOutput(dataTable, element);\n",
              "        const docLink = document.createElement('div');\n",
              "        docLink.innerHTML = docLinkHtml;\n",
              "        element.appendChild(docLink);\n",
              "      }\n",
              "    </script>\n",
              "  </div>\n",
              "\n",
              "\n",
              "    </div>\n",
              "  </div>\n"
            ],
            "application/vnd.google.colaboratory.intrinsic+json": {
              "type": "dataframe",
              "summary": "{\n  \"name\": \"pd\",\n  \"rows\": 1,\n  \"fields\": [\n    {\n      \"column\": \"average_review_count\",\n      \"properties\": {\n        \"dtype\": \"number\",\n        \"std\": null,\n        \"min\": 24.0,\n        \"max\": 24.0,\n        \"num_unique_values\": 1,\n        \"samples\": [\n          24.0\n        ],\n        \"semantic_type\": \"\",\n        \"description\": \"\"\n      }\n    }\n  ]\n}"
            }
          },
          "metadata": {},
          "execution_count": 19
        }
      ],
      "source": [
        "query = '''SELECT\n",
        "    AVG(sub.review_count) AS average_review_count\n",
        "FROM (\n",
        "    SELECT\n",
        "        username,\n",
        "        COUNT(review_id) AS review_count\n",
        "    FROM\n",
        "        reviews\n",
        "    WHERE\n",
        "        username IN (\n",
        "            SELECT\n",
        "                username\n",
        "            FROM\n",
        "                ratings\n",
        "            GROUP BY\n",
        "                username\n",
        "            HAVING\n",
        "                COUNT(rating_id) > 48\n",
        "        )\n",
        "    GROUP BY\n",
        "        username\n",
        ") AS sub;'''\n",
        "con=engine.connect()\n",
        "pd.io.sql.read_sql(sql=text(query), con = con)"
      ]
    },
    {
      "cell_type": "markdown",
      "metadata": {
        "id": "VLu5_yMJGKyf"
      },
      "source": [
        "Среднее количество обзоров от пользователей, поставивших больше 48 оценок: 24 обзора."
      ]
    },
    {
      "cell_type": "markdown",
      "metadata": {
        "id": "ywHfnEpsGKyf"
      },
      "source": [
        "#### Заключение:\n",
        "\n",
        "1. **Популярные книги:**.\n",
        "   - Наибольшее количество рецензий набрали книги `Twilight (Twilight #1), Water for Elephants, The Glass Castle, Harry Potter and the Prisoner of Azkaban, The Curious Incident of the Dog in the Night-Time.`  Именно по этим книгам были сняты экранизации, что может быть связано с их широкой популярностью и говорит об их высокой популярности среди читателей.\n",
        "   \n",
        "2. **Penguin Books:** Издатель.\n",
        "   - Издательство Penguin Books опубликовало наибольшее количество книг объемом более 50 страниц. Это говорит о широком каталоге издательства и, возможно, о его долгой истории на рынке книгоиздания.\n",
        "   \n",
        "3. **Автор с самым высоким средним рейтингом:**.\n",
        "   -  J.K. Rowling и Mary GrandPré имеет самый высокий средний рейтинг книг среди авторов в наборе данных. Это может свидетельствовать о высоком качестве произведений и предпочтениях среди читателей.\n",
        "    \n",
        "4. **Среднее количество пользовательских рецензий:**.\n",
        "   - Если рассматривать пользователей, оставивших более 48 оценок, то их среднее количество рецензий составляет 24. Это может свидетельствовать о том, что эти пользователи активно участвуют в жизни сообщества, обсуждают прочитанные книги и предпочитают делиться своим мнением.  \n",
        "   \n",
        "Основываясь на этих данных, мы можем сформулировать ценностное предложение нового продукта следующим образом:\n",
        "\n",
        "\"Наш новый сервис чтения книг по подписке предлагает доступ к широкому каталогу книг от различных издательств, включая лучшие произведения авторов, которые высоко ценятся читателями, таких как J.K. Rowling. Мы создаем сообщество любителей чтения, где пользователи могут обмениваться рецензиями и рекомендациями. Мы также поддерживаем такие классические произведения, как \"Алиса в Стране чудес\" и \"Вырастить дерево в Бруклине\", которые всегда остаются в центре внимания читателей. Присоединяйтесь к нам, чтобы принять участие в захватывающем обсуждении книг с единомышленниками!\""
      ]
    }
  ],
  "metadata": {
    "ExecuteTimeLog": [
      {
        "duration": 108,
        "start_time": "2024-04-19T13:23:05.528Z"
      },
      {
        "duration": 8983,
        "start_time": "2024-04-19T13:24:48.702Z"
      },
      {
        "duration": 84,
        "start_time": "2024-04-19T13:24:57.687Z"
      },
      {
        "duration": 9102,
        "start_time": "2024-04-19T13:25:54.713Z"
      },
      {
        "duration": 785,
        "start_time": "2024-04-19T13:26:03.817Z"
      },
      {
        "duration": 8880,
        "start_time": "2024-04-19T13:27:52.002Z"
      },
      {
        "duration": 99,
        "start_time": "2024-04-19T13:28:00.884Z"
      },
      {
        "duration": 8865,
        "start_time": "2024-04-19T13:29:12.701Z"
      },
      {
        "duration": 87,
        "start_time": "2024-04-19T13:29:21.568Z"
      },
      {
        "duration": 10962,
        "start_time": "2024-04-19T13:31:07.215Z"
      },
      {
        "duration": 89,
        "start_time": "2024-04-19T13:31:18.179Z"
      },
      {
        "duration": 0,
        "start_time": "2024-04-19T13:31:18.270Z"
      },
      {
        "duration": 10321,
        "start_time": "2024-04-19T13:31:56.470Z"
      },
      {
        "duration": 48,
        "start_time": "2024-04-19T13:32:06.793Z"
      },
      {
        "duration": 9694,
        "start_time": "2024-04-19T13:33:53.103Z"
      },
      {
        "duration": 33,
        "start_time": "2024-04-19T13:34:02.799Z"
      },
      {
        "duration": 10,
        "start_time": "2024-04-19T13:34:02.834Z"
      },
      {
        "duration": 8868,
        "start_time": "2024-04-19T13:35:19.372Z"
      },
      {
        "duration": 28,
        "start_time": "2024-04-19T13:35:28.242Z"
      },
      {
        "duration": 10,
        "start_time": "2024-04-19T13:35:28.272Z"
      },
      {
        "duration": 11,
        "start_time": "2024-04-19T13:35:28.284Z"
      },
      {
        "duration": 9927,
        "start_time": "2024-04-19T13:38:32.720Z"
      },
      {
        "duration": 35,
        "start_time": "2024-04-19T13:38:42.648Z"
      },
      {
        "duration": 10,
        "start_time": "2024-04-19T13:38:42.685Z"
      },
      {
        "duration": 9,
        "start_time": "2024-04-19T13:38:42.697Z"
      },
      {
        "duration": 23,
        "start_time": "2024-04-19T13:38:42.708Z"
      },
      {
        "duration": 11,
        "start_time": "2024-04-19T13:38:42.732Z"
      },
      {
        "duration": 9235,
        "start_time": "2024-04-19T13:40:14.773Z"
      },
      {
        "duration": 32,
        "start_time": "2024-04-19T13:40:24.009Z"
      },
      {
        "duration": 10,
        "start_time": "2024-04-19T13:40:24.042Z"
      },
      {
        "duration": 28,
        "start_time": "2024-04-19T13:40:24.054Z"
      },
      {
        "duration": 12,
        "start_time": "2024-04-19T13:40:24.083Z"
      },
      {
        "duration": 10,
        "start_time": "2024-04-19T13:40:24.097Z"
      },
      {
        "duration": 12,
        "start_time": "2024-04-19T13:40:24.109Z"
      },
      {
        "duration": 10,
        "start_time": "2024-04-19T13:40:24.123Z"
      },
      {
        "duration": 9850,
        "start_time": "2024-04-19T13:41:57.564Z"
      },
      {
        "duration": 33,
        "start_time": "2024-04-19T13:42:07.417Z"
      },
      {
        "duration": 12,
        "start_time": "2024-04-19T13:42:07.452Z"
      },
      {
        "duration": 36,
        "start_time": "2024-04-19T13:42:07.466Z"
      },
      {
        "duration": 39,
        "start_time": "2024-04-19T13:42:07.504Z"
      },
      {
        "duration": 17,
        "start_time": "2024-04-19T13:42:07.545Z"
      },
      {
        "duration": 38,
        "start_time": "2024-04-19T13:42:07.563Z"
      },
      {
        "duration": 10,
        "start_time": "2024-04-19T13:42:07.603Z"
      },
      {
        "duration": 18,
        "start_time": "2024-04-19T13:42:07.615Z"
      },
      {
        "duration": 21,
        "start_time": "2024-04-19T13:42:07.636Z"
      },
      {
        "duration": 9032,
        "start_time": "2024-04-19T13:43:23.853Z"
      },
      {
        "duration": 26,
        "start_time": "2024-04-19T13:43:32.887Z"
      },
      {
        "duration": 10,
        "start_time": "2024-04-19T13:43:32.915Z"
      },
      {
        "duration": 11,
        "start_time": "2024-04-19T13:43:32.927Z"
      },
      {
        "duration": 11,
        "start_time": "2024-04-19T13:43:32.939Z"
      },
      {
        "duration": 9,
        "start_time": "2024-04-19T13:43:32.952Z"
      },
      {
        "duration": 28,
        "start_time": "2024-04-19T13:43:32.963Z"
      },
      {
        "duration": 11,
        "start_time": "2024-04-19T13:43:32.993Z"
      },
      {
        "duration": 12,
        "start_time": "2024-04-19T13:43:33.005Z"
      },
      {
        "duration": 11,
        "start_time": "2024-04-19T13:43:33.020Z"
      },
      {
        "duration": 13,
        "start_time": "2024-04-19T13:43:33.032Z"
      },
      {
        "duration": 10920,
        "start_time": "2024-04-19T13:45:16.805Z"
      },
      {
        "duration": 33,
        "start_time": "2024-04-19T13:45:27.727Z"
      },
      {
        "duration": 12,
        "start_time": "2024-04-19T13:45:27.762Z"
      },
      {
        "duration": 32,
        "start_time": "2024-04-19T13:45:27.776Z"
      },
      {
        "duration": 34,
        "start_time": "2024-04-19T13:45:27.810Z"
      },
      {
        "duration": 29,
        "start_time": "2024-04-19T13:45:27.846Z"
      },
      {
        "duration": 59,
        "start_time": "2024-04-19T13:45:27.876Z"
      },
      {
        "duration": 19,
        "start_time": "2024-04-19T13:45:27.937Z"
      },
      {
        "duration": 29,
        "start_time": "2024-04-19T13:45:27.958Z"
      },
      {
        "duration": 12,
        "start_time": "2024-04-19T13:45:27.990Z"
      },
      {
        "duration": 21,
        "start_time": "2024-04-19T13:45:28.004Z"
      },
      {
        "duration": 29,
        "start_time": "2024-04-19T13:45:28.026Z"
      },
      {
        "duration": 8983,
        "start_time": "2024-04-19T13:46:40.874Z"
      },
      {
        "duration": 29,
        "start_time": "2024-04-19T13:46:49.859Z"
      },
      {
        "duration": 10,
        "start_time": "2024-04-19T13:46:49.889Z"
      },
      {
        "duration": 10,
        "start_time": "2024-04-19T13:46:49.901Z"
      },
      {
        "duration": 10,
        "start_time": "2024-04-19T13:46:49.913Z"
      },
      {
        "duration": 12,
        "start_time": "2024-04-19T13:46:49.925Z"
      },
      {
        "duration": 12,
        "start_time": "2024-04-19T13:46:49.938Z"
      },
      {
        "duration": 43,
        "start_time": "2024-04-19T13:46:49.952Z"
      },
      {
        "duration": 14,
        "start_time": "2024-04-19T13:46:49.997Z"
      },
      {
        "duration": 13,
        "start_time": "2024-04-19T13:46:50.015Z"
      },
      {
        "duration": 25,
        "start_time": "2024-04-19T13:46:50.030Z"
      },
      {
        "duration": 39,
        "start_time": "2024-04-19T13:46:50.057Z"
      },
      {
        "duration": 13,
        "start_time": "2024-04-19T13:46:50.098Z"
      },
      {
        "duration": 533,
        "start_time": "2024-04-19T13:53:14.889Z"
      },
      {
        "duration": 3,
        "start_time": "2024-04-19T13:53:15.424Z"
      },
      {
        "duration": 8080,
        "start_time": "2024-04-19T13:53:15.429Z"
      },
      {
        "duration": 60,
        "start_time": "2024-04-19T13:53:23.511Z"
      },
      {
        "duration": 30,
        "start_time": "2024-04-19T13:53:23.573Z"
      },
      {
        "duration": 10,
        "start_time": "2024-04-19T13:53:23.605Z"
      },
      {
        "duration": 11,
        "start_time": "2024-04-19T13:53:23.617Z"
      },
      {
        "duration": 16,
        "start_time": "2024-04-19T13:53:23.629Z"
      },
      {
        "duration": 26,
        "start_time": "2024-04-19T13:53:23.647Z"
      },
      {
        "duration": 31,
        "start_time": "2024-04-19T13:53:23.675Z"
      },
      {
        "duration": 11,
        "start_time": "2024-04-19T13:53:23.708Z"
      },
      {
        "duration": 12,
        "start_time": "2024-04-19T13:53:23.721Z"
      },
      {
        "duration": 10,
        "start_time": "2024-04-19T13:53:23.734Z"
      },
      {
        "duration": 18,
        "start_time": "2024-04-19T13:53:23.745Z"
      },
      {
        "duration": 16,
        "start_time": "2024-04-19T13:53:23.765Z"
      },
      {
        "duration": 26,
        "start_time": "2024-04-19T13:53:23.783Z"
      },
      {
        "duration": 619,
        "start_time": "2024-04-19T13:59:48.573Z"
      },
      {
        "duration": 3,
        "start_time": "2024-04-19T13:59:49.194Z"
      },
      {
        "duration": 8269,
        "start_time": "2024-04-19T13:59:49.198Z"
      },
      {
        "duration": 41,
        "start_time": "2024-04-19T13:59:57.469Z"
      },
      {
        "duration": 27,
        "start_time": "2024-04-19T13:59:57.512Z"
      },
      {
        "duration": 10,
        "start_time": "2024-04-19T13:59:57.540Z"
      },
      {
        "duration": 20,
        "start_time": "2024-04-19T13:59:57.551Z"
      },
      {
        "duration": 9,
        "start_time": "2024-04-19T13:59:57.572Z"
      },
      {
        "duration": 11,
        "start_time": "2024-04-19T13:59:57.582Z"
      },
      {
        "duration": 11,
        "start_time": "2024-04-19T13:59:57.596Z"
      },
      {
        "duration": 29,
        "start_time": "2024-04-19T13:59:57.608Z"
      },
      {
        "duration": 9,
        "start_time": "2024-04-19T13:59:57.638Z"
      },
      {
        "duration": 11,
        "start_time": "2024-04-19T13:59:57.649Z"
      },
      {
        "duration": 9,
        "start_time": "2024-04-19T13:59:57.662Z"
      },
      {
        "duration": 12,
        "start_time": "2024-04-19T13:59:57.680Z"
      },
      {
        "duration": 22,
        "start_time": "2024-04-19T13:59:57.694Z"
      },
      {
        "duration": 32,
        "start_time": "2024-04-19T13:59:57.717Z"
      },
      {
        "duration": 575,
        "start_time": "2024-04-19T14:02:11.966Z"
      },
      {
        "duration": 3,
        "start_time": "2024-04-19T14:02:12.543Z"
      },
      {
        "duration": 8210,
        "start_time": "2024-04-19T14:02:12.548Z"
      },
      {
        "duration": 57,
        "start_time": "2024-04-19T14:02:20.760Z"
      },
      {
        "duration": 43,
        "start_time": "2024-04-19T14:02:20.819Z"
      },
      {
        "duration": 11,
        "start_time": "2024-04-19T14:02:20.864Z"
      },
      {
        "duration": 57,
        "start_time": "2024-04-19T14:02:20.876Z"
      },
      {
        "duration": 13,
        "start_time": "2024-04-19T14:02:20.935Z"
      },
      {
        "duration": 33,
        "start_time": "2024-04-19T14:02:20.950Z"
      },
      {
        "duration": 27,
        "start_time": "2024-04-19T14:02:20.986Z"
      },
      {
        "duration": 50,
        "start_time": "2024-04-19T14:02:21.015Z"
      },
      {
        "duration": 45,
        "start_time": "2024-04-19T14:02:21.068Z"
      },
      {
        "duration": 39,
        "start_time": "2024-04-19T14:02:21.115Z"
      },
      {
        "duration": 17,
        "start_time": "2024-04-19T14:02:21.155Z"
      },
      {
        "duration": 12,
        "start_time": "2024-04-19T14:02:21.174Z"
      },
      {
        "duration": 11,
        "start_time": "2024-04-19T14:02:21.188Z"
      },
      {
        "duration": 44,
        "start_time": "2024-04-19T14:02:21.201Z"
      },
      {
        "duration": 12,
        "start_time": "2024-04-19T14:02:21.247Z"
      },
      {
        "duration": 116,
        "start_time": "2024-04-19T14:08:15.695Z"
      },
      {
        "duration": 17,
        "start_time": "2024-04-19T14:45:38.235Z"
      },
      {
        "duration": 555,
        "start_time": "2024-04-19T14:45:49.071Z"
      },
      {
        "duration": 3,
        "start_time": "2024-04-19T14:45:49.628Z"
      },
      {
        "duration": 8018,
        "start_time": "2024-04-19T14:45:49.633Z"
      },
      {
        "duration": 57,
        "start_time": "2024-04-19T14:45:57.653Z"
      },
      {
        "duration": 39,
        "start_time": "2024-04-19T14:45:57.711Z"
      },
      {
        "duration": 10,
        "start_time": "2024-04-19T14:45:57.751Z"
      },
      {
        "duration": 38,
        "start_time": "2024-04-19T14:45:57.763Z"
      },
      {
        "duration": 11,
        "start_time": "2024-04-19T14:45:57.803Z"
      },
      {
        "duration": 15,
        "start_time": "2024-04-19T14:45:57.816Z"
      },
      {
        "duration": 20,
        "start_time": "2024-04-19T14:45:57.834Z"
      },
      {
        "duration": 28,
        "start_time": "2024-04-19T14:45:57.855Z"
      },
      {
        "duration": 32,
        "start_time": "2024-04-19T14:45:57.884Z"
      },
      {
        "duration": 18,
        "start_time": "2024-04-19T14:45:57.917Z"
      },
      {
        "duration": 29,
        "start_time": "2024-04-19T14:45:57.936Z"
      },
      {
        "duration": 36,
        "start_time": "2024-04-19T14:45:57.966Z"
      },
      {
        "duration": 23,
        "start_time": "2024-04-19T14:45:58.004Z"
      },
      {
        "duration": 27,
        "start_time": "2024-04-19T14:45:58.029Z"
      },
      {
        "duration": 23,
        "start_time": "2024-04-19T14:45:58.058Z"
      },
      {
        "duration": 463,
        "start_time": "2024-04-19T16:24:44.715Z"
      },
      {
        "duration": 3,
        "start_time": "2024-04-19T16:24:45.180Z"
      },
      {
        "duration": 5054,
        "start_time": "2024-04-19T16:24:45.185Z"
      },
      {
        "duration": 232,
        "start_time": "2024-04-19T16:24:50.240Z"
      },
      {
        "duration": 151,
        "start_time": "2024-04-19T16:24:50.474Z"
      },
      {
        "duration": 50,
        "start_time": "2024-04-19T16:24:50.626Z"
      },
      {
        "duration": 50,
        "start_time": "2024-04-19T16:24:50.677Z"
      },
      {
        "duration": 50,
        "start_time": "2024-04-19T16:24:50.729Z"
      },
      {
        "duration": 50,
        "start_time": "2024-04-19T16:24:50.780Z"
      },
      {
        "duration": 51,
        "start_time": "2024-04-19T16:24:50.832Z"
      },
      {
        "duration": 50,
        "start_time": "2024-04-19T16:24:50.884Z"
      },
      {
        "duration": 51,
        "start_time": "2024-04-19T16:24:50.935Z"
      },
      {
        "duration": 50,
        "start_time": "2024-04-19T16:24:50.988Z"
      },
      {
        "duration": 49,
        "start_time": "2024-04-19T16:24:51.040Z"
      },
      {
        "duration": 95,
        "start_time": "2024-04-19T16:24:51.090Z"
      },
      {
        "duration": 56,
        "start_time": "2024-04-19T16:24:51.187Z"
      },
      {
        "duration": 57,
        "start_time": "2024-04-19T16:24:51.244Z"
      },
      {
        "duration": 53,
        "start_time": "2024-04-19T16:24:51.302Z"
      },
      {
        "duration": 472,
        "start_time": "2024-04-19T17:56:19.520Z"
      },
      {
        "duration": 3,
        "start_time": "2024-04-19T17:56:19.994Z"
      },
      {
        "duration": 8214,
        "start_time": "2024-04-19T17:56:19.998Z"
      },
      {
        "duration": 48,
        "start_time": "2024-04-19T17:56:28.214Z"
      },
      {
        "duration": 39,
        "start_time": "2024-04-19T17:56:28.264Z"
      },
      {
        "duration": 9,
        "start_time": "2024-04-19T17:56:28.304Z"
      },
      {
        "duration": 16,
        "start_time": "2024-04-19T17:56:28.314Z"
      },
      {
        "duration": 10,
        "start_time": "2024-04-19T17:56:28.332Z"
      },
      {
        "duration": 8,
        "start_time": "2024-04-19T17:56:28.344Z"
      },
      {
        "duration": 19,
        "start_time": "2024-04-19T17:56:28.354Z"
      },
      {
        "duration": 9,
        "start_time": "2024-04-19T17:56:28.374Z"
      },
      {
        "duration": 17,
        "start_time": "2024-04-19T17:56:28.384Z"
      },
      {
        "duration": 9,
        "start_time": "2024-04-19T17:56:28.402Z"
      },
      {
        "duration": 14,
        "start_time": "2024-04-19T17:56:28.412Z"
      },
      {
        "duration": 83,
        "start_time": "2024-04-19T17:56:28.427Z"
      },
      {
        "duration": 0,
        "start_time": "2024-04-19T17:56:28.511Z"
      },
      {
        "duration": 0,
        "start_time": "2024-04-19T17:56:28.512Z"
      },
      {
        "duration": 0,
        "start_time": "2024-04-19T17:56:28.513Z"
      },
      {
        "duration": 528,
        "start_time": "2024-04-19T17:59:12.148Z"
      },
      {
        "duration": 3,
        "start_time": "2024-04-19T17:59:12.678Z"
      },
      {
        "duration": 8628,
        "start_time": "2024-04-19T17:59:12.682Z"
      },
      {
        "duration": 48,
        "start_time": "2024-04-19T17:59:21.311Z"
      },
      {
        "duration": 37,
        "start_time": "2024-04-19T17:59:21.361Z"
      },
      {
        "duration": 10,
        "start_time": "2024-04-19T17:59:21.399Z"
      },
      {
        "duration": 9,
        "start_time": "2024-04-19T17:59:21.410Z"
      },
      {
        "duration": 19,
        "start_time": "2024-04-19T17:59:21.422Z"
      },
      {
        "duration": 9,
        "start_time": "2024-04-19T17:59:21.443Z"
      },
      {
        "duration": 11,
        "start_time": "2024-04-19T17:59:21.455Z"
      },
      {
        "duration": 9,
        "start_time": "2024-04-19T17:59:21.467Z"
      },
      {
        "duration": 10,
        "start_time": "2024-04-19T17:59:21.477Z"
      },
      {
        "duration": 9,
        "start_time": "2024-04-19T17:59:21.488Z"
      },
      {
        "duration": 9,
        "start_time": "2024-04-19T17:59:21.498Z"
      },
      {
        "duration": 28,
        "start_time": "2024-04-19T17:59:21.508Z"
      },
      {
        "duration": 24,
        "start_time": "2024-04-19T17:59:21.538Z"
      },
      {
        "duration": 15,
        "start_time": "2024-04-19T17:59:21.563Z"
      },
      {
        "duration": 12,
        "start_time": "2024-04-19T17:59:21.580Z"
      },
      {
        "duration": 487,
        "start_time": "2024-04-19T18:01:13.195Z"
      },
      {
        "duration": 3,
        "start_time": "2024-04-19T18:01:13.683Z"
      },
      {
        "duration": 8162,
        "start_time": "2024-04-19T18:01:13.687Z"
      },
      {
        "duration": 44,
        "start_time": "2024-04-19T18:01:21.851Z"
      },
      {
        "duration": 37,
        "start_time": "2024-04-19T18:01:21.897Z"
      },
      {
        "duration": 10,
        "start_time": "2024-04-19T18:01:21.936Z"
      },
      {
        "duration": 8,
        "start_time": "2024-04-19T18:01:21.947Z"
      },
      {
        "duration": 10,
        "start_time": "2024-04-19T18:01:21.956Z"
      },
      {
        "duration": 10,
        "start_time": "2024-04-19T18:01:21.968Z"
      },
      {
        "duration": 11,
        "start_time": "2024-04-19T18:01:21.980Z"
      },
      {
        "duration": 8,
        "start_time": "2024-04-19T18:01:21.992Z"
      },
      {
        "duration": 10,
        "start_time": "2024-04-19T18:01:22.002Z"
      },
      {
        "duration": 11,
        "start_time": "2024-04-19T18:01:22.014Z"
      },
      {
        "duration": 34,
        "start_time": "2024-04-19T18:01:22.026Z"
      },
      {
        "duration": 28,
        "start_time": "2024-04-19T18:01:22.062Z"
      },
      {
        "duration": 11,
        "start_time": "2024-04-19T18:01:22.092Z"
      },
      {
        "duration": 15,
        "start_time": "2024-04-19T18:01:22.104Z"
      },
      {
        "duration": 35,
        "start_time": "2024-04-19T18:01:22.121Z"
      },
      {
        "duration": 556,
        "start_time": "2024-04-19T18:08:50.728Z"
      },
      {
        "duration": 3,
        "start_time": "2024-04-19T18:08:51.285Z"
      },
      {
        "duration": 8697,
        "start_time": "2024-04-19T18:08:51.289Z"
      },
      {
        "duration": 41,
        "start_time": "2024-04-19T18:08:59.988Z"
      },
      {
        "duration": 26,
        "start_time": "2024-04-19T18:09:00.031Z"
      },
      {
        "duration": 80,
        "start_time": "2024-04-19T18:09:00.058Z"
      },
      {
        "duration": 25,
        "start_time": "2024-04-19T18:09:00.139Z"
      },
      {
        "duration": 34,
        "start_time": "2024-04-19T18:09:00.165Z"
      },
      {
        "duration": 64,
        "start_time": "2024-04-19T18:09:00.201Z"
      },
      {
        "duration": 63,
        "start_time": "2024-04-19T18:09:00.267Z"
      },
      {
        "duration": 107,
        "start_time": "2024-04-19T18:09:00.331Z"
      },
      {
        "duration": 96,
        "start_time": "2024-04-19T18:09:00.440Z"
      },
      {
        "duration": 41,
        "start_time": "2024-04-19T18:09:00.537Z"
      },
      {
        "duration": 33,
        "start_time": "2024-04-19T18:09:00.580Z"
      },
      {
        "duration": 60,
        "start_time": "2024-04-19T18:09:00.614Z"
      },
      {
        "duration": 82,
        "start_time": "2024-04-19T18:09:00.676Z"
      },
      {
        "duration": 0,
        "start_time": "2024-04-19T18:09:00.759Z"
      },
      {
        "duration": 0,
        "start_time": "2024-04-19T18:09:00.760Z"
      },
      {
        "duration": 0,
        "start_time": "2024-04-19T18:09:00.761Z"
      },
      {
        "duration": 533,
        "start_time": "2024-04-19T18:09:59.755Z"
      },
      {
        "duration": 3,
        "start_time": "2024-04-19T18:10:00.289Z"
      },
      {
        "duration": 8726,
        "start_time": "2024-04-19T18:10:00.294Z"
      },
      {
        "duration": 50,
        "start_time": "2024-04-19T18:10:09.021Z"
      },
      {
        "duration": 28,
        "start_time": "2024-04-19T18:10:09.072Z"
      },
      {
        "duration": 9,
        "start_time": "2024-04-19T18:10:09.102Z"
      },
      {
        "duration": 28,
        "start_time": "2024-04-19T18:10:09.112Z"
      },
      {
        "duration": 23,
        "start_time": "2024-04-19T18:10:09.141Z"
      },
      {
        "duration": 9,
        "start_time": "2024-04-19T18:10:09.165Z"
      },
      {
        "duration": 26,
        "start_time": "2024-04-19T18:10:09.176Z"
      },
      {
        "duration": 18,
        "start_time": "2024-04-19T18:10:09.204Z"
      },
      {
        "duration": 16,
        "start_time": "2024-04-19T18:10:09.223Z"
      },
      {
        "duration": 14,
        "start_time": "2024-04-19T18:10:09.241Z"
      },
      {
        "duration": 23,
        "start_time": "2024-04-19T18:10:09.256Z"
      },
      {
        "duration": 64,
        "start_time": "2024-04-19T18:10:09.281Z"
      },
      {
        "duration": 22,
        "start_time": "2024-04-19T18:10:09.346Z"
      },
      {
        "duration": 30,
        "start_time": "2024-04-19T18:10:09.369Z"
      },
      {
        "duration": 43,
        "start_time": "2024-04-19T18:10:09.401Z"
      },
      {
        "duration": 18,
        "start_time": "2024-04-19T18:10:09.446Z"
      },
      {
        "duration": 506,
        "start_time": "2024-04-19T18:12:42.457Z"
      },
      {
        "duration": 3,
        "start_time": "2024-04-19T18:12:42.965Z"
      },
      {
        "duration": 8405,
        "start_time": "2024-04-19T18:12:42.969Z"
      },
      {
        "duration": 40,
        "start_time": "2024-04-19T18:12:51.376Z"
      },
      {
        "duration": 15,
        "start_time": "2024-04-19T18:12:51.418Z"
      },
      {
        "duration": 10,
        "start_time": "2024-04-19T18:12:51.434Z"
      },
      {
        "duration": 8,
        "start_time": "2024-04-19T18:12:51.446Z"
      },
      {
        "duration": 9,
        "start_time": "2024-04-19T18:12:51.456Z"
      },
      {
        "duration": 8,
        "start_time": "2024-04-19T18:12:51.467Z"
      },
      {
        "duration": 13,
        "start_time": "2024-04-19T18:12:51.477Z"
      },
      {
        "duration": 9,
        "start_time": "2024-04-19T18:12:51.492Z"
      },
      {
        "duration": 16,
        "start_time": "2024-04-19T18:12:51.502Z"
      },
      {
        "duration": 9,
        "start_time": "2024-04-19T18:12:51.519Z"
      },
      {
        "duration": 11,
        "start_time": "2024-04-19T18:12:51.529Z"
      },
      {
        "duration": 40,
        "start_time": "2024-04-19T18:12:51.542Z"
      },
      {
        "duration": 22,
        "start_time": "2024-04-19T18:12:51.584Z"
      },
      {
        "duration": 11,
        "start_time": "2024-04-19T18:12:51.607Z"
      },
      {
        "duration": 17,
        "start_time": "2024-04-19T18:12:51.619Z"
      },
      {
        "duration": 18,
        "start_time": "2024-04-19T18:12:51.637Z"
      },
      {
        "duration": 543,
        "start_time": "2024-04-19T18:13:29.534Z"
      },
      {
        "duration": 4,
        "start_time": "2024-04-19T18:13:30.080Z"
      },
      {
        "duration": 12080,
        "start_time": "2024-04-19T18:13:30.085Z"
      },
      {
        "duration": 50,
        "start_time": "2024-04-19T18:13:42.167Z"
      },
      {
        "duration": 33,
        "start_time": "2024-04-19T18:13:42.219Z"
      },
      {
        "duration": 9,
        "start_time": "2024-04-19T18:13:42.253Z"
      },
      {
        "duration": 8,
        "start_time": "2024-04-19T18:13:42.264Z"
      },
      {
        "duration": 18,
        "start_time": "2024-04-19T18:13:42.273Z"
      },
      {
        "duration": 12,
        "start_time": "2024-04-19T18:13:42.293Z"
      },
      {
        "duration": 10,
        "start_time": "2024-04-19T18:13:42.307Z"
      },
      {
        "duration": 10,
        "start_time": "2024-04-19T18:13:42.319Z"
      },
      {
        "duration": 16,
        "start_time": "2024-04-19T18:13:42.331Z"
      },
      {
        "duration": 9,
        "start_time": "2024-04-19T18:13:42.358Z"
      },
      {
        "duration": 24,
        "start_time": "2024-04-19T18:13:42.368Z"
      },
      {
        "duration": 30,
        "start_time": "2024-04-19T18:13:42.393Z"
      },
      {
        "duration": 24,
        "start_time": "2024-04-19T18:13:42.425Z"
      },
      {
        "duration": 11,
        "start_time": "2024-04-19T18:13:42.450Z"
      },
      {
        "duration": 24,
        "start_time": "2024-04-19T18:13:42.462Z"
      },
      {
        "duration": 12,
        "start_time": "2024-04-19T18:13:42.488Z"
      },
      {
        "duration": 490,
        "start_time": "2024-04-19T18:15:08.021Z"
      },
      {
        "duration": 3,
        "start_time": "2024-04-19T18:15:08.513Z"
      },
      {
        "duration": 8622,
        "start_time": "2024-04-19T18:15:08.518Z"
      },
      {
        "duration": 47,
        "start_time": "2024-04-19T18:15:17.142Z"
      },
      {
        "duration": 39,
        "start_time": "2024-04-19T18:15:17.190Z"
      },
      {
        "duration": 10,
        "start_time": "2024-04-19T18:15:17.230Z"
      },
      {
        "duration": 9,
        "start_time": "2024-04-19T18:15:17.241Z"
      },
      {
        "duration": 10,
        "start_time": "2024-04-19T18:15:17.251Z"
      },
      {
        "duration": 9,
        "start_time": "2024-04-19T18:15:17.262Z"
      },
      {
        "duration": 9,
        "start_time": "2024-04-19T18:15:17.273Z"
      },
      {
        "duration": 9,
        "start_time": "2024-04-19T18:15:17.283Z"
      },
      {
        "duration": 11,
        "start_time": "2024-04-19T18:15:17.293Z"
      },
      {
        "duration": 9,
        "start_time": "2024-04-19T18:15:17.305Z"
      },
      {
        "duration": 8,
        "start_time": "2024-04-19T18:15:17.315Z"
      },
      {
        "duration": 92,
        "start_time": "2024-04-19T18:15:17.324Z"
      },
      {
        "duration": 0,
        "start_time": "2024-04-19T18:15:17.417Z"
      },
      {
        "duration": 0,
        "start_time": "2024-04-19T18:15:17.418Z"
      },
      {
        "duration": 0,
        "start_time": "2024-04-19T18:15:17.419Z"
      },
      {
        "duration": 0,
        "start_time": "2024-04-19T18:15:17.421Z"
      },
      {
        "duration": 482,
        "start_time": "2024-04-19T18:15:58.625Z"
      },
      {
        "duration": 3,
        "start_time": "2024-04-19T18:15:59.109Z"
      },
      {
        "duration": 10005,
        "start_time": "2024-04-19T18:15:59.113Z"
      },
      {
        "duration": 42,
        "start_time": "2024-04-19T18:16:09.120Z"
      },
      {
        "duration": 23,
        "start_time": "2024-04-19T18:16:09.163Z"
      },
      {
        "duration": 8,
        "start_time": "2024-04-19T18:16:09.187Z"
      },
      {
        "duration": 18,
        "start_time": "2024-04-19T18:16:09.196Z"
      },
      {
        "duration": 8,
        "start_time": "2024-04-19T18:16:09.216Z"
      },
      {
        "duration": 9,
        "start_time": "2024-04-19T18:16:09.225Z"
      },
      {
        "duration": 10,
        "start_time": "2024-04-19T18:16:09.236Z"
      },
      {
        "duration": 22,
        "start_time": "2024-04-19T18:16:09.247Z"
      },
      {
        "duration": 13,
        "start_time": "2024-04-19T18:16:09.271Z"
      },
      {
        "duration": 7,
        "start_time": "2024-04-19T18:16:09.286Z"
      },
      {
        "duration": 8,
        "start_time": "2024-04-19T18:16:09.295Z"
      },
      {
        "duration": 32,
        "start_time": "2024-04-19T18:16:09.304Z"
      },
      {
        "duration": 21,
        "start_time": "2024-04-19T18:16:09.338Z"
      },
      {
        "duration": 10,
        "start_time": "2024-04-19T18:16:09.360Z"
      },
      {
        "duration": 14,
        "start_time": "2024-04-19T18:16:09.371Z"
      },
      {
        "duration": 12,
        "start_time": "2024-04-19T18:16:09.386Z"
      },
      {
        "duration": 480,
        "start_time": "2024-04-19T18:18:26.585Z"
      },
      {
        "duration": 3,
        "start_time": "2024-04-19T18:18:27.067Z"
      },
      {
        "duration": 8305,
        "start_time": "2024-04-19T18:18:27.071Z"
      },
      {
        "duration": 39,
        "start_time": "2024-04-19T18:18:35.377Z"
      },
      {
        "duration": 39,
        "start_time": "2024-04-19T18:18:35.417Z"
      },
      {
        "duration": 12,
        "start_time": "2024-04-19T18:18:35.457Z"
      },
      {
        "duration": 35,
        "start_time": "2024-04-19T18:18:35.470Z"
      },
      {
        "duration": 10,
        "start_time": "2024-04-19T18:18:35.506Z"
      },
      {
        "duration": 10,
        "start_time": "2024-04-19T18:18:35.518Z"
      },
      {
        "duration": 13,
        "start_time": "2024-04-19T18:18:35.531Z"
      },
      {
        "duration": 9,
        "start_time": "2024-04-19T18:18:35.546Z"
      },
      {
        "duration": 10,
        "start_time": "2024-04-19T18:18:35.557Z"
      },
      {
        "duration": 8,
        "start_time": "2024-04-19T18:18:35.569Z"
      },
      {
        "duration": 27,
        "start_time": "2024-04-19T18:18:35.579Z"
      },
      {
        "duration": 87,
        "start_time": "2024-04-19T18:18:35.607Z"
      },
      {
        "duration": 0,
        "start_time": "2024-04-19T18:18:35.696Z"
      },
      {
        "duration": 0,
        "start_time": "2024-04-19T18:18:35.698Z"
      },
      {
        "duration": 0,
        "start_time": "2024-04-19T18:18:35.700Z"
      },
      {
        "duration": 0,
        "start_time": "2024-04-19T18:18:35.701Z"
      },
      {
        "duration": 521,
        "start_time": "2024-04-19T18:20:21.471Z"
      },
      {
        "duration": 4,
        "start_time": "2024-04-19T18:20:21.994Z"
      },
      {
        "duration": 8240,
        "start_time": "2024-04-19T18:20:22.000Z"
      },
      {
        "duration": 58,
        "start_time": "2024-04-19T18:20:30.243Z"
      },
      {
        "duration": 87,
        "start_time": "2024-04-19T18:20:30.302Z"
      },
      {
        "duration": 76,
        "start_time": "2024-04-19T18:20:30.390Z"
      },
      {
        "duration": 60,
        "start_time": "2024-04-19T18:20:30.468Z"
      },
      {
        "duration": 59,
        "start_time": "2024-04-19T18:20:30.530Z"
      },
      {
        "duration": 99,
        "start_time": "2024-04-19T18:20:30.590Z"
      },
      {
        "duration": 52,
        "start_time": "2024-04-19T18:20:30.690Z"
      },
      {
        "duration": 54,
        "start_time": "2024-04-19T18:20:30.744Z"
      },
      {
        "duration": 52,
        "start_time": "2024-04-19T18:20:30.799Z"
      },
      {
        "duration": 40,
        "start_time": "2024-04-19T18:20:30.854Z"
      },
      {
        "duration": 39,
        "start_time": "2024-04-19T18:20:30.896Z"
      },
      {
        "duration": 121,
        "start_time": "2024-04-19T18:20:30.937Z"
      },
      {
        "duration": 0,
        "start_time": "2024-04-19T18:20:31.060Z"
      },
      {
        "duration": 0,
        "start_time": "2024-04-19T18:20:31.061Z"
      },
      {
        "duration": 0,
        "start_time": "2024-04-19T18:20:31.062Z"
      },
      {
        "duration": 0,
        "start_time": "2024-04-19T18:20:31.063Z"
      },
      {
        "duration": 527,
        "start_time": "2024-04-19T18:26:34.370Z"
      },
      {
        "duration": 4,
        "start_time": "2024-04-19T18:26:34.898Z"
      },
      {
        "duration": 8399,
        "start_time": "2024-04-19T18:26:34.903Z"
      },
      {
        "duration": 50,
        "start_time": "2024-04-19T18:26:43.304Z"
      },
      {
        "duration": 31,
        "start_time": "2024-04-19T18:26:43.355Z"
      },
      {
        "duration": 9,
        "start_time": "2024-04-19T18:26:43.388Z"
      },
      {
        "duration": 9,
        "start_time": "2024-04-19T18:26:43.398Z"
      },
      {
        "duration": 10,
        "start_time": "2024-04-19T18:26:43.408Z"
      },
      {
        "duration": 9,
        "start_time": "2024-04-19T18:26:43.420Z"
      },
      {
        "duration": 10,
        "start_time": "2024-04-19T18:26:43.431Z"
      },
      {
        "duration": 16,
        "start_time": "2024-04-19T18:26:43.443Z"
      },
      {
        "duration": 11,
        "start_time": "2024-04-19T18:26:43.461Z"
      },
      {
        "duration": 9,
        "start_time": "2024-04-19T18:26:43.473Z"
      },
      {
        "duration": 10,
        "start_time": "2024-04-19T18:26:43.483Z"
      },
      {
        "duration": 27,
        "start_time": "2024-04-19T18:26:43.494Z"
      },
      {
        "duration": 22,
        "start_time": "2024-04-19T18:26:43.523Z"
      },
      {
        "duration": 20,
        "start_time": "2024-04-19T18:26:43.546Z"
      },
      {
        "duration": 15,
        "start_time": "2024-04-19T18:26:43.567Z"
      },
      {
        "duration": 19,
        "start_time": "2024-04-19T18:26:43.584Z"
      },
      {
        "duration": 533,
        "start_time": "2024-04-19T18:30:16.140Z"
      },
      {
        "duration": 3,
        "start_time": "2024-04-19T18:30:16.674Z"
      },
      {
        "duration": 8288,
        "start_time": "2024-04-19T18:30:16.679Z"
      },
      {
        "duration": 54,
        "start_time": "2024-04-19T18:30:24.969Z"
      },
      {
        "duration": 28,
        "start_time": "2024-04-19T18:30:25.024Z"
      },
      {
        "duration": 10,
        "start_time": "2024-04-19T18:30:25.053Z"
      },
      {
        "duration": 9,
        "start_time": "2024-04-19T18:30:25.064Z"
      },
      {
        "duration": 9,
        "start_time": "2024-04-19T18:30:25.074Z"
      },
      {
        "duration": 8,
        "start_time": "2024-04-19T18:30:25.084Z"
      },
      {
        "duration": 10,
        "start_time": "2024-04-19T18:30:25.094Z"
      },
      {
        "duration": 10,
        "start_time": "2024-04-19T18:30:25.105Z"
      },
      {
        "duration": 30,
        "start_time": "2024-04-19T18:30:25.117Z"
      },
      {
        "duration": 15,
        "start_time": "2024-04-19T18:30:25.148Z"
      },
      {
        "duration": 10,
        "start_time": "2024-04-19T18:30:25.164Z"
      },
      {
        "duration": 29,
        "start_time": "2024-04-19T18:30:25.175Z"
      },
      {
        "duration": 18,
        "start_time": "2024-04-19T18:30:25.206Z"
      },
      {
        "duration": 12,
        "start_time": "2024-04-19T18:30:25.226Z"
      },
      {
        "duration": 20,
        "start_time": "2024-04-19T18:30:25.239Z"
      },
      {
        "duration": 13,
        "start_time": "2024-04-19T18:30:25.261Z"
      },
      {
        "duration": 531,
        "start_time": "2024-04-19T18:37:03.059Z"
      },
      {
        "duration": 3,
        "start_time": "2024-04-19T18:37:03.592Z"
      },
      {
        "duration": 9005,
        "start_time": "2024-04-19T18:37:03.597Z"
      },
      {
        "duration": 49,
        "start_time": "2024-04-19T18:37:12.604Z"
      },
      {
        "duration": 21,
        "start_time": "2024-04-19T18:37:12.654Z"
      },
      {
        "duration": 9,
        "start_time": "2024-04-19T18:37:12.677Z"
      },
      {
        "duration": 8,
        "start_time": "2024-04-19T18:37:12.687Z"
      },
      {
        "duration": 23,
        "start_time": "2024-04-19T18:37:12.696Z"
      },
      {
        "duration": 9,
        "start_time": "2024-04-19T18:37:12.720Z"
      },
      {
        "duration": 10,
        "start_time": "2024-04-19T18:37:12.730Z"
      },
      {
        "duration": 9,
        "start_time": "2024-04-19T18:37:12.741Z"
      },
      {
        "duration": 10,
        "start_time": "2024-04-19T18:37:12.752Z"
      },
      {
        "duration": 29,
        "start_time": "2024-04-19T18:37:12.763Z"
      },
      {
        "duration": 15,
        "start_time": "2024-04-19T18:37:12.793Z"
      },
      {
        "duration": 20,
        "start_time": "2024-04-19T18:37:12.809Z"
      },
      {
        "duration": 19,
        "start_time": "2024-04-19T18:37:12.831Z"
      },
      {
        "duration": 14,
        "start_time": "2024-04-19T18:37:12.851Z"
      },
      {
        "duration": 14,
        "start_time": "2024-04-19T18:37:12.867Z"
      },
      {
        "duration": 11,
        "start_time": "2024-04-19T18:37:12.883Z"
      },
      {
        "duration": 499,
        "start_time": "2024-04-19T18:38:47.480Z"
      },
      {
        "duration": 2,
        "start_time": "2024-04-19T18:38:47.981Z"
      },
      {
        "duration": 8268,
        "start_time": "2024-04-19T18:38:47.985Z"
      },
      {
        "duration": 57,
        "start_time": "2024-04-19T18:38:56.254Z"
      },
      {
        "duration": 33,
        "start_time": "2024-04-19T18:38:56.313Z"
      },
      {
        "duration": 11,
        "start_time": "2024-04-19T18:38:56.348Z"
      },
      {
        "duration": 21,
        "start_time": "2024-04-19T18:38:56.361Z"
      },
      {
        "duration": 10,
        "start_time": "2024-04-19T18:38:56.384Z"
      },
      {
        "duration": 12,
        "start_time": "2024-04-19T18:38:56.395Z"
      },
      {
        "duration": 10,
        "start_time": "2024-04-19T18:38:56.409Z"
      },
      {
        "duration": 10,
        "start_time": "2024-04-19T18:38:56.420Z"
      },
      {
        "duration": 27,
        "start_time": "2024-04-19T18:38:56.432Z"
      },
      {
        "duration": 10,
        "start_time": "2024-04-19T18:38:56.460Z"
      },
      {
        "duration": 9,
        "start_time": "2024-04-19T18:38:56.471Z"
      },
      {
        "duration": 27,
        "start_time": "2024-04-19T18:38:56.482Z"
      },
      {
        "duration": 16,
        "start_time": "2024-04-19T18:38:56.511Z"
      },
      {
        "duration": 11,
        "start_time": "2024-04-19T18:38:56.528Z"
      },
      {
        "duration": 19,
        "start_time": "2024-04-19T18:38:56.540Z"
      },
      {
        "duration": 11,
        "start_time": "2024-04-19T18:38:56.561Z"
      },
      {
        "duration": 495,
        "start_time": "2024-04-19T18:40:05.497Z"
      },
      {
        "duration": 3,
        "start_time": "2024-04-19T18:40:05.994Z"
      },
      {
        "duration": 8445,
        "start_time": "2024-04-19T18:40:05.998Z"
      },
      {
        "duration": 44,
        "start_time": "2024-04-19T18:40:14.445Z"
      },
      {
        "duration": 37,
        "start_time": "2024-04-19T18:40:14.490Z"
      },
      {
        "duration": 10,
        "start_time": "2024-04-19T18:40:14.528Z"
      },
      {
        "duration": 14,
        "start_time": "2024-04-19T18:40:14.539Z"
      },
      {
        "duration": 9,
        "start_time": "2024-04-19T18:40:14.555Z"
      },
      {
        "duration": 17,
        "start_time": "2024-04-19T18:40:14.565Z"
      },
      {
        "duration": 10,
        "start_time": "2024-04-19T18:40:14.584Z"
      },
      {
        "duration": 9,
        "start_time": "2024-04-19T18:40:14.596Z"
      },
      {
        "duration": 11,
        "start_time": "2024-04-19T18:40:14.606Z"
      },
      {
        "duration": 9,
        "start_time": "2024-04-19T18:40:14.618Z"
      },
      {
        "duration": 9,
        "start_time": "2024-04-19T18:40:14.628Z"
      },
      {
        "duration": 31,
        "start_time": "2024-04-19T18:40:14.639Z"
      },
      {
        "duration": 17,
        "start_time": "2024-04-19T18:40:14.671Z"
      },
      {
        "duration": 11,
        "start_time": "2024-04-19T18:40:14.690Z"
      },
      {
        "duration": 19,
        "start_time": "2024-04-19T18:40:14.702Z"
      },
      {
        "duration": 11,
        "start_time": "2024-04-19T18:40:14.723Z"
      },
      {
        "duration": 456,
        "start_time": "2024-04-19T18:54:56.611Z"
      },
      {
        "duration": 3,
        "start_time": "2024-04-19T18:54:57.069Z"
      },
      {
        "duration": 8364,
        "start_time": "2024-04-19T18:54:57.073Z"
      },
      {
        "duration": 53,
        "start_time": "2024-04-19T18:55:05.439Z"
      },
      {
        "duration": 40,
        "start_time": "2024-04-19T18:55:05.493Z"
      },
      {
        "duration": 11,
        "start_time": "2024-04-19T18:55:05.535Z"
      },
      {
        "duration": 8,
        "start_time": "2024-04-19T18:55:05.548Z"
      },
      {
        "duration": 14,
        "start_time": "2024-04-19T18:55:05.557Z"
      },
      {
        "duration": 10,
        "start_time": "2024-04-19T18:55:05.573Z"
      },
      {
        "duration": 16,
        "start_time": "2024-04-19T18:55:05.585Z"
      },
      {
        "duration": 8,
        "start_time": "2024-04-19T18:55:05.602Z"
      },
      {
        "duration": 27,
        "start_time": "2024-04-19T18:55:05.612Z"
      },
      {
        "duration": 9,
        "start_time": "2024-04-19T18:55:05.640Z"
      },
      {
        "duration": 9,
        "start_time": "2024-04-19T18:55:05.650Z"
      },
      {
        "duration": 29,
        "start_time": "2024-04-19T18:55:05.660Z"
      },
      {
        "duration": 16,
        "start_time": "2024-04-19T18:55:05.691Z"
      },
      {
        "duration": 9,
        "start_time": "2024-04-19T18:55:05.709Z"
      },
      {
        "duration": 34,
        "start_time": "2024-04-19T18:55:05.719Z"
      },
      {
        "duration": 12,
        "start_time": "2024-04-19T18:55:05.754Z"
      },
      {
        "duration": 489,
        "start_time": "2024-04-19T19:04:36.782Z"
      },
      {
        "duration": 3,
        "start_time": "2024-04-19T19:04:37.273Z"
      },
      {
        "duration": 8475,
        "start_time": "2024-04-19T19:04:37.278Z"
      },
      {
        "duration": 54,
        "start_time": "2024-04-19T19:04:45.755Z"
      },
      {
        "duration": 38,
        "start_time": "2024-04-19T19:04:45.811Z"
      },
      {
        "duration": 10,
        "start_time": "2024-04-19T19:04:45.850Z"
      },
      {
        "duration": 9,
        "start_time": "2024-04-19T19:04:45.862Z"
      },
      {
        "duration": 9,
        "start_time": "2024-04-19T19:04:45.873Z"
      },
      {
        "duration": 8,
        "start_time": "2024-04-19T19:04:45.883Z"
      },
      {
        "duration": 10,
        "start_time": "2024-04-19T19:04:45.893Z"
      },
      {
        "duration": 8,
        "start_time": "2024-04-19T19:04:45.904Z"
      },
      {
        "duration": 10,
        "start_time": "2024-04-19T19:04:45.913Z"
      },
      {
        "duration": 35,
        "start_time": "2024-04-19T19:04:45.924Z"
      },
      {
        "duration": 10,
        "start_time": "2024-04-19T19:04:45.961Z"
      },
      {
        "duration": 56,
        "start_time": "2024-04-19T19:04:45.972Z"
      },
      {
        "duration": 17,
        "start_time": "2024-04-19T19:04:46.030Z"
      },
      {
        "duration": 11,
        "start_time": "2024-04-19T19:04:46.049Z"
      },
      {
        "duration": 16,
        "start_time": "2024-04-19T19:04:46.061Z"
      },
      {
        "duration": 12,
        "start_time": "2024-04-19T19:04:46.078Z"
      },
      {
        "duration": 509,
        "start_time": "2024-04-19T19:17:57.575Z"
      },
      {
        "duration": 3,
        "start_time": "2024-04-19T19:17:58.086Z"
      },
      {
        "duration": 8121,
        "start_time": "2024-04-19T19:17:58.090Z"
      },
      {
        "duration": 48,
        "start_time": "2024-04-19T19:18:06.213Z"
      },
      {
        "duration": 33,
        "start_time": "2024-04-19T19:18:06.262Z"
      },
      {
        "duration": 10,
        "start_time": "2024-04-19T19:18:06.298Z"
      },
      {
        "duration": 22,
        "start_time": "2024-04-19T19:18:06.309Z"
      },
      {
        "duration": 15,
        "start_time": "2024-04-19T19:18:06.332Z"
      },
      {
        "duration": 11,
        "start_time": "2024-04-19T19:18:06.348Z"
      },
      {
        "duration": 22,
        "start_time": "2024-04-19T19:18:06.361Z"
      },
      {
        "duration": 40,
        "start_time": "2024-04-19T19:18:06.384Z"
      },
      {
        "duration": 15,
        "start_time": "2024-04-19T19:18:06.426Z"
      },
      {
        "duration": 9,
        "start_time": "2024-04-19T19:18:06.443Z"
      },
      {
        "duration": 10,
        "start_time": "2024-04-19T19:18:06.454Z"
      },
      {
        "duration": 28,
        "start_time": "2024-04-19T19:18:06.466Z"
      },
      {
        "duration": 18,
        "start_time": "2024-04-19T19:18:06.495Z"
      },
      {
        "duration": 16,
        "start_time": "2024-04-19T19:18:06.514Z"
      },
      {
        "duration": 15,
        "start_time": "2024-04-19T19:18:06.532Z"
      },
      {
        "duration": 12,
        "start_time": "2024-04-19T19:18:06.549Z"
      }
    ],
    "kernelspec": {
      "display_name": "Python 3 (ipykernel)",
      "language": "python",
      "name": "python3"
    },
    "language_info": {
      "codemirror_mode": {
        "name": "ipython",
        "version": 3
      },
      "file_extension": ".py",
      "mimetype": "text/x-python",
      "name": "python",
      "nbconvert_exporter": "python",
      "pygments_lexer": "ipython3",
      "version": "3.9.5"
    },
    "toc": {
      "base_numbering": 1,
      "nav_menu": {},
      "number_sections": true,
      "sideBar": true,
      "skip_h1_title": true,
      "title_cell": "Table of Contents",
      "title_sidebar": "Contents",
      "toc_cell": false,
      "toc_position": {},
      "toc_section_display": true,
      "toc_window_display": true
    },
    "colab": {
      "provenance": []
    }
  },
  "nbformat": 4,
  "nbformat_minor": 0
}