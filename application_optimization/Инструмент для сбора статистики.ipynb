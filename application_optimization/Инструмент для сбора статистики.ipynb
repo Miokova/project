{
 "cells": [
  {
   "cell_type": "markdown",
   "metadata": {},
   "source": [
    "Задание:\n",
    "\n",
    "Инструмент для сбора статистики по использованию различных платформ для реализации вебсайтов.\n",
    "\n",
    "На любом языке программирования (даже на псевдокоде) напишите программу, которая будет получать от пользователя url и возвращать, реализован ли сайт с помощью wordpress или нет.\n",
    "\n",
    "Кратко (в 2-3 абзаца, не больше) опишите, как её нужно было бы расширить и/или какие дополнительные инструменты использовать, чтобы обеспечить проверку написанным кодом насколько получится большего числа сайтов во всей сети интернет. Расширенная программа/связка программ должна была бы возвращать процент сайтов в интернет, написанных на Wordpress."
   ]
  },
  {
   "cell_type": "code",
   "execution_count": null,
   "metadata": {},
   "outputs": [],
   "source": [
    "import requests\n",
    "from bs4 import BeautifulSoup\n",
    "import re\n",
    "\n",
    "def is_wordpress(url):\n",
    "    try:\n",
    "        response = requests.get(url)\n",
    "        if response.status_code == 200:\n",
    "            content = response.content\n",
    "            soup = BeautifulSoup(content, 'html.parser')\n",
    "            meta_generator_tag = soup.find('meta', attrs={'name': 'generator', 'content': re.compile('WordPress')})\n",
    "            if meta_generator_tag:\n",
    "                return True\n",
    "            else:\n",
    "                return False\n",
    "        else:\n",
    "            return \"Unable to access the URL\"\n",
    "    except Exception as e:\n",
    "        return \"Error occurred: {}\".format(str(e))\n",
    "\n",
    "url = \"https://example.com\"  # Replace with the URL you want to check\n",
    "result = is_wordpress(url)\n",
    "print(result)\n"
   ]
  },
  {
   "cell_type": "markdown",
   "metadata": {},
   "source": [
    "В этом примере функция is_wordpress отправляет запрос на указанный URL, извлекает содержимое HTML, а затем использует BeautifulSoup для анализа HTML. Она ищет мета-тег с именем \"generator\" и содержимое, содержащее ключевое слово \"WordPress\". Если такой тег найден, он возвращает значение True, указывая, что веб-сайт реализован с использованием WordPress, в противном случае он возвращает значение False. Кроме того, он обрабатывает потенциальные исключения, такие как ошибки подключения или проблемы с синтаксическим анализом.\n",
    "\n",
    "Это простой пример, и для более полного обнаружения можно рассмотреть дополнительные шаблоны или метаданные для повышения точности. Для более сложного решения, охватывающего большую выборку веб-сайтов, может быть полезна интеграция со специализированными инструментами сканирования веб-сайтов или плагинами SEO, как упоминалось в предыдущем ответе. Важно отметить, что очистка веб-сайтов вызывает этические и юридические соображения, и важно соблюдать условия использования очищаемых веб-сайтов."
   ]
  }
 ],
 "metadata": {
  "language_info": {
   "name": "python"
  }
 },
 "nbformat": 4,
 "nbformat_minor": 2
}
